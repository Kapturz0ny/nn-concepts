{
 "cells": [
  {
   "cell_type": "code",
   "execution_count": 15,
   "metadata": {
    "ExecuteTime": {
     "end_time": "2021-10-02T07:25:45.092215Z",
     "start_time": "2021-10-02T07:25:45.088628Z"
    }
   },
   "outputs": [],
   "source": [
    "import torch\n",
    "import numpy as np"
   ]
  },
  {
   "cell_type": "markdown",
   "metadata": {},
   "source": [
    "Tensory w PyTorchu to specjalne struktury danych które przypominają tablice/macierze. Używamy ich do przechowywania wejśc/wyjść z sieci jak również wag modelu.\n",
    "Tensory przypominają swoją budową tablice numpy https://numpy.org/, z zasadniczą różnicą ktorą jest łatwa możliwość przechowywania i operowania na tensorach na kartach graficznych "
   ]
  },
  {
   "cell_type": "markdown",
   "metadata": {},
   "source": [
    "Tensory mogą być tworzone w różny sposób:\n",
    "1. Ze standardowych tablic"
   ]
  },
  {
   "cell_type": "code",
   "execution_count": 16,
   "metadata": {
    "ExecuteTime": {
     "end_time": "2021-10-02T07:30:36.852716Z",
     "start_time": "2021-10-02T07:30:36.836701Z"
    }
   },
   "outputs": [
    {
     "data": {
      "text/plain": [
       "tensor([[1, 2],\n",
       "        [3, 4]])"
      ]
     },
     "execution_count": 16,
     "metadata": {},
     "output_type": "execute_result"
    }
   ],
   "source": [
    "data = [[1, 2],[3, 4]]\n",
    "x_data = torch.tensor(data)\n",
    "x_data"
   ]
  },
  {
   "cell_type": "markdown",
   "metadata": {
    "ExecuteTime": {
     "end_time": "2021-10-02T07:40:32.096100Z",
     "start_time": "2021-10-02T07:40:32.090797Z"
    }
   },
   "source": [
    "2. Na poodstawie tablic numpy"
   ]
  },
  {
   "cell_type": "code",
   "execution_count": 17,
   "metadata": {
    "ExecuteTime": {
     "end_time": "2021-10-02T07:30:58.706974Z",
     "start_time": "2021-10-02T07:30:58.700523Z"
    }
   },
   "outputs": [
    {
     "data": {
      "text/plain": [
       "tensor([[1, 2],\n",
       "        [3, 4]])"
      ]
     },
     "execution_count": 17,
     "metadata": {},
     "output_type": "execute_result"
    }
   ],
   "source": [
    "np_array = np.array(data)\n",
    "x_np = torch.from_numpy(np_array)\n",
    "x_np"
   ]
  },
  {
   "cell_type": "markdown",
   "metadata": {},
   "source": [
    "3. Na podstawie innych tensorów"
   ]
  },
  {
   "cell_type": "code",
   "execution_count": 18,
   "metadata": {
    "ExecuteTime": {
     "end_time": "2021-10-02T08:11:15.304729Z",
     "start_time": "2021-10-02T08:11:15.296087Z"
    },
    "scrolled": true
   },
   "outputs": [
    {
     "name": "stdout",
     "output_type": "stream",
     "text": [
      "Ones Tensor: \n",
      " tensor([[1, 1],\n",
      "        [1, 1]]) \n",
      "\n",
      "Random Tensor: \n",
      " tensor([[0.8174, 0.7392],\n",
      "        [0.8438, 0.1514]]) \n",
      "\n"
     ]
    }
   ],
   "source": [
    "# retains the device (cpu or gpu), the operation of switching is costly\n",
    "x_ones = torch.ones_like(x_data) # retains the properties of x_data\n",
    "print(f\"Ones Tensor: \\n {x_ones} \\n\")\n",
    "\n",
    "x_rand = torch.rand_like(x_data, dtype=torch.float) # overrides the datatype of x_data\n",
    "print(f\"Random Tensor: \\n {x_rand} \\n\") # from 0 to 1\n",
    "# randn normal distribution"
   ]
  },
  {
   "cell_type": "markdown",
   "metadata": {},
   "source": [
    "4. Z losowymi lub stałymi wartościami"
   ]
  },
  {
   "cell_type": "code",
   "execution_count": 19,
   "metadata": {
    "ExecuteTime": {
     "end_time": "2021-10-02T08:12:18.091063Z",
     "start_time": "2021-10-02T08:12:18.081252Z"
    }
   },
   "outputs": [
    {
     "name": "stdout",
     "output_type": "stream",
     "text": [
      "Random Tensor: \n",
      " tensor([[0.2758, 0.0965, 0.8653],\n",
      "        [0.7886, 0.7749, 0.1494]]) \n",
      "\n",
      "Ones Tensor: \n",
      " tensor([[1., 1., 1.],\n",
      "        [1., 1., 1.]]) \n",
      "\n",
      "Zeros Tensor: \n",
      " tensor([[0., 0., 0.],\n",
      "        [0., 0., 0.]]) \n",
      "\n"
     ]
    }
   ],
   "source": [
    "shape = (2,3,)\n",
    "rand_tensor = torch.rand(shape)\n",
    "print(f\"Random Tensor: \\n {rand_tensor} \\n\")\n",
    "ones_tensor = torch.ones(shape)\n",
    "print(f\"Ones Tensor: \\n {ones_tensor} \\n\")\n",
    "zeros_tensor = torch.zeros(shape)\n",
    "print(f\"Zeros Tensor: \\n {zeros_tensor} \\n\")"
   ]
  },
  {
   "cell_type": "markdown",
   "metadata": {},
   "source": [
    "### Atrybuty tensorów"
   ]
  },
  {
   "cell_type": "code",
   "execution_count": 20,
   "metadata": {
    "ExecuteTime": {
     "end_time": "2021-10-02T08:13:37.099437Z",
     "start_time": "2021-10-02T08:13:37.093178Z"
    }
   },
   "outputs": [
    {
     "name": "stdout",
     "output_type": "stream",
     "text": [
      "Shape of tensor: torch.Size([3, 4])\n",
      "Datatype of tensor: torch.float32\n",
      "Device tensor is stored on: cpu\n"
     ]
    }
   ],
   "source": [
    "tensor = torch.rand(3,4)\n",
    "\n",
    "print(f\"Shape of tensor: {tensor.shape}\")\n",
    "print(f\"Datatype of tensor: {tensor.dtype}\")\n",
    "print(f\"Device tensor is stored on: {tensor.device}\")"
   ]
  },
  {
   "cell_type": "markdown",
   "metadata": {},
   "source": [
    "### Operacje na tensorach"
   ]
  },
  {
   "cell_type": "markdown",
   "metadata": {},
   "source": [
    "Nie ma co się bać dokumentacji! (Jest bardzo przyjemnie napisana) Wszystkie operacje na tensorach są opisane tutaj: https://pytorch.org/docs/stable/torch.html\n",
    "Standardowo operacje są uruchamiane na CPU, ale można przenosić tensory, całe modele i **wszystkie operacje** na GPU (co zazwyczaj jest szybsze) za pomocą prostej komendy. Przetestujemy to w kolejnych częściach laboratorium"
   ]
  },
  {
   "cell_type": "markdown",
   "metadata": {},
   "source": [
    "#### Standardowe indeksowanie i slicing"
   ]
  },
  {
   "cell_type": "code",
   "execution_count": 21,
   "metadata": {
    "ExecuteTime": {
     "end_time": "2021-10-02T10:11:36.753663Z",
     "start_time": "2021-10-02T10:11:36.741253Z"
    }
   },
   "outputs": [
    {
     "name": "stdout",
     "output_type": "stream",
     "text": [
      "First row:  tensor([0.3521, 0.2667, 0.5764, 0.7159])\n",
      "First column:  tensor([0.3521, 0.4701, 0.5915, 0.8640])\n",
      "Last column: tensor([0.7159, 0.2320, 0.1725, 0.6654])\n",
      "tensor([[0.3521, 0.0000, 0.5764, 0.7159],\n",
      "        [0.4701, 0.0000, 0.8067, 0.2320],\n",
      "        [0.5915, 0.0000, 0.9299, 0.1725],\n",
      "        [0.8640, 0.0000, 0.0518, 0.6654]])\n"
     ]
    }
   ],
   "source": [
    "tensor = torch.rand(4, 4)\n",
    "print('First row: ', tensor[0])\n",
    "print('First column: ', tensor[:, 0])\n",
    "print('Last column:', tensor[:, -1])\n",
    "tensor[:,1] = 0\n",
    "print(tensor)"
   ]
  },
  {
   "cell_type": "markdown",
   "metadata": {},
   "source": [
    "#### Transponowanie tensorów"
   ]
  },
  {
   "cell_type": "code",
   "execution_count": 22,
   "metadata": {
    "ExecuteTime": {
     "end_time": "2021-10-02T11:38:58.853329Z",
     "start_time": "2021-10-02T11:38:58.848862Z"
    }
   },
   "outputs": [
    {
     "name": "stdout",
     "output_type": "stream",
     "text": [
      "tensor([[1., 0., 2.],\n",
      "        [1., 0., 2.],\n",
      "        [1., 0., 2.],\n",
      "        [3., 3., 3.]])\n",
      "Tensor shape:torch.Size([4, 3])\n",
      "\n",
      "tensor([[1., 1., 1., 3.],\n",
      "        [0., 0., 0., 3.],\n",
      "        [2., 2., 2., 3.]])\n",
      "Transposed tensor shape:torch.Size([3, 4])\n"
     ]
    }
   ],
   "source": [
    "tensor = torch.ones(4, 3)\n",
    "tensor[:,1] = 0\n",
    "tensor[:,2] = 2\n",
    "tensor[3,:] = 3\n",
    "print(tensor)\n",
    "print(f\"Tensor shape:{tensor.shape}\\n\")\n",
    "tensor2 = tensor.T\n",
    "print(tensor2)\n",
    "print(f\"Transposed tensor shape:{tensor2.shape}\")"
   ]
  },
  {
   "cell_type": "markdown",
   "metadata": {},
   "source": [
    "#### Zmiana wymiarów"
   ]
  },
  {
   "cell_type": "code",
   "execution_count": 23,
   "metadata": {
    "ExecuteTime": {
     "end_time": "2021-10-02T11:06:31.339499Z",
     "start_time": "2021-10-02T11:06:31.325198Z"
    }
   },
   "outputs": [
    {
     "name": "stdout",
     "output_type": "stream",
     "text": [
      "tensor([0, 1, 2, 3, 4, 5, 6, 7, 8, 9])\n",
      "Tensor shape:torch.Size([10])\n",
      "\n",
      "tensor([[0, 1, 2, 3, 4, 5, 6, 7, 8, 9]])\n",
      "Tensor shape:torch.Size([1, 10])\n",
      "\n",
      "tensor([[0],\n",
      "        [1],\n",
      "        [2],\n",
      "        [3],\n",
      "        [4],\n",
      "        [5],\n",
      "        [6],\n",
      "        [7],\n",
      "        [8],\n",
      "        [9]])\n",
      "Tensor shape:torch.Size([10, 1])\n",
      "\n",
      "tensor([[0, 1],\n",
      "        [2, 3],\n",
      "        [4, 5],\n",
      "        [6, 7],\n",
      "        [8, 9]])\n",
      "Tensor shape:torch.Size([5, 2])\n",
      "\n"
     ]
    }
   ],
   "source": [
    "tensor = torch.arange(10)\n",
    "print(tensor)\n",
    "print(f\"Tensor shape:{tensor.shape}\\n\")\n",
    "\n",
    "tensor2 = tensor.unsqueeze(dim=0)\n",
    "print(tensor2)\n",
    "print(f\"Tensor shape:{tensor2.shape}\\n\")\n",
    "\n",
    "tensor3 = tensor.unsqueeze(dim=1)\n",
    "print(tensor3)\n",
    "print(f\"Tensor shape:{tensor3.shape}\\n\")\n",
    "\n",
    "tensor4 = tensor.view(5,2)\n",
    "print(tensor4)\n",
    "print(f\"Tensor shape:{tensor4.shape}\\n\")"
   ]
  },
  {
   "cell_type": "markdown",
   "metadata": {},
   "source": [
    "#### Łączenie tensorów"
   ]
  },
  {
   "cell_type": "code",
   "execution_count": 24,
   "metadata": {
    "ExecuteTime": {
     "end_time": "2021-10-02T11:06:55.663650Z",
     "start_time": "2021-10-02T11:06:55.655639Z"
    }
   },
   "outputs": [
    {
     "name": "stdout",
     "output_type": "stream",
     "text": [
      "tensor([[1., 0., 2., 1., 0., 2., 1., 0., 2.],\n",
      "        [1., 0., 2., 1., 0., 2., 1., 0., 2.],\n",
      "        [1., 0., 2., 1., 0., 2., 1., 0., 2.],\n",
      "        [3., 3., 3., 3., 3., 3., 3., 3., 3.]])\n"
     ]
    }
   ],
   "source": [
    "tensor = torch.ones(4, 3)\n",
    "tensor[:,1] = 0\n",
    "tensor[:,2] = 2\n",
    "tensor[3,:] = 3\n",
    "t1 = torch.cat([tensor, tensor, tensor], dim=1)\n",
    "print(t1)"
   ]
  },
  {
   "cell_type": "code",
   "execution_count": 25,
   "metadata": {
    "ExecuteTime": {
     "end_time": "2021-10-02T11:06:55.947198Z",
     "start_time": "2021-10-02T11:06:55.940055Z"
    }
   },
   "outputs": [
    {
     "name": "stdout",
     "output_type": "stream",
     "text": [
      "tensor([[1., 0., 2.],\n",
      "        [1., 0., 2.],\n",
      "        [1., 0., 2.],\n",
      "        [3., 3., 3.],\n",
      "        [1., 0., 2.],\n",
      "        [1., 0., 2.],\n",
      "        [1., 0., 2.],\n",
      "        [3., 3., 3.],\n",
      "        [1., 0., 2.],\n",
      "        [1., 0., 2.],\n",
      "        [1., 0., 2.],\n",
      "        [3., 3., 3.]])\n"
     ]
    }
   ],
   "source": [
    "t1 = torch.cat([tensor, tensor, tensor], dim=0)\n",
    "print(t1)"
   ]
  },
  {
   "cell_type": "code",
   "execution_count": 26,
   "metadata": {
    "ExecuteTime": {
     "end_time": "2021-10-02T11:06:56.262340Z",
     "start_time": "2021-10-02T11:06:56.255271Z"
    }
   },
   "outputs": [
    {
     "name": "stdout",
     "output_type": "stream",
     "text": [
      "tensor([[[1., 0., 2.],\n",
      "         [1., 0., 2.],\n",
      "         [1., 0., 2.],\n",
      "         [3., 3., 3.]],\n",
      "\n",
      "        [[1., 0., 2.],\n",
      "         [1., 0., 2.],\n",
      "         [1., 0., 2.],\n",
      "         [3., 3., 3.]],\n",
      "\n",
      "        [[1., 0., 2.],\n",
      "         [1., 0., 2.],\n",
      "         [1., 0., 2.],\n",
      "         [3., 3., 3.]]])\n"
     ]
    }
   ],
   "source": [
    "t1 = torch.stack([tensor, tensor, tensor])\n",
    "print(t1)"
   ]
  },
  {
   "cell_type": "code",
   "execution_count": 27,
   "metadata": {
    "ExecuteTime": {
     "end_time": "2021-10-02T11:06:58.225374Z",
     "start_time": "2021-10-02T11:06:58.217586Z"
    }
   },
   "outputs": [
    {
     "name": "stdout",
     "output_type": "stream",
     "text": [
      "torch.Size([3, 5, 4])\n",
      "torch.Size([5, 3, 4])\n",
      "torch.Size([5, 4, 3])\n"
     ]
    }
   ],
   "source": [
    "tensor = torch.rand(5,4)\n",
    "t1 = torch.stack([tensor, tensor, tensor],dim=0)\n",
    "print(t1.shape)\n",
    "t1 = torch.stack([tensor, tensor, tensor],dim=1)\n",
    "print(t1.shape)\n",
    "t1 = torch.stack([tensor, tensor, tensor],dim=2)\n",
    "print(t1.shape)"
   ]
  },
  {
   "cell_type": "code",
   "execution_count": 34,
   "metadata": {
    "ExecuteTime": {
     "end_time": "2021-10-02T11:07:05.297235Z",
     "start_time": "2021-10-02T11:07:05.275962Z"
    }
   },
   "outputs": [
    {
     "ename": "IndexError",
     "evalue": "Dimension out of range (expected to be in range of [-3, 2], but got 3)",
     "output_type": "error",
     "traceback": [
      "\u001b[1;31m---------------------------------------------------------------------------\u001b[0m",
      "\u001b[1;31mIndexError\u001b[0m                                Traceback (most recent call last)",
      "Cell \u001b[1;32mIn[34], line 1\u001b[0m\n\u001b[1;32m----> 1\u001b[0m t1 \u001b[38;5;241m=\u001b[39m \u001b[43mtorch\u001b[49m\u001b[38;5;241;43m.\u001b[39;49m\u001b[43mstack\u001b[49m\u001b[43m(\u001b[49m\u001b[43m[\u001b[49m\u001b[43mtensor\u001b[49m\u001b[43m,\u001b[49m\u001b[43m \u001b[49m\u001b[43mtensor\u001b[49m\u001b[43m,\u001b[49m\u001b[43m \u001b[49m\u001b[43mtensor\u001b[49m\u001b[43m]\u001b[49m\u001b[43m,\u001b[49m\u001b[43mdim\u001b[49m\u001b[38;5;241;43m=\u001b[39;49m\u001b[38;5;241;43m3\u001b[39;49m\u001b[43m)\u001b[49m\n\u001b[0;32m      2\u001b[0m \u001b[38;5;28mprint\u001b[39m(t1\u001b[38;5;241m.\u001b[39mshape)\n",
      "\u001b[1;31mIndexError\u001b[0m: Dimension out of range (expected to be in range of [-3, 2], but got 3)"
     ]
    }
   ],
   "source": [
    "t1 = torch.stack([tensor, tensor, tensor],dim=3)\n",
    "print(t1.shape)"
   ]
  },
  {
   "cell_type": "markdown",
   "metadata": {},
   "source": [
    "#### Operacje arytmetyczne"
   ]
  },
  {
   "cell_type": "code",
   "execution_count": 35,
   "metadata": {
    "ExecuteTime": {
     "end_time": "2021-10-02T11:07:08.039606Z",
     "start_time": "2021-10-02T11:07:08.028588Z"
    }
   },
   "outputs": [
    {
     "name": "stdout",
     "output_type": "stream",
     "text": [
      "tensor([[1., 0., 2., 1.],\n",
      "        [1., 0., 2., 1.],\n",
      "        [1., 0., 2., 1.],\n",
      "        [3., 3., 3., 3.]])\n",
      "tensor([[3., 2., 4., 3.],\n",
      "        [3., 2., 4., 3.],\n",
      "        [3., 2., 4., 3.],\n",
      "        [5., 5., 5., 5.]])\n",
      "tensor([[ 5.,  0., 10.,  5.],\n",
      "        [ 5.,  0., 10.,  5.],\n",
      "        [ 5.,  0., 10.,  5.],\n",
      "        [15., 15., 15., 15.]])\n"
     ]
    }
   ],
   "source": [
    "tensor = torch.ones(4, 4)\n",
    "tensor[:,1] = 0\n",
    "tensor[:,2] = 2\n",
    "tensor[3,:] = 3\n",
    "\n",
    "print(tensor)\n",
    "print(tensor+2)\n",
    "print(tensor*5)"
   ]
  },
  {
   "cell_type": "markdown",
   "metadata": {},
   "source": [
    "#### Operacje na elementach"
   ]
  },
  {
   "cell_type": "code",
   "execution_count": 36,
   "metadata": {
    "ExecuteTime": {
     "end_time": "2021-10-02T11:07:10.391010Z",
     "start_time": "2021-10-02T11:07:10.383758Z"
    }
   },
   "outputs": [
    {
     "data": {
      "text/plain": [
       "tensor([[1., 0., 4., 1.],\n",
       "        [1., 0., 4., 1.],\n",
       "        [1., 0., 4., 1.],\n",
       "        [9., 9., 9., 9.]])"
      ]
     },
     "execution_count": 36,
     "metadata": {},
     "output_type": "execute_result"
    }
   ],
   "source": [
    "tensor * tensor"
   ]
  },
  {
   "cell_type": "code",
   "execution_count": 37,
   "metadata": {
    "ExecuteTime": {
     "end_time": "2021-10-02T11:07:11.465007Z",
     "start_time": "2021-10-02T11:07:11.458440Z"
    }
   },
   "outputs": [
    {
     "data": {
      "text/plain": [
       "tensor([[2., 0., 4., 2.],\n",
       "        [2., 0., 4., 2.],\n",
       "        [2., 0., 4., 2.],\n",
       "        [6., 6., 6., 6.]])"
      ]
     },
     "execution_count": 37,
     "metadata": {},
     "output_type": "execute_result"
    }
   ],
   "source": [
    "tensor + tensor"
   ]
  },
  {
   "cell_type": "code",
   "execution_count": null,
   "metadata": {
    "ExecuteTime": {
     "end_time": "2021-10-02T11:09:15.603003Z",
     "start_time": "2021-10-02T11:09:15.595494Z"
    }
   },
   "outputs": [
    {
     "name": "stdout",
     "output_type": "stream",
     "text": [
      "tensor([[7.9686, 8.2335, 6.8905, 2.1343],\n",
      "        [3.7990, 0.1120, 1.4615, 7.9568],\n",
      "        [6.6232, 9.0052, 7.0053, 8.4582],\n",
      "        [2.4605, 8.3178, 0.3939, 0.6993]])\n",
      "tensor([[7.9686,    inf, 3.4453, 2.1343],\n",
      "        [3.7990,    inf, 0.7308, 7.9568],\n",
      "        [6.6232,    inf, 3.5027, 8.4582],\n",
      "        [0.8202, 2.7726, 0.1313, 0.2331]])\n"
     ]
    }
   ],
   "source": [
    "rand_tensor = torch.rand(4,4)*10\n",
    "print(rand_tensor)\n",
    "print(rand_tensor / tensor)"
   ]
  },
  {
   "cell_type": "code",
   "execution_count": null,
   "metadata": {
    "ExecuteTime": {
     "end_time": "2021-10-02T11:09:23.306890Z",
     "start_time": "2021-10-02T11:09:23.299942Z"
    }
   },
   "outputs": [
    {
     "name": "stdout",
     "output_type": "stream",
     "text": [
      "tensor([[3., inf, 3., 4.],\n",
      "        [7., inf, 4., 7.],\n",
      "        [1., inf, 2., 5.],\n",
      "        [2., 0., 0., 3.]])\n",
      "torch.FloatTensor\n"
     ]
    }
   ],
   "source": [
    "rand_tensor = torch.rand(4,4)*10\n",
    "print(rand_tensor // tensor)\n",
    "print((tensor / tensor).type()) # type is still float"
   ]
  },
  {
   "cell_type": "markdown",
   "metadata": {},
   "source": [
    "### Mini zadanie na plusa, mozna wysłać po zajęciach"
   ]
  },
  {
   "cell_type": "markdown",
   "metadata": {},
   "source": [
    "Stwórz macierz dwuwymiarową której wartości będą kolejnymi numerami od 1 do zadanej liczby x. Nie uzywaj pętli."
   ]
  },
  {
   "cell_type": "markdown",
   "metadata": {},
   "source": [
    "Hint: https://pytorch.org/docs/stable/torch.html"
   ]
  },
  {
   "cell_type": "code",
   "execution_count": null,
   "metadata": {},
   "outputs": [
    {
     "name": "stdout",
     "output_type": "stream",
     "text": [
      "tensor([[ 1,  2,  3,  4],\n",
      "        [ 5,  6,  7,  8],\n",
      "        [ 9, 10, 11, 12]])\n"
     ]
    }
   ],
   "source": [
    "def create_tensor_1_to_x(x, dim0, dim1):\n",
    "    return torch.arange(1, x + 1).view(dim0, dim1)\n",
    "\n",
    "print(create_tensor_1_to_x(12, 3, 4))"
   ]
  },
  {
   "cell_type": "markdown",
   "metadata": {},
   "source": [
    "### Operacje macierzowe"
   ]
  },
  {
   "cell_type": "code",
   "execution_count": null,
   "metadata": {
    "ExecuteTime": {
     "end_time": "2021-10-02T11:22:39.848027Z",
     "start_time": "2021-10-02T11:22:39.839687Z"
    }
   },
   "outputs": [
    {
     "name": "stdout",
     "output_type": "stream",
     "text": [
      "tensor([[1., 1., 1.],\n",
      "        [0., 0., 0.],\n",
      "        [1., 1., 1.],\n",
      "        [1., 1., 1.]])\n",
      "tensor([[1., 0., 1., 1.],\n",
      "        [1., 0., 1., 1.],\n",
      "        [1., 0., 1., 1.]])\n"
     ]
    }
   ],
   "source": [
    "tensor = torch.ones(4, 3)\n",
    "tensor[1,:] = 0\n",
    "print(tensor)\n",
    "print(tensor.T)"
   ]
  },
  {
   "cell_type": "code",
   "execution_count": null,
   "metadata": {
    "ExecuteTime": {
     "end_time": "2021-10-02T11:23:26.828757Z",
     "start_time": "2021-10-02T11:23:26.820257Z"
    }
   },
   "outputs": [
    {
     "name": "stdout",
     "output_type": "stream",
     "text": [
      "tensor([[3., 0., 3., 3.],\n",
      "        [0., 0., 0., 0.],\n",
      "        [3., 0., 3., 3.],\n",
      "        [3., 0., 3., 3.]]) \n",
      "\n",
      "tensor([[3., 0., 3., 3.],\n",
      "        [0., 0., 0., 0.],\n",
      "        [3., 0., 3., 3.],\n",
      "        [3., 0., 3., 3.]])\n"
     ]
    }
   ],
   "source": [
    "y1 = tensor.matmul(tensor.T)\n",
    "print(y1,\"\\n\")\n",
    "y2 = tensor @ tensor.T\n",
    "print(y2)"
   ]
  },
  {
   "cell_type": "markdown",
   "metadata": {},
   "source": [
    "### Zaawansowany przykład - regresja"
   ]
  },
  {
   "cell_type": "markdown",
   "metadata": {},
   "source": [
    "Dla wszystkich którzy potrzebują powtórki z matmy: https://mml-book.github.io/"
   ]
  },
  {
   "cell_type": "code",
   "execution_count": null,
   "metadata": {
    "ExecuteTime": {
     "end_time": "2021-10-02T11:42:22.367139Z",
     "start_time": "2021-10-02T11:42:22.362204Z"
    }
   },
   "outputs": [],
   "source": [
    "apples_kg_ordered = [2,4,7,3,13]\n",
    "plums_kg_ordered = [3,8,9,1,1]\n",
    "prices = [11.97 , 28.05, 38.98, 10.96, 41.1]"
   ]
  },
  {
   "cell_type": "code",
   "execution_count": null,
   "metadata": {
    "ExecuteTime": {
     "end_time": "2021-10-02T11:42:22.582160Z",
     "start_time": "2021-10-02T11:42:22.575577Z"
    }
   },
   "outputs": [
    {
     "name": "stdout",
     "output_type": "stream",
     "text": [
      "tensor([[ 2,  4,  7,  3, 13],\n",
      "        [ 3,  8,  9,  1,  1]])\n",
      "tensor([11.9700, 28.0500, 38.9800, 10.9600, 41.1000])\n"
     ]
    }
   ],
   "source": [
    "X = torch.tensor([apples_kg_ordered,plums_kg_ordered])\n",
    "Y = torch.tensor(prices)\n",
    "print(X)\n",
    "print(Y)"
   ]
  },
  {
   "cell_type": "code",
   "execution_count": null,
   "metadata": {
    "ExecuteTime": {
     "end_time": "2021-10-02T11:42:23.058857Z",
     "start_time": "2021-10-02T11:42:23.051771Z"
    }
   },
   "outputs": [
    {
     "data": {
      "text/plain": [
       "tensor([[ 2.,  3.],\n",
       "        [ 4.,  8.],\n",
       "        [ 7.,  9.],\n",
       "        [ 3.,  1.],\n",
       "        [13.,  1.]])"
      ]
     },
     "execution_count": 167,
     "metadata": {},
     "output_type": "execute_result"
    }
   ],
   "source": [
    "X = X.T.float()\n",
    "X"
   ]
  },
  {
   "cell_type": "code",
   "execution_count": null,
   "metadata": {
    "ExecuteTime": {
     "end_time": "2021-10-02T11:42:23.549644Z",
     "start_time": "2021-10-02T11:42:23.542906Z"
    }
   },
   "outputs": [
    {
     "data": {
      "text/plain": [
       "tensor([3.0065, 1.9963])"
      ]
     },
     "execution_count": 168,
     "metadata": {},
     "output_type": "execute_result"
    }
   ],
   "source": [
    "theta = torch.inverse((X.T@X))@X.T@Y\n",
    "theta # weights are not perfect"
   ]
  },
  {
   "cell_type": "code",
   "execution_count": null,
   "metadata": {
    "ExecuteTime": {
     "end_time": "2021-10-02T12:25:15.608327Z",
     "start_time": "2021-10-02T12:25:15.601069Z"
    }
   },
   "outputs": [
    {
     "data": {
      "text/plain": [
       "tensor([12.0020, 27.9967, 39.0126, 11.0159, 41.0810])"
      ]
     },
     "execution_count": 28,
     "metadata": {},
     "output_type": "execute_result"
    }
   ],
   "source": [
    "X @ theta"
   ]
  },
  {
   "cell_type": "markdown",
   "metadata": {},
   "source": [
    "# Automatyczne obliczanie gradientu"
   ]
  },
  {
   "cell_type": "markdown",
   "metadata": {},
   "source": [
    "Do automatycznego obliczania gradientu służy wbudowany pakiet torch.autograd, który umożliwia automatyczne obliczanie gradientu dla dowolnego grafu (ciągu obliczeń)"
   ]
  },
  {
   "cell_type": "code",
   "execution_count": null,
   "metadata": {
    "ExecuteTime": {
     "end_time": "2021-10-02T13:15:42.589602Z",
     "start_time": "2021-10-02T13:15:42.583170Z"
    }
   },
   "outputs": [
    {
     "name": "stdout",
     "output_type": "stream",
     "text": [
      "tensor([1., 1., 1., 1., 1.], requires_grad=True)\n"
     ]
    }
   ],
   "source": [
    "x = torch.ones(5, requires_grad=True)\n",
    "print(x)"
   ]
  },
  {
   "cell_type": "code",
   "execution_count": null,
   "metadata": {
    "ExecuteTime": {
     "end_time": "2021-10-02T13:15:42.779981Z",
     "start_time": "2021-10-02T13:15:42.773731Z"
    }
   },
   "outputs": [
    {
     "data": {
      "text/plain": [
       "tensor([3., 3., 3., 3., 3.], grad_fn=<AddBackward0>)"
      ]
     },
     "execution_count": 30,
     "metadata": {},
     "output_type": "execute_result"
    }
   ],
   "source": [
    "y = x + 2\n",
    "y # grad_fn=<AddBackward0> remembers the addition operation"
   ]
  },
  {
   "cell_type": "code",
   "execution_count": null,
   "metadata": {
    "ExecuteTime": {
     "end_time": "2021-10-02T13:15:42.928339Z",
     "start_time": "2021-10-02T13:15:42.922368Z"
    }
   },
   "outputs": [
    {
     "data": {
      "text/plain": [
       "tensor([2., 2., 2., 2., 2.], grad_fn=<MulBackward0>)"
      ]
     },
     "execution_count": 31,
     "metadata": {},
     "output_type": "execute_result"
    }
   ],
   "source": [
    "y = x * 2\n",
    "y"
   ]
  },
  {
   "cell_type": "code",
   "execution_count": null,
   "metadata": {
    "ExecuteTime": {
     "end_time": "2021-10-02T13:15:43.079314Z",
     "start_time": "2021-10-02T13:15:43.073324Z"
    }
   },
   "outputs": [
    {
     "name": "stderr",
     "output_type": "stream",
     "text": [
      "C:\\Users\\Piotr\\AppData\\Local\\Temp\\ipykernel_19392\\454800052.py:1: UserWarning: The use of `x.T` on tensors of dimension other than 2 to reverse their shape is deprecated and it will throw an error in a future release. Consider `x.mT` to transpose batches of matrices or `x.permute(*torch.arange(x.ndim - 1, -1, -1))` to reverse the dimensions of a tensor. (Triggered internally at C:\\actions-runner\\_work\\pytorch\\pytorch\\pytorch\\aten\\src\\ATen\\native\\TensorShape.cpp:3729.)\n",
      "  y = x @ x.T\n"
     ]
    },
    {
     "data": {
      "text/plain": [
       "tensor(5., grad_fn=<DotBackward0>)"
      ]
     },
     "execution_count": 32,
     "metadata": {},
     "output_type": "execute_result"
    }
   ],
   "source": [
    "y = x @ x.T\n",
    "y"
   ]
  },
  {
   "cell_type": "code",
   "execution_count": null,
   "metadata": {
    "ExecuteTime": {
     "end_time": "2021-10-02T13:15:43.270396Z",
     "start_time": "2021-10-02T13:15:43.264090Z"
    }
   },
   "outputs": [
    {
     "data": {
      "text/plain": [
       "tensor([-1., -1., -1., -1., -1.], grad_fn=<SubBackward0>)"
      ]
     },
     "execution_count": 33,
     "metadata": {},
     "output_type": "execute_result"
    }
   ],
   "source": [
    "y = x - 2\n",
    "y"
   ]
  },
  {
   "cell_type": "code",
   "execution_count": null,
   "metadata": {
    "ExecuteTime": {
     "end_time": "2021-10-02T13:15:43.421894Z",
     "start_time": "2021-10-02T13:15:43.416391Z"
    }
   },
   "outputs": [
    {
     "data": {
      "text/plain": [
       "<AccumulateGrad at 0x263dedda230>"
      ]
     },
     "execution_count": 34,
     "metadata": {},
     "output_type": "execute_result"
    }
   ],
   "source": [
    "y.grad_fn.next_functions[0][0]"
   ]
  },
  {
   "cell_type": "code",
   "execution_count": null,
   "metadata": {
    "ExecuteTime": {
     "end_time": "2021-10-02T13:15:43.623103Z",
     "start_time": "2021-10-02T13:15:43.616830Z"
    }
   },
   "outputs": [
    {
     "data": {
      "text/plain": [
       "tensor([1., 1., 1., 1., 1.], requires_grad=True)"
      ]
     },
     "execution_count": 35,
     "metadata": {},
     "output_type": "execute_result"
    }
   ],
   "source": [
    "y.grad_fn.next_functions[0][0].variable"
   ]
  },
  {
   "cell_type": "code",
   "execution_count": null,
   "metadata": {
    "ExecuteTime": {
     "end_time": "2021-10-02T13:15:44.088406Z",
     "start_time": "2021-10-02T13:15:44.084868Z"
    }
   },
   "outputs": [],
   "source": [
    "z = y * y * 3"
   ]
  },
  {
   "cell_type": "code",
   "execution_count": null,
   "metadata": {
    "ExecuteTime": {
     "end_time": "2021-10-02T13:16:05.865798Z",
     "start_time": "2021-10-02T13:16:05.858953Z"
    }
   },
   "outputs": [
    {
     "name": "stdout",
     "output_type": "stream",
     "text": [
      "tensor([3., 3., 3., 3., 3.], grad_fn=<MulBackward0>)\n",
      "tensor(3., grad_fn=<MeanBackward0>)\n"
     ]
    }
   ],
   "source": [
    "a = z.mean()\n",
    "print(z)\n",
    "print(a)"
   ]
  },
  {
   "cell_type": "code",
   "execution_count": null,
   "metadata": {
    "ExecuteTime": {
     "end_time": "2021-10-02T13:12:07.051788Z",
     "start_time": "2021-10-02T13:12:07.048144Z"
    }
   },
   "outputs": [],
   "source": [
    "from torchviz import make_dot"
   ]
  },
  {
   "cell_type": "code",
   "execution_count": null,
   "metadata": {
    "ExecuteTime": {
     "end_time": "2021-10-02T12:59:48.389456Z",
     "start_time": "2021-10-02T12:59:48.330787Z"
    }
   },
   "outputs": [
    {
     "ename": "ExecutableNotFound",
     "evalue": "failed to execute WindowsPath('dot'), make sure the Graphviz executables are on your systems' PATH",
     "output_type": "error",
     "traceback": [
      "\u001b[1;31m---------------------------------------------------------------------------\u001b[0m",
      "\u001b[1;31mFileNotFoundError\u001b[0m                         Traceback (most recent call last)",
      "File \u001b[1;32m~\\AppData\\Local\\Packages\\PythonSoftwareFoundation.Python.3.11_qbz5n2kfra8p0\\LocalCache\\local-packages\\Python311\\site-packages\\graphviz\\backend\\execute.py:76\u001b[0m, in \u001b[0;36mrun_check\u001b[1;34m(cmd, input_lines, encoding, quiet, **kwargs)\u001b[0m\n\u001b[0;32m     75\u001b[0m         kwargs[\u001b[38;5;124m'\u001b[39m\u001b[38;5;124mstdout\u001b[39m\u001b[38;5;124m'\u001b[39m] \u001b[38;5;241m=\u001b[39m kwargs[\u001b[38;5;124m'\u001b[39m\u001b[38;5;124mstderr\u001b[39m\u001b[38;5;124m'\u001b[39m] \u001b[38;5;241m=\u001b[39m subprocess\u001b[38;5;241m.\u001b[39mPIPE\n\u001b[1;32m---> 76\u001b[0m     proc \u001b[38;5;241m=\u001b[39m \u001b[43m_run_input_lines\u001b[49m\u001b[43m(\u001b[49m\u001b[43mcmd\u001b[49m\u001b[43m,\u001b[49m\u001b[43m \u001b[49m\u001b[43minput_lines\u001b[49m\u001b[43m,\u001b[49m\u001b[43m \u001b[49m\u001b[43mkwargs\u001b[49m\u001b[38;5;241;43m=\u001b[39;49m\u001b[43mkwargs\u001b[49m\u001b[43m)\u001b[49m\n\u001b[0;32m     77\u001b[0m \u001b[38;5;28;01melse\u001b[39;00m:\n",
      "File \u001b[1;32m~\\AppData\\Local\\Packages\\PythonSoftwareFoundation.Python.3.11_qbz5n2kfra8p0\\LocalCache\\local-packages\\Python311\\site-packages\\graphviz\\backend\\execute.py:96\u001b[0m, in \u001b[0;36m_run_input_lines\u001b[1;34m(cmd, input_lines, kwargs)\u001b[0m\n\u001b[0;32m     95\u001b[0m \u001b[38;5;28;01mdef\u001b[39;00m\u001b[38;5;250m \u001b[39m\u001b[38;5;21m_run_input_lines\u001b[39m(cmd, input_lines, \u001b[38;5;241m*\u001b[39m, kwargs):\n\u001b[1;32m---> 96\u001b[0m     popen \u001b[38;5;241m=\u001b[39m \u001b[43msubprocess\u001b[49m\u001b[38;5;241;43m.\u001b[39;49m\u001b[43mPopen\u001b[49m\u001b[43m(\u001b[49m\u001b[43mcmd\u001b[49m\u001b[43m,\u001b[49m\u001b[43m \u001b[49m\u001b[43mstdin\u001b[49m\u001b[38;5;241;43m=\u001b[39;49m\u001b[43msubprocess\u001b[49m\u001b[38;5;241;43m.\u001b[39;49m\u001b[43mPIPE\u001b[49m\u001b[43m,\u001b[49m\u001b[43m \u001b[49m\u001b[38;5;241;43m*\u001b[39;49m\u001b[38;5;241;43m*\u001b[39;49m\u001b[43mkwargs\u001b[49m\u001b[43m)\u001b[49m\n\u001b[0;32m     98\u001b[0m     stdin_write \u001b[38;5;241m=\u001b[39m popen\u001b[38;5;241m.\u001b[39mstdin\u001b[38;5;241m.\u001b[39mwrite\n",
      "File \u001b[1;32mC:\\Program Files\\WindowsApps\\PythonSoftwareFoundation.Python.3.11_3.11.2544.0_x64__qbz5n2kfra8p0\\Lib\\subprocess.py:1026\u001b[0m, in \u001b[0;36mPopen.__init__\u001b[1;34m(self, args, bufsize, executable, stdin, stdout, stderr, preexec_fn, close_fds, shell, cwd, env, universal_newlines, startupinfo, creationflags, restore_signals, start_new_session, pass_fds, user, group, extra_groups, encoding, errors, text, umask, pipesize, process_group)\u001b[0m\n\u001b[0;32m   1023\u001b[0m             \u001b[38;5;28mself\u001b[39m\u001b[38;5;241m.\u001b[39mstderr \u001b[38;5;241m=\u001b[39m io\u001b[38;5;241m.\u001b[39mTextIOWrapper(\u001b[38;5;28mself\u001b[39m\u001b[38;5;241m.\u001b[39mstderr,\n\u001b[0;32m   1024\u001b[0m                     encoding\u001b[38;5;241m=\u001b[39mencoding, errors\u001b[38;5;241m=\u001b[39merrors)\n\u001b[1;32m-> 1026\u001b[0m     \u001b[38;5;28;43mself\u001b[39;49m\u001b[38;5;241;43m.\u001b[39;49m\u001b[43m_execute_child\u001b[49m\u001b[43m(\u001b[49m\u001b[43margs\u001b[49m\u001b[43m,\u001b[49m\u001b[43m \u001b[49m\u001b[43mexecutable\u001b[49m\u001b[43m,\u001b[49m\u001b[43m \u001b[49m\u001b[43mpreexec_fn\u001b[49m\u001b[43m,\u001b[49m\u001b[43m \u001b[49m\u001b[43mclose_fds\u001b[49m\u001b[43m,\u001b[49m\n\u001b[0;32m   1027\u001b[0m \u001b[43m                        \u001b[49m\u001b[43mpass_fds\u001b[49m\u001b[43m,\u001b[49m\u001b[43m \u001b[49m\u001b[43mcwd\u001b[49m\u001b[43m,\u001b[49m\u001b[43m \u001b[49m\u001b[43menv\u001b[49m\u001b[43m,\u001b[49m\n\u001b[0;32m   1028\u001b[0m \u001b[43m                        \u001b[49m\u001b[43mstartupinfo\u001b[49m\u001b[43m,\u001b[49m\u001b[43m \u001b[49m\u001b[43mcreationflags\u001b[49m\u001b[43m,\u001b[49m\u001b[43m \u001b[49m\u001b[43mshell\u001b[49m\u001b[43m,\u001b[49m\n\u001b[0;32m   1029\u001b[0m \u001b[43m                        \u001b[49m\u001b[43mp2cread\u001b[49m\u001b[43m,\u001b[49m\u001b[43m \u001b[49m\u001b[43mp2cwrite\u001b[49m\u001b[43m,\u001b[49m\n\u001b[0;32m   1030\u001b[0m \u001b[43m                        \u001b[49m\u001b[43mc2pread\u001b[49m\u001b[43m,\u001b[49m\u001b[43m \u001b[49m\u001b[43mc2pwrite\u001b[49m\u001b[43m,\u001b[49m\n\u001b[0;32m   1031\u001b[0m \u001b[43m                        \u001b[49m\u001b[43merrread\u001b[49m\u001b[43m,\u001b[49m\u001b[43m \u001b[49m\u001b[43merrwrite\u001b[49m\u001b[43m,\u001b[49m\n\u001b[0;32m   1032\u001b[0m \u001b[43m                        \u001b[49m\u001b[43mrestore_signals\u001b[49m\u001b[43m,\u001b[49m\n\u001b[0;32m   1033\u001b[0m \u001b[43m                        \u001b[49m\u001b[43mgid\u001b[49m\u001b[43m,\u001b[49m\u001b[43m \u001b[49m\u001b[43mgids\u001b[49m\u001b[43m,\u001b[49m\u001b[43m \u001b[49m\u001b[43muid\u001b[49m\u001b[43m,\u001b[49m\u001b[43m \u001b[49m\u001b[43mumask\u001b[49m\u001b[43m,\u001b[49m\n\u001b[0;32m   1034\u001b[0m \u001b[43m                        \u001b[49m\u001b[43mstart_new_session\u001b[49m\u001b[43m,\u001b[49m\u001b[43m \u001b[49m\u001b[43mprocess_group\u001b[49m\u001b[43m)\u001b[49m\n\u001b[0;32m   1035\u001b[0m \u001b[38;5;28;01mexcept\u001b[39;00m:\n\u001b[0;32m   1036\u001b[0m     \u001b[38;5;66;03m# Cleanup if the child failed starting.\u001b[39;00m\n",
      "File \u001b[1;32mC:\\Program Files\\WindowsApps\\PythonSoftwareFoundation.Python.3.11_3.11.2544.0_x64__qbz5n2kfra8p0\\Lib\\subprocess.py:1538\u001b[0m, in \u001b[0;36mPopen._execute_child\u001b[1;34m(self, args, executable, preexec_fn, close_fds, pass_fds, cwd, env, startupinfo, creationflags, shell, p2cread, p2cwrite, c2pread, c2pwrite, errread, errwrite, unused_restore_signals, unused_gid, unused_gids, unused_uid, unused_umask, unused_start_new_session, unused_process_group)\u001b[0m\n\u001b[0;32m   1537\u001b[0m \u001b[38;5;28;01mtry\u001b[39;00m:\n\u001b[1;32m-> 1538\u001b[0m     hp, ht, pid, tid \u001b[38;5;241m=\u001b[39m \u001b[43m_winapi\u001b[49m\u001b[38;5;241;43m.\u001b[39;49m\u001b[43mCreateProcess\u001b[49m\u001b[43m(\u001b[49m\u001b[43mexecutable\u001b[49m\u001b[43m,\u001b[49m\u001b[43m \u001b[49m\u001b[43margs\u001b[49m\u001b[43m,\u001b[49m\n\u001b[0;32m   1539\u001b[0m \u001b[43m                             \u001b[49m\u001b[38;5;66;43;03m# no special security\u001b[39;49;00m\n\u001b[0;32m   1540\u001b[0m \u001b[43m                             \u001b[49m\u001b[38;5;28;43;01mNone\u001b[39;49;00m\u001b[43m,\u001b[49m\u001b[43m \u001b[49m\u001b[38;5;28;43;01mNone\u001b[39;49;00m\u001b[43m,\u001b[49m\n\u001b[0;32m   1541\u001b[0m \u001b[43m                             \u001b[49m\u001b[38;5;28;43mint\u001b[39;49m\u001b[43m(\u001b[49m\u001b[38;5;129;43;01mnot\u001b[39;49;00m\u001b[43m \u001b[49m\u001b[43mclose_fds\u001b[49m\u001b[43m)\u001b[49m\u001b[43m,\u001b[49m\n\u001b[0;32m   1542\u001b[0m \u001b[43m                             \u001b[49m\u001b[43mcreationflags\u001b[49m\u001b[43m,\u001b[49m\n\u001b[0;32m   1543\u001b[0m \u001b[43m                             \u001b[49m\u001b[43menv\u001b[49m\u001b[43m,\u001b[49m\n\u001b[0;32m   1544\u001b[0m \u001b[43m                             \u001b[49m\u001b[43mcwd\u001b[49m\u001b[43m,\u001b[49m\n\u001b[0;32m   1545\u001b[0m \u001b[43m                             \u001b[49m\u001b[43mstartupinfo\u001b[49m\u001b[43m)\u001b[49m\n\u001b[0;32m   1546\u001b[0m \u001b[38;5;28;01mfinally\u001b[39;00m:\n\u001b[0;32m   1547\u001b[0m     \u001b[38;5;66;03m# Child is launched. Close the parent's copy of those pipe\u001b[39;00m\n\u001b[0;32m   1548\u001b[0m     \u001b[38;5;66;03m# handles that only the child should have open.  You need\u001b[39;00m\n\u001b[1;32m   (...)\u001b[0m\n\u001b[0;32m   1551\u001b[0m     \u001b[38;5;66;03m# pipe will not close when the child process exits and the\u001b[39;00m\n\u001b[0;32m   1552\u001b[0m     \u001b[38;5;66;03m# ReadFile will hang.\u001b[39;00m\n",
      "\u001b[1;31mFileNotFoundError\u001b[0m: [WinError 2] Nie można odnaleźć określonego pliku",
      "\nThe above exception was the direct cause of the following exception:\n",
      "\u001b[1;31mExecutableNotFound\u001b[0m                        Traceback (most recent call last)",
      "File \u001b[1;32m~\\AppData\\Local\\Packages\\PythonSoftwareFoundation.Python.3.11_qbz5n2kfra8p0\\LocalCache\\local-packages\\Python311\\site-packages\\IPython\\core\\formatters.py:1036\u001b[0m, in \u001b[0;36mMimeBundleFormatter.__call__\u001b[1;34m(self, obj, include, exclude)\u001b[0m\n\u001b[0;32m   1033\u001b[0m     method \u001b[38;5;241m=\u001b[39m get_real_method(obj, \u001b[38;5;28mself\u001b[39m\u001b[38;5;241m.\u001b[39mprint_method)\n\u001b[0;32m   1035\u001b[0m     \u001b[38;5;28;01mif\u001b[39;00m method \u001b[38;5;129;01mis\u001b[39;00m \u001b[38;5;129;01mnot\u001b[39;00m \u001b[38;5;28;01mNone\u001b[39;00m:\n\u001b[1;32m-> 1036\u001b[0m         \u001b[38;5;28;01mreturn\u001b[39;00m \u001b[43mmethod\u001b[49m\u001b[43m(\u001b[49m\u001b[43minclude\u001b[49m\u001b[38;5;241;43m=\u001b[39;49m\u001b[43minclude\u001b[49m\u001b[43m,\u001b[49m\u001b[43m \u001b[49m\u001b[43mexclude\u001b[49m\u001b[38;5;241;43m=\u001b[39;49m\u001b[43mexclude\u001b[49m\u001b[43m)\u001b[49m\n\u001b[0;32m   1037\u001b[0m     \u001b[38;5;28;01mreturn\u001b[39;00m \u001b[38;5;28;01mNone\u001b[39;00m\n\u001b[0;32m   1038\u001b[0m \u001b[38;5;28;01melse\u001b[39;00m:\n",
      "File \u001b[1;32m~\\AppData\\Local\\Packages\\PythonSoftwareFoundation.Python.3.11_qbz5n2kfra8p0\\LocalCache\\local-packages\\Python311\\site-packages\\graphviz\\jupyter_integration.py:98\u001b[0m, in \u001b[0;36mJupyterIntegration._repr_mimebundle_\u001b[1;34m(self, include, exclude, **_)\u001b[0m\n\u001b[0;32m     96\u001b[0m include \u001b[38;5;241m=\u001b[39m \u001b[38;5;28mset\u001b[39m(include) \u001b[38;5;28;01mif\u001b[39;00m include \u001b[38;5;129;01mis\u001b[39;00m \u001b[38;5;129;01mnot\u001b[39;00m \u001b[38;5;28;01mNone\u001b[39;00m \u001b[38;5;28;01melse\u001b[39;00m {\u001b[38;5;28mself\u001b[39m\u001b[38;5;241m.\u001b[39m_jupyter_mimetype}\n\u001b[0;32m     97\u001b[0m include \u001b[38;5;241m-\u001b[39m\u001b[38;5;241m=\u001b[39m \u001b[38;5;28mset\u001b[39m(exclude \u001b[38;5;129;01mor\u001b[39;00m [])\n\u001b[1;32m---> 98\u001b[0m \u001b[38;5;28;01mreturn\u001b[39;00m \u001b[43m{\u001b[49m\u001b[43mmimetype\u001b[49m\u001b[43m:\u001b[49m\u001b[43m \u001b[49m\u001b[38;5;28;43mgetattr\u001b[39;49m\u001b[43m(\u001b[49m\u001b[38;5;28;43mself\u001b[39;49m\u001b[43m,\u001b[49m\u001b[43m \u001b[49m\u001b[43mmethod_name\u001b[49m\u001b[43m)\u001b[49m\u001b[43m(\u001b[49m\u001b[43m)\u001b[49m\n\u001b[0;32m     99\u001b[0m \u001b[43m        \u001b[49m\u001b[38;5;28;43;01mfor\u001b[39;49;00m\u001b[43m \u001b[49m\u001b[43mmimetype\u001b[49m\u001b[43m,\u001b[49m\u001b[43m \u001b[49m\u001b[43mmethod_name\u001b[49m\u001b[43m \u001b[49m\u001b[38;5;129;43;01min\u001b[39;49;00m\u001b[43m \u001b[49m\u001b[43mMIME_TYPES\u001b[49m\u001b[38;5;241;43m.\u001b[39;49m\u001b[43mitems\u001b[49m\u001b[43m(\u001b[49m\u001b[43m)\u001b[49m\n\u001b[0;32m    100\u001b[0m \u001b[43m        \u001b[49m\u001b[38;5;28;43;01mif\u001b[39;49;00m\u001b[43m \u001b[49m\u001b[43mmimetype\u001b[49m\u001b[43m \u001b[49m\u001b[38;5;129;43;01min\u001b[39;49;00m\u001b[43m \u001b[49m\u001b[43minclude\u001b[49m\u001b[43m}\u001b[49m\n",
      "File \u001b[1;32m~\\AppData\\Local\\Packages\\PythonSoftwareFoundation.Python.3.11_qbz5n2kfra8p0\\LocalCache\\local-packages\\Python311\\site-packages\\graphviz\\jupyter_integration.py:98\u001b[0m, in \u001b[0;36m<dictcomp>\u001b[1;34m(.0)\u001b[0m\n\u001b[0;32m     96\u001b[0m include \u001b[38;5;241m=\u001b[39m \u001b[38;5;28mset\u001b[39m(include) \u001b[38;5;28;01mif\u001b[39;00m include \u001b[38;5;129;01mis\u001b[39;00m \u001b[38;5;129;01mnot\u001b[39;00m \u001b[38;5;28;01mNone\u001b[39;00m \u001b[38;5;28;01melse\u001b[39;00m {\u001b[38;5;28mself\u001b[39m\u001b[38;5;241m.\u001b[39m_jupyter_mimetype}\n\u001b[0;32m     97\u001b[0m include \u001b[38;5;241m-\u001b[39m\u001b[38;5;241m=\u001b[39m \u001b[38;5;28mset\u001b[39m(exclude \u001b[38;5;129;01mor\u001b[39;00m [])\n\u001b[1;32m---> 98\u001b[0m \u001b[38;5;28;01mreturn\u001b[39;00m {mimetype: \u001b[38;5;28;43mgetattr\u001b[39;49m\u001b[43m(\u001b[49m\u001b[38;5;28;43mself\u001b[39;49m\u001b[43m,\u001b[49m\u001b[43m \u001b[49m\u001b[43mmethod_name\u001b[49m\u001b[43m)\u001b[49m\u001b[43m(\u001b[49m\u001b[43m)\u001b[49m\n\u001b[0;32m     99\u001b[0m         \u001b[38;5;28;01mfor\u001b[39;00m mimetype, method_name \u001b[38;5;129;01min\u001b[39;00m MIME_TYPES\u001b[38;5;241m.\u001b[39mitems()\n\u001b[0;32m    100\u001b[0m         \u001b[38;5;28;01mif\u001b[39;00m mimetype \u001b[38;5;129;01min\u001b[39;00m include}\n",
      "File \u001b[1;32m~\\AppData\\Local\\Packages\\PythonSoftwareFoundation.Python.3.11_qbz5n2kfra8p0\\LocalCache\\local-packages\\Python311\\site-packages\\graphviz\\jupyter_integration.py:112\u001b[0m, in \u001b[0;36mJupyterIntegration._repr_image_svg_xml\u001b[1;34m(self)\u001b[0m\n\u001b[0;32m    110\u001b[0m \u001b[38;5;28;01mdef\u001b[39;00m\u001b[38;5;250m \u001b[39m\u001b[38;5;21m_repr_image_svg_xml\u001b[39m(\u001b[38;5;28mself\u001b[39m) \u001b[38;5;241m-\u001b[39m\u001b[38;5;241m>\u001b[39m \u001b[38;5;28mstr\u001b[39m:\n\u001b[0;32m    111\u001b[0m \u001b[38;5;250m    \u001b[39m\u001b[38;5;124;03m\"\"\"Return the rendered graph as SVG string.\"\"\"\u001b[39;00m\n\u001b[1;32m--> 112\u001b[0m     \u001b[38;5;28;01mreturn\u001b[39;00m \u001b[38;5;28;43mself\u001b[39;49m\u001b[38;5;241;43m.\u001b[39;49m\u001b[43mpipe\u001b[49m\u001b[43m(\u001b[49m\u001b[38;5;28;43mformat\u001b[39;49m\u001b[38;5;241;43m=\u001b[39;49m\u001b[38;5;124;43m'\u001b[39;49m\u001b[38;5;124;43msvg\u001b[39;49m\u001b[38;5;124;43m'\u001b[39;49m\u001b[43m,\u001b[49m\u001b[43m \u001b[49m\u001b[43mencoding\u001b[49m\u001b[38;5;241;43m=\u001b[39;49m\u001b[43mSVG_ENCODING\u001b[49m\u001b[43m)\u001b[49m\n",
      "File \u001b[1;32m~\\AppData\\Local\\Packages\\PythonSoftwareFoundation.Python.3.11_qbz5n2kfra8p0\\LocalCache\\local-packages\\Python311\\site-packages\\graphviz\\piping.py:104\u001b[0m, in \u001b[0;36mPipe.pipe\u001b[1;34m(self, format, renderer, formatter, neato_no_op, quiet, engine, encoding)\u001b[0m\n\u001b[0;32m     55\u001b[0m \u001b[38;5;28;01mdef\u001b[39;00m\u001b[38;5;250m \u001b[39m\u001b[38;5;21mpipe\u001b[39m(\u001b[38;5;28mself\u001b[39m,\n\u001b[0;32m     56\u001b[0m          \u001b[38;5;28mformat\u001b[39m: typing\u001b[38;5;241m.\u001b[39mOptional[\u001b[38;5;28mstr\u001b[39m] \u001b[38;5;241m=\u001b[39m \u001b[38;5;28;01mNone\u001b[39;00m,\n\u001b[0;32m     57\u001b[0m          renderer: typing\u001b[38;5;241m.\u001b[39mOptional[\u001b[38;5;28mstr\u001b[39m] \u001b[38;5;241m=\u001b[39m \u001b[38;5;28;01mNone\u001b[39;00m,\n\u001b[1;32m   (...)\u001b[0m\n\u001b[0;32m     61\u001b[0m          engine: typing\u001b[38;5;241m.\u001b[39mOptional[\u001b[38;5;28mstr\u001b[39m] \u001b[38;5;241m=\u001b[39m \u001b[38;5;28;01mNone\u001b[39;00m,\n\u001b[0;32m     62\u001b[0m          encoding: typing\u001b[38;5;241m.\u001b[39mOptional[\u001b[38;5;28mstr\u001b[39m] \u001b[38;5;241m=\u001b[39m \u001b[38;5;28;01mNone\u001b[39;00m) \u001b[38;5;241m-\u001b[39m\u001b[38;5;241m>\u001b[39m typing\u001b[38;5;241m.\u001b[39mUnion[\u001b[38;5;28mbytes\u001b[39m, \u001b[38;5;28mstr\u001b[39m]:\n\u001b[0;32m     63\u001b[0m \u001b[38;5;250m    \u001b[39m\u001b[38;5;124;03m\"\"\"Return the source piped through the Graphviz layout command.\u001b[39;00m\n\u001b[0;32m     64\u001b[0m \n\u001b[0;32m     65\u001b[0m \u001b[38;5;124;03m    Args:\u001b[39;00m\n\u001b[1;32m   (...)\u001b[0m\n\u001b[0;32m    102\u001b[0m \u001b[38;5;124;03m        '<?xml version='\u001b[39;00m\n\u001b[0;32m    103\u001b[0m \u001b[38;5;124;03m    \"\"\"\u001b[39;00m\n\u001b[1;32m--> 104\u001b[0m     \u001b[38;5;28;01mreturn\u001b[39;00m \u001b[38;5;28;43mself\u001b[39;49m\u001b[38;5;241;43m.\u001b[39;49m\u001b[43m_pipe_legacy\u001b[49m\u001b[43m(\u001b[49m\u001b[38;5;28;43mformat\u001b[39;49m\u001b[43m,\u001b[49m\n\u001b[0;32m    105\u001b[0m \u001b[43m                             \u001b[49m\u001b[43mrenderer\u001b[49m\u001b[38;5;241;43m=\u001b[39;49m\u001b[43mrenderer\u001b[49m\u001b[43m,\u001b[49m\n\u001b[0;32m    106\u001b[0m \u001b[43m                             \u001b[49m\u001b[43mformatter\u001b[49m\u001b[38;5;241;43m=\u001b[39;49m\u001b[43mformatter\u001b[49m\u001b[43m,\u001b[49m\n\u001b[0;32m    107\u001b[0m \u001b[43m                             \u001b[49m\u001b[43mneato_no_op\u001b[49m\u001b[38;5;241;43m=\u001b[39;49m\u001b[43mneato_no_op\u001b[49m\u001b[43m,\u001b[49m\n\u001b[0;32m    108\u001b[0m \u001b[43m                             \u001b[49m\u001b[43mquiet\u001b[49m\u001b[38;5;241;43m=\u001b[39;49m\u001b[43mquiet\u001b[49m\u001b[43m,\u001b[49m\n\u001b[0;32m    109\u001b[0m \u001b[43m                             \u001b[49m\u001b[43mengine\u001b[49m\u001b[38;5;241;43m=\u001b[39;49m\u001b[43mengine\u001b[49m\u001b[43m,\u001b[49m\n\u001b[0;32m    110\u001b[0m \u001b[43m                             \u001b[49m\u001b[43mencoding\u001b[49m\u001b[38;5;241;43m=\u001b[39;49m\u001b[43mencoding\u001b[49m\u001b[43m)\u001b[49m\n",
      "File \u001b[1;32m~\\AppData\\Local\\Packages\\PythonSoftwareFoundation.Python.3.11_qbz5n2kfra8p0\\LocalCache\\local-packages\\Python311\\site-packages\\graphviz\\_tools.py:171\u001b[0m, in \u001b[0;36mdeprecate_positional_args.<locals>.decorator.<locals>.wrapper\u001b[1;34m(*args, **kwargs)\u001b[0m\n\u001b[0;32m    162\u001b[0m     wanted \u001b[38;5;241m=\u001b[39m \u001b[38;5;124m'\u001b[39m\u001b[38;5;124m, \u001b[39m\u001b[38;5;124m'\u001b[39m\u001b[38;5;241m.\u001b[39mjoin(\u001b[38;5;124mf\u001b[39m\u001b[38;5;124m'\u001b[39m\u001b[38;5;132;01m{\u001b[39;00mname\u001b[38;5;132;01m}\u001b[39;00m\u001b[38;5;124m=\u001b[39m\u001b[38;5;132;01m{\u001b[39;00mvalue\u001b[38;5;132;01m!r}\u001b[39;00m\u001b[38;5;124m'\u001b[39m\n\u001b[0;32m    163\u001b[0m                        \u001b[38;5;28;01mfor\u001b[39;00m name, value \u001b[38;5;129;01min\u001b[39;00m deprecated\u001b[38;5;241m.\u001b[39mitems())\n\u001b[0;32m    164\u001b[0m     warnings\u001b[38;5;241m.\u001b[39mwarn(\u001b[38;5;124mf\u001b[39m\u001b[38;5;124m'\u001b[39m\u001b[38;5;124mThe signature of \u001b[39m\u001b[38;5;132;01m{\u001b[39;00mfunc\u001b[38;5;241m.\u001b[39m\u001b[38;5;18m__name__\u001b[39m\u001b[38;5;132;01m}\u001b[39;00m\u001b[38;5;124m will be reduced\u001b[39m\u001b[38;5;124m'\u001b[39m\n\u001b[0;32m    165\u001b[0m                   \u001b[38;5;124mf\u001b[39m\u001b[38;5;124m'\u001b[39m\u001b[38;5;124m to \u001b[39m\u001b[38;5;132;01m{\u001b[39;00msupported_number\u001b[38;5;132;01m}\u001b[39;00m\u001b[38;5;124m positional args\u001b[39m\u001b[38;5;124m'\u001b[39m\n\u001b[0;32m    166\u001b[0m                   \u001b[38;5;124mf\u001b[39m\u001b[38;5;124m'\u001b[39m\u001b[38;5;124m \u001b[39m\u001b[38;5;132;01m{\u001b[39;00m\u001b[38;5;28mlist\u001b[39m(supported)\u001b[38;5;132;01m}\u001b[39;00m\u001b[38;5;124m: pass \u001b[39m\u001b[38;5;132;01m{\u001b[39;00mwanted\u001b[38;5;132;01m}\u001b[39;00m\u001b[38;5;124m'\u001b[39m\n\u001b[0;32m    167\u001b[0m                   \u001b[38;5;124m'\u001b[39m\u001b[38;5;124m as keyword arg(s)\u001b[39m\u001b[38;5;124m'\u001b[39m,\n\u001b[0;32m    168\u001b[0m                   stacklevel\u001b[38;5;241m=\u001b[39mstacklevel,\n\u001b[0;32m    169\u001b[0m                   category\u001b[38;5;241m=\u001b[39mcategory)\n\u001b[1;32m--> 171\u001b[0m \u001b[38;5;28;01mreturn\u001b[39;00m \u001b[43mfunc\u001b[49m\u001b[43m(\u001b[49m\u001b[38;5;241;43m*\u001b[39;49m\u001b[43margs\u001b[49m\u001b[43m,\u001b[49m\u001b[43m \u001b[49m\u001b[38;5;241;43m*\u001b[39;49m\u001b[38;5;241;43m*\u001b[39;49m\u001b[43mkwargs\u001b[49m\u001b[43m)\u001b[49m\n",
      "File \u001b[1;32m~\\AppData\\Local\\Packages\\PythonSoftwareFoundation.Python.3.11_qbz5n2kfra8p0\\LocalCache\\local-packages\\Python311\\site-packages\\graphviz\\piping.py:121\u001b[0m, in \u001b[0;36mPipe._pipe_legacy\u001b[1;34m(self, format, renderer, formatter, neato_no_op, quiet, engine, encoding)\u001b[0m\n\u001b[0;32m    112\u001b[0m \u001b[38;5;129m@_tools\u001b[39m\u001b[38;5;241m.\u001b[39mdeprecate_positional_args(supported_number\u001b[38;5;241m=\u001b[39m\u001b[38;5;241m2\u001b[39m)\n\u001b[0;32m    113\u001b[0m \u001b[38;5;28;01mdef\u001b[39;00m\u001b[38;5;250m \u001b[39m\u001b[38;5;21m_pipe_legacy\u001b[39m(\u001b[38;5;28mself\u001b[39m,\n\u001b[0;32m    114\u001b[0m                  \u001b[38;5;28mformat\u001b[39m: typing\u001b[38;5;241m.\u001b[39mOptional[\u001b[38;5;28mstr\u001b[39m] \u001b[38;5;241m=\u001b[39m \u001b[38;5;28;01mNone\u001b[39;00m,\n\u001b[1;32m   (...)\u001b[0m\n\u001b[0;32m    119\u001b[0m                  engine: typing\u001b[38;5;241m.\u001b[39mOptional[\u001b[38;5;28mstr\u001b[39m] \u001b[38;5;241m=\u001b[39m \u001b[38;5;28;01mNone\u001b[39;00m,\n\u001b[0;32m    120\u001b[0m                  encoding: typing\u001b[38;5;241m.\u001b[39mOptional[\u001b[38;5;28mstr\u001b[39m] \u001b[38;5;241m=\u001b[39m \u001b[38;5;28;01mNone\u001b[39;00m) \u001b[38;5;241m-\u001b[39m\u001b[38;5;241m>\u001b[39m typing\u001b[38;5;241m.\u001b[39mUnion[\u001b[38;5;28mbytes\u001b[39m, \u001b[38;5;28mstr\u001b[39m]:\n\u001b[1;32m--> 121\u001b[0m     \u001b[38;5;28;01mreturn\u001b[39;00m \u001b[38;5;28;43mself\u001b[39;49m\u001b[38;5;241;43m.\u001b[39;49m\u001b[43m_pipe_future\u001b[49m\u001b[43m(\u001b[49m\u001b[38;5;28;43mformat\u001b[39;49m\u001b[43m,\u001b[49m\n\u001b[0;32m    122\u001b[0m \u001b[43m                             \u001b[49m\u001b[43mrenderer\u001b[49m\u001b[38;5;241;43m=\u001b[39;49m\u001b[43mrenderer\u001b[49m\u001b[43m,\u001b[49m\n\u001b[0;32m    123\u001b[0m \u001b[43m                             \u001b[49m\u001b[43mformatter\u001b[49m\u001b[38;5;241;43m=\u001b[39;49m\u001b[43mformatter\u001b[49m\u001b[43m,\u001b[49m\n\u001b[0;32m    124\u001b[0m \u001b[43m                             \u001b[49m\u001b[43mneato_no_op\u001b[49m\u001b[38;5;241;43m=\u001b[39;49m\u001b[43mneato_no_op\u001b[49m\u001b[43m,\u001b[49m\n\u001b[0;32m    125\u001b[0m \u001b[43m                             \u001b[49m\u001b[43mquiet\u001b[49m\u001b[38;5;241;43m=\u001b[39;49m\u001b[43mquiet\u001b[49m\u001b[43m,\u001b[49m\n\u001b[0;32m    126\u001b[0m \u001b[43m                             \u001b[49m\u001b[43mengine\u001b[49m\u001b[38;5;241;43m=\u001b[39;49m\u001b[43mengine\u001b[49m\u001b[43m,\u001b[49m\n\u001b[0;32m    127\u001b[0m \u001b[43m                             \u001b[49m\u001b[43mencoding\u001b[49m\u001b[38;5;241;43m=\u001b[39;49m\u001b[43mencoding\u001b[49m\u001b[43m)\u001b[49m\n",
      "File \u001b[1;32m~\\AppData\\Local\\Packages\\PythonSoftwareFoundation.Python.3.11_qbz5n2kfra8p0\\LocalCache\\local-packages\\Python311\\site-packages\\graphviz\\piping.py:149\u001b[0m, in \u001b[0;36mPipe._pipe_future\u001b[1;34m(self, format, renderer, formatter, neato_no_op, quiet, engine, encoding)\u001b[0m\n\u001b[0;32m    146\u001b[0m \u001b[38;5;28;01mif\u001b[39;00m encoding \u001b[38;5;129;01mis\u001b[39;00m \u001b[38;5;129;01mnot\u001b[39;00m \u001b[38;5;28;01mNone\u001b[39;00m:\n\u001b[0;32m    147\u001b[0m     \u001b[38;5;28;01mif\u001b[39;00m codecs\u001b[38;5;241m.\u001b[39mlookup(encoding) \u001b[38;5;129;01mis\u001b[39;00m codecs\u001b[38;5;241m.\u001b[39mlookup(\u001b[38;5;28mself\u001b[39m\u001b[38;5;241m.\u001b[39mencoding):\n\u001b[0;32m    148\u001b[0m         \u001b[38;5;66;03m# common case: both stdin and stdout need the same encoding\u001b[39;00m\n\u001b[1;32m--> 149\u001b[0m         \u001b[38;5;28;01mreturn\u001b[39;00m \u001b[38;5;28;43mself\u001b[39;49m\u001b[38;5;241;43m.\u001b[39;49m\u001b[43m_pipe_lines_string\u001b[49m\u001b[43m(\u001b[49m\u001b[38;5;241;43m*\u001b[39;49m\u001b[43margs\u001b[49m\u001b[43m,\u001b[49m\u001b[43m \u001b[49m\u001b[43mencoding\u001b[49m\u001b[38;5;241;43m=\u001b[39;49m\u001b[43mencoding\u001b[49m\u001b[43m,\u001b[49m\u001b[43m \u001b[49m\u001b[38;5;241;43m*\u001b[39;49m\u001b[38;5;241;43m*\u001b[39;49m\u001b[43mkwargs\u001b[49m\u001b[43m)\u001b[49m\n\u001b[0;32m    150\u001b[0m     \u001b[38;5;28;01mtry\u001b[39;00m:\n\u001b[0;32m    151\u001b[0m         raw \u001b[38;5;241m=\u001b[39m \u001b[38;5;28mself\u001b[39m\u001b[38;5;241m.\u001b[39m_pipe_lines(\u001b[38;5;241m*\u001b[39margs, input_encoding\u001b[38;5;241m=\u001b[39m\u001b[38;5;28mself\u001b[39m\u001b[38;5;241m.\u001b[39mencoding, \u001b[38;5;241m*\u001b[39m\u001b[38;5;241m*\u001b[39mkwargs)\n",
      "File \u001b[1;32m~\\AppData\\Local\\Packages\\PythonSoftwareFoundation.Python.3.11_qbz5n2kfra8p0\\LocalCache\\local-packages\\Python311\\site-packages\\graphviz\\backend\\piping.py:212\u001b[0m, in \u001b[0;36mpipe_lines_string\u001b[1;34m(engine, format, input_lines, encoding, renderer, formatter, neato_no_op, quiet)\u001b[0m\n\u001b[0;32m    206\u001b[0m cmd \u001b[38;5;241m=\u001b[39m dot_command\u001b[38;5;241m.\u001b[39mcommand(engine, \u001b[38;5;28mformat\u001b[39m,\n\u001b[0;32m    207\u001b[0m                           renderer\u001b[38;5;241m=\u001b[39mrenderer,\n\u001b[0;32m    208\u001b[0m                           formatter\u001b[38;5;241m=\u001b[39mformatter,\n\u001b[0;32m    209\u001b[0m                           neato_no_op\u001b[38;5;241m=\u001b[39mneato_no_op)\n\u001b[0;32m    210\u001b[0m kwargs \u001b[38;5;241m=\u001b[39m {\u001b[38;5;124m'\u001b[39m\u001b[38;5;124minput_lines\u001b[39m\u001b[38;5;124m'\u001b[39m: input_lines, \u001b[38;5;124m'\u001b[39m\u001b[38;5;124mencoding\u001b[39m\u001b[38;5;124m'\u001b[39m: encoding}\n\u001b[1;32m--> 212\u001b[0m proc \u001b[38;5;241m=\u001b[39m \u001b[43mexecute\u001b[49m\u001b[38;5;241;43m.\u001b[39;49m\u001b[43mrun_check\u001b[49m\u001b[43m(\u001b[49m\u001b[43mcmd\u001b[49m\u001b[43m,\u001b[49m\u001b[43m \u001b[49m\u001b[43mcapture_output\u001b[49m\u001b[38;5;241;43m=\u001b[39;49m\u001b[38;5;28;43;01mTrue\u001b[39;49;00m\u001b[43m,\u001b[49m\u001b[43m \u001b[49m\u001b[43mquiet\u001b[49m\u001b[38;5;241;43m=\u001b[39;49m\u001b[43mquiet\u001b[49m\u001b[43m,\u001b[49m\u001b[43m \u001b[49m\u001b[38;5;241;43m*\u001b[39;49m\u001b[38;5;241;43m*\u001b[39;49m\u001b[43mkwargs\u001b[49m\u001b[43m)\u001b[49m\n\u001b[0;32m    213\u001b[0m \u001b[38;5;28;01mreturn\u001b[39;00m proc\u001b[38;5;241m.\u001b[39mstdout\n",
      "File \u001b[1;32m~\\AppData\\Local\\Packages\\PythonSoftwareFoundation.Python.3.11_qbz5n2kfra8p0\\LocalCache\\local-packages\\Python311\\site-packages\\graphviz\\backend\\execute.py:81\u001b[0m, in \u001b[0;36mrun_check\u001b[1;34m(cmd, input_lines, encoding, quiet, **kwargs)\u001b[0m\n\u001b[0;32m     79\u001b[0m \u001b[38;5;28;01mexcept\u001b[39;00m \u001b[38;5;167;01mOSError\u001b[39;00m \u001b[38;5;28;01mas\u001b[39;00m e:\n\u001b[0;32m     80\u001b[0m     \u001b[38;5;28;01mif\u001b[39;00m e\u001b[38;5;241m.\u001b[39merrno \u001b[38;5;241m==\u001b[39m errno\u001b[38;5;241m.\u001b[39mENOENT:\n\u001b[1;32m---> 81\u001b[0m         \u001b[38;5;28;01mraise\u001b[39;00m ExecutableNotFound(cmd) \u001b[38;5;28;01mfrom\u001b[39;00m\u001b[38;5;250m \u001b[39m\u001b[38;5;21;01me\u001b[39;00m\n\u001b[0;32m     82\u001b[0m     \u001b[38;5;28;01mraise\u001b[39;00m\n\u001b[0;32m     84\u001b[0m \u001b[38;5;28;01mif\u001b[39;00m \u001b[38;5;129;01mnot\u001b[39;00m quiet \u001b[38;5;129;01mand\u001b[39;00m proc\u001b[38;5;241m.\u001b[39mstderr:\n",
      "\u001b[1;31mExecutableNotFound\u001b[0m: failed to execute WindowsPath('dot'), make sure the Graphviz executables are on your systems' PATH"
     ]
    },
    {
     "data": {
      "text/plain": [
       "<graphviz.graphs.Digraph at 0x263f8bfd890>"
      ]
     },
     "execution_count": 48,
     "metadata": {},
     "output_type": "execute_result"
    }
   ],
   "source": [
    "make_dot(a)"
   ]
  },
  {
   "cell_type": "markdown",
   "metadata": {},
   "source": [
    "### Gradienty"
   ]
  },
  {
   "cell_type": "code",
   "execution_count": null,
   "metadata": {
    "ExecuteTime": {
     "end_time": "2021-10-02T14:35:46.508194Z",
     "start_time": "2021-10-02T14:35:46.498330Z"
    }
   },
   "outputs": [
    {
     "name": "stdout",
     "output_type": "stream",
     "text": [
      "tensor([1.], requires_grad=True)\n"
     ]
    },
    {
     "data": {
      "text/plain": [
       "tensor([125.], grad_fn=<PowBackward0>)"
      ]
     },
     "execution_count": 40,
     "metadata": {},
     "output_type": "execute_result"
    }
   ],
   "source": [
    "x = torch.ones(1, requires_grad=True)\n",
    "print(x)\n",
    "y = (x+4)**3\n",
    "y"
   ]
  },
  {
   "cell_type": "code",
   "execution_count": null,
   "metadata": {
    "ExecuteTime": {
     "end_time": "2021-10-02T14:33:10.240622Z",
     "start_time": "2021-10-02T14:33:10.200061Z"
    }
   },
   "outputs": [
    {
     "ename": "ExecutableNotFound",
     "evalue": "failed to execute WindowsPath('dot'), make sure the Graphviz executables are on your systems' PATH",
     "output_type": "error",
     "traceback": [
      "\u001b[1;31m---------------------------------------------------------------------------\u001b[0m",
      "\u001b[1;31mFileNotFoundError\u001b[0m                         Traceback (most recent call last)",
      "File \u001b[1;32m~\\AppData\\Local\\Packages\\PythonSoftwareFoundation.Python.3.11_qbz5n2kfra8p0\\LocalCache\\local-packages\\Python311\\site-packages\\graphviz\\backend\\execute.py:76\u001b[0m, in \u001b[0;36mrun_check\u001b[1;34m(cmd, input_lines, encoding, quiet, **kwargs)\u001b[0m\n\u001b[0;32m     75\u001b[0m         kwargs[\u001b[38;5;124m'\u001b[39m\u001b[38;5;124mstdout\u001b[39m\u001b[38;5;124m'\u001b[39m] \u001b[38;5;241m=\u001b[39m kwargs[\u001b[38;5;124m'\u001b[39m\u001b[38;5;124mstderr\u001b[39m\u001b[38;5;124m'\u001b[39m] \u001b[38;5;241m=\u001b[39m subprocess\u001b[38;5;241m.\u001b[39mPIPE\n\u001b[1;32m---> 76\u001b[0m     proc \u001b[38;5;241m=\u001b[39m \u001b[43m_run_input_lines\u001b[49m\u001b[43m(\u001b[49m\u001b[43mcmd\u001b[49m\u001b[43m,\u001b[49m\u001b[43m \u001b[49m\u001b[43minput_lines\u001b[49m\u001b[43m,\u001b[49m\u001b[43m \u001b[49m\u001b[43mkwargs\u001b[49m\u001b[38;5;241;43m=\u001b[39;49m\u001b[43mkwargs\u001b[49m\u001b[43m)\u001b[49m\n\u001b[0;32m     77\u001b[0m \u001b[38;5;28;01melse\u001b[39;00m:\n",
      "File \u001b[1;32m~\\AppData\\Local\\Packages\\PythonSoftwareFoundation.Python.3.11_qbz5n2kfra8p0\\LocalCache\\local-packages\\Python311\\site-packages\\graphviz\\backend\\execute.py:96\u001b[0m, in \u001b[0;36m_run_input_lines\u001b[1;34m(cmd, input_lines, kwargs)\u001b[0m\n\u001b[0;32m     95\u001b[0m \u001b[38;5;28;01mdef\u001b[39;00m\u001b[38;5;250m \u001b[39m\u001b[38;5;21m_run_input_lines\u001b[39m(cmd, input_lines, \u001b[38;5;241m*\u001b[39m, kwargs):\n\u001b[1;32m---> 96\u001b[0m     popen \u001b[38;5;241m=\u001b[39m \u001b[43msubprocess\u001b[49m\u001b[38;5;241;43m.\u001b[39;49m\u001b[43mPopen\u001b[49m\u001b[43m(\u001b[49m\u001b[43mcmd\u001b[49m\u001b[43m,\u001b[49m\u001b[43m \u001b[49m\u001b[43mstdin\u001b[49m\u001b[38;5;241;43m=\u001b[39;49m\u001b[43msubprocess\u001b[49m\u001b[38;5;241;43m.\u001b[39;49m\u001b[43mPIPE\u001b[49m\u001b[43m,\u001b[49m\u001b[43m \u001b[49m\u001b[38;5;241;43m*\u001b[39;49m\u001b[38;5;241;43m*\u001b[39;49m\u001b[43mkwargs\u001b[49m\u001b[43m)\u001b[49m\n\u001b[0;32m     98\u001b[0m     stdin_write \u001b[38;5;241m=\u001b[39m popen\u001b[38;5;241m.\u001b[39mstdin\u001b[38;5;241m.\u001b[39mwrite\n",
      "File \u001b[1;32mC:\\Program Files\\WindowsApps\\PythonSoftwareFoundation.Python.3.11_3.11.2544.0_x64__qbz5n2kfra8p0\\Lib\\subprocess.py:1026\u001b[0m, in \u001b[0;36mPopen.__init__\u001b[1;34m(self, args, bufsize, executable, stdin, stdout, stderr, preexec_fn, close_fds, shell, cwd, env, universal_newlines, startupinfo, creationflags, restore_signals, start_new_session, pass_fds, user, group, extra_groups, encoding, errors, text, umask, pipesize, process_group)\u001b[0m\n\u001b[0;32m   1023\u001b[0m             \u001b[38;5;28mself\u001b[39m\u001b[38;5;241m.\u001b[39mstderr \u001b[38;5;241m=\u001b[39m io\u001b[38;5;241m.\u001b[39mTextIOWrapper(\u001b[38;5;28mself\u001b[39m\u001b[38;5;241m.\u001b[39mstderr,\n\u001b[0;32m   1024\u001b[0m                     encoding\u001b[38;5;241m=\u001b[39mencoding, errors\u001b[38;5;241m=\u001b[39merrors)\n\u001b[1;32m-> 1026\u001b[0m     \u001b[38;5;28;43mself\u001b[39;49m\u001b[38;5;241;43m.\u001b[39;49m\u001b[43m_execute_child\u001b[49m\u001b[43m(\u001b[49m\u001b[43margs\u001b[49m\u001b[43m,\u001b[49m\u001b[43m \u001b[49m\u001b[43mexecutable\u001b[49m\u001b[43m,\u001b[49m\u001b[43m \u001b[49m\u001b[43mpreexec_fn\u001b[49m\u001b[43m,\u001b[49m\u001b[43m \u001b[49m\u001b[43mclose_fds\u001b[49m\u001b[43m,\u001b[49m\n\u001b[0;32m   1027\u001b[0m \u001b[43m                        \u001b[49m\u001b[43mpass_fds\u001b[49m\u001b[43m,\u001b[49m\u001b[43m \u001b[49m\u001b[43mcwd\u001b[49m\u001b[43m,\u001b[49m\u001b[43m \u001b[49m\u001b[43menv\u001b[49m\u001b[43m,\u001b[49m\n\u001b[0;32m   1028\u001b[0m \u001b[43m                        \u001b[49m\u001b[43mstartupinfo\u001b[49m\u001b[43m,\u001b[49m\u001b[43m \u001b[49m\u001b[43mcreationflags\u001b[49m\u001b[43m,\u001b[49m\u001b[43m \u001b[49m\u001b[43mshell\u001b[49m\u001b[43m,\u001b[49m\n\u001b[0;32m   1029\u001b[0m \u001b[43m                        \u001b[49m\u001b[43mp2cread\u001b[49m\u001b[43m,\u001b[49m\u001b[43m \u001b[49m\u001b[43mp2cwrite\u001b[49m\u001b[43m,\u001b[49m\n\u001b[0;32m   1030\u001b[0m \u001b[43m                        \u001b[49m\u001b[43mc2pread\u001b[49m\u001b[43m,\u001b[49m\u001b[43m \u001b[49m\u001b[43mc2pwrite\u001b[49m\u001b[43m,\u001b[49m\n\u001b[0;32m   1031\u001b[0m \u001b[43m                        \u001b[49m\u001b[43merrread\u001b[49m\u001b[43m,\u001b[49m\u001b[43m \u001b[49m\u001b[43merrwrite\u001b[49m\u001b[43m,\u001b[49m\n\u001b[0;32m   1032\u001b[0m \u001b[43m                        \u001b[49m\u001b[43mrestore_signals\u001b[49m\u001b[43m,\u001b[49m\n\u001b[0;32m   1033\u001b[0m \u001b[43m                        \u001b[49m\u001b[43mgid\u001b[49m\u001b[43m,\u001b[49m\u001b[43m \u001b[49m\u001b[43mgids\u001b[49m\u001b[43m,\u001b[49m\u001b[43m \u001b[49m\u001b[43muid\u001b[49m\u001b[43m,\u001b[49m\u001b[43m \u001b[49m\u001b[43mumask\u001b[49m\u001b[43m,\u001b[49m\n\u001b[0;32m   1034\u001b[0m \u001b[43m                        \u001b[49m\u001b[43mstart_new_session\u001b[49m\u001b[43m,\u001b[49m\u001b[43m \u001b[49m\u001b[43mprocess_group\u001b[49m\u001b[43m)\u001b[49m\n\u001b[0;32m   1035\u001b[0m \u001b[38;5;28;01mexcept\u001b[39;00m:\n\u001b[0;32m   1036\u001b[0m     \u001b[38;5;66;03m# Cleanup if the child failed starting.\u001b[39;00m\n",
      "File \u001b[1;32mC:\\Program Files\\WindowsApps\\PythonSoftwareFoundation.Python.3.11_3.11.2544.0_x64__qbz5n2kfra8p0\\Lib\\subprocess.py:1538\u001b[0m, in \u001b[0;36mPopen._execute_child\u001b[1;34m(self, args, executable, preexec_fn, close_fds, pass_fds, cwd, env, startupinfo, creationflags, shell, p2cread, p2cwrite, c2pread, c2pwrite, errread, errwrite, unused_restore_signals, unused_gid, unused_gids, unused_uid, unused_umask, unused_start_new_session, unused_process_group)\u001b[0m\n\u001b[0;32m   1537\u001b[0m \u001b[38;5;28;01mtry\u001b[39;00m:\n\u001b[1;32m-> 1538\u001b[0m     hp, ht, pid, tid \u001b[38;5;241m=\u001b[39m \u001b[43m_winapi\u001b[49m\u001b[38;5;241;43m.\u001b[39;49m\u001b[43mCreateProcess\u001b[49m\u001b[43m(\u001b[49m\u001b[43mexecutable\u001b[49m\u001b[43m,\u001b[49m\u001b[43m \u001b[49m\u001b[43margs\u001b[49m\u001b[43m,\u001b[49m\n\u001b[0;32m   1539\u001b[0m \u001b[43m                             \u001b[49m\u001b[38;5;66;43;03m# no special security\u001b[39;49;00m\n\u001b[0;32m   1540\u001b[0m \u001b[43m                             \u001b[49m\u001b[38;5;28;43;01mNone\u001b[39;49;00m\u001b[43m,\u001b[49m\u001b[43m \u001b[49m\u001b[38;5;28;43;01mNone\u001b[39;49;00m\u001b[43m,\u001b[49m\n\u001b[0;32m   1541\u001b[0m \u001b[43m                             \u001b[49m\u001b[38;5;28;43mint\u001b[39;49m\u001b[43m(\u001b[49m\u001b[38;5;129;43;01mnot\u001b[39;49;00m\u001b[43m \u001b[49m\u001b[43mclose_fds\u001b[49m\u001b[43m)\u001b[49m\u001b[43m,\u001b[49m\n\u001b[0;32m   1542\u001b[0m \u001b[43m                             \u001b[49m\u001b[43mcreationflags\u001b[49m\u001b[43m,\u001b[49m\n\u001b[0;32m   1543\u001b[0m \u001b[43m                             \u001b[49m\u001b[43menv\u001b[49m\u001b[43m,\u001b[49m\n\u001b[0;32m   1544\u001b[0m \u001b[43m                             \u001b[49m\u001b[43mcwd\u001b[49m\u001b[43m,\u001b[49m\n\u001b[0;32m   1545\u001b[0m \u001b[43m                             \u001b[49m\u001b[43mstartupinfo\u001b[49m\u001b[43m)\u001b[49m\n\u001b[0;32m   1546\u001b[0m \u001b[38;5;28;01mfinally\u001b[39;00m:\n\u001b[0;32m   1547\u001b[0m     \u001b[38;5;66;03m# Child is launched. Close the parent's copy of those pipe\u001b[39;00m\n\u001b[0;32m   1548\u001b[0m     \u001b[38;5;66;03m# handles that only the child should have open.  You need\u001b[39;00m\n\u001b[1;32m   (...)\u001b[0m\n\u001b[0;32m   1551\u001b[0m     \u001b[38;5;66;03m# pipe will not close when the child process exits and the\u001b[39;00m\n\u001b[0;32m   1552\u001b[0m     \u001b[38;5;66;03m# ReadFile will hang.\u001b[39;00m\n",
      "\u001b[1;31mFileNotFoundError\u001b[0m: [WinError 2] Nie można odnaleźć określonego pliku",
      "\nThe above exception was the direct cause of the following exception:\n",
      "\u001b[1;31mExecutableNotFound\u001b[0m                        Traceback (most recent call last)",
      "File \u001b[1;32m~\\AppData\\Local\\Packages\\PythonSoftwareFoundation.Python.3.11_qbz5n2kfra8p0\\LocalCache\\local-packages\\Python311\\site-packages\\IPython\\core\\formatters.py:1036\u001b[0m, in \u001b[0;36mMimeBundleFormatter.__call__\u001b[1;34m(self, obj, include, exclude)\u001b[0m\n\u001b[0;32m   1033\u001b[0m     method \u001b[38;5;241m=\u001b[39m get_real_method(obj, \u001b[38;5;28mself\u001b[39m\u001b[38;5;241m.\u001b[39mprint_method)\n\u001b[0;32m   1035\u001b[0m     \u001b[38;5;28;01mif\u001b[39;00m method \u001b[38;5;129;01mis\u001b[39;00m \u001b[38;5;129;01mnot\u001b[39;00m \u001b[38;5;28;01mNone\u001b[39;00m:\n\u001b[1;32m-> 1036\u001b[0m         \u001b[38;5;28;01mreturn\u001b[39;00m \u001b[43mmethod\u001b[49m\u001b[43m(\u001b[49m\u001b[43minclude\u001b[49m\u001b[38;5;241;43m=\u001b[39;49m\u001b[43minclude\u001b[49m\u001b[43m,\u001b[49m\u001b[43m \u001b[49m\u001b[43mexclude\u001b[49m\u001b[38;5;241;43m=\u001b[39;49m\u001b[43mexclude\u001b[49m\u001b[43m)\u001b[49m\n\u001b[0;32m   1037\u001b[0m     \u001b[38;5;28;01mreturn\u001b[39;00m \u001b[38;5;28;01mNone\u001b[39;00m\n\u001b[0;32m   1038\u001b[0m \u001b[38;5;28;01melse\u001b[39;00m:\n",
      "File \u001b[1;32m~\\AppData\\Local\\Packages\\PythonSoftwareFoundation.Python.3.11_qbz5n2kfra8p0\\LocalCache\\local-packages\\Python311\\site-packages\\graphviz\\jupyter_integration.py:98\u001b[0m, in \u001b[0;36mJupyterIntegration._repr_mimebundle_\u001b[1;34m(self, include, exclude, **_)\u001b[0m\n\u001b[0;32m     96\u001b[0m include \u001b[38;5;241m=\u001b[39m \u001b[38;5;28mset\u001b[39m(include) \u001b[38;5;28;01mif\u001b[39;00m include \u001b[38;5;129;01mis\u001b[39;00m \u001b[38;5;129;01mnot\u001b[39;00m \u001b[38;5;28;01mNone\u001b[39;00m \u001b[38;5;28;01melse\u001b[39;00m {\u001b[38;5;28mself\u001b[39m\u001b[38;5;241m.\u001b[39m_jupyter_mimetype}\n\u001b[0;32m     97\u001b[0m include \u001b[38;5;241m-\u001b[39m\u001b[38;5;241m=\u001b[39m \u001b[38;5;28mset\u001b[39m(exclude \u001b[38;5;129;01mor\u001b[39;00m [])\n\u001b[1;32m---> 98\u001b[0m \u001b[38;5;28;01mreturn\u001b[39;00m \u001b[43m{\u001b[49m\u001b[43mmimetype\u001b[49m\u001b[43m:\u001b[49m\u001b[43m \u001b[49m\u001b[38;5;28;43mgetattr\u001b[39;49m\u001b[43m(\u001b[49m\u001b[38;5;28;43mself\u001b[39;49m\u001b[43m,\u001b[49m\u001b[43m \u001b[49m\u001b[43mmethod_name\u001b[49m\u001b[43m)\u001b[49m\u001b[43m(\u001b[49m\u001b[43m)\u001b[49m\n\u001b[0;32m     99\u001b[0m \u001b[43m        \u001b[49m\u001b[38;5;28;43;01mfor\u001b[39;49;00m\u001b[43m \u001b[49m\u001b[43mmimetype\u001b[49m\u001b[43m,\u001b[49m\u001b[43m \u001b[49m\u001b[43mmethod_name\u001b[49m\u001b[43m \u001b[49m\u001b[38;5;129;43;01min\u001b[39;49;00m\u001b[43m \u001b[49m\u001b[43mMIME_TYPES\u001b[49m\u001b[38;5;241;43m.\u001b[39;49m\u001b[43mitems\u001b[49m\u001b[43m(\u001b[49m\u001b[43m)\u001b[49m\n\u001b[0;32m    100\u001b[0m \u001b[43m        \u001b[49m\u001b[38;5;28;43;01mif\u001b[39;49;00m\u001b[43m \u001b[49m\u001b[43mmimetype\u001b[49m\u001b[43m \u001b[49m\u001b[38;5;129;43;01min\u001b[39;49;00m\u001b[43m \u001b[49m\u001b[43minclude\u001b[49m\u001b[43m}\u001b[49m\n",
      "File \u001b[1;32m~\\AppData\\Local\\Packages\\PythonSoftwareFoundation.Python.3.11_qbz5n2kfra8p0\\LocalCache\\local-packages\\Python311\\site-packages\\graphviz\\jupyter_integration.py:98\u001b[0m, in \u001b[0;36m<dictcomp>\u001b[1;34m(.0)\u001b[0m\n\u001b[0;32m     96\u001b[0m include \u001b[38;5;241m=\u001b[39m \u001b[38;5;28mset\u001b[39m(include) \u001b[38;5;28;01mif\u001b[39;00m include \u001b[38;5;129;01mis\u001b[39;00m \u001b[38;5;129;01mnot\u001b[39;00m \u001b[38;5;28;01mNone\u001b[39;00m \u001b[38;5;28;01melse\u001b[39;00m {\u001b[38;5;28mself\u001b[39m\u001b[38;5;241m.\u001b[39m_jupyter_mimetype}\n\u001b[0;32m     97\u001b[0m include \u001b[38;5;241m-\u001b[39m\u001b[38;5;241m=\u001b[39m \u001b[38;5;28mset\u001b[39m(exclude \u001b[38;5;129;01mor\u001b[39;00m [])\n\u001b[1;32m---> 98\u001b[0m \u001b[38;5;28;01mreturn\u001b[39;00m {mimetype: \u001b[38;5;28;43mgetattr\u001b[39;49m\u001b[43m(\u001b[49m\u001b[38;5;28;43mself\u001b[39;49m\u001b[43m,\u001b[49m\u001b[43m \u001b[49m\u001b[43mmethod_name\u001b[49m\u001b[43m)\u001b[49m\u001b[43m(\u001b[49m\u001b[43m)\u001b[49m\n\u001b[0;32m     99\u001b[0m         \u001b[38;5;28;01mfor\u001b[39;00m mimetype, method_name \u001b[38;5;129;01min\u001b[39;00m MIME_TYPES\u001b[38;5;241m.\u001b[39mitems()\n\u001b[0;32m    100\u001b[0m         \u001b[38;5;28;01mif\u001b[39;00m mimetype \u001b[38;5;129;01min\u001b[39;00m include}\n",
      "File \u001b[1;32m~\\AppData\\Local\\Packages\\PythonSoftwareFoundation.Python.3.11_qbz5n2kfra8p0\\LocalCache\\local-packages\\Python311\\site-packages\\graphviz\\jupyter_integration.py:112\u001b[0m, in \u001b[0;36mJupyterIntegration._repr_image_svg_xml\u001b[1;34m(self)\u001b[0m\n\u001b[0;32m    110\u001b[0m \u001b[38;5;28;01mdef\u001b[39;00m\u001b[38;5;250m \u001b[39m\u001b[38;5;21m_repr_image_svg_xml\u001b[39m(\u001b[38;5;28mself\u001b[39m) \u001b[38;5;241m-\u001b[39m\u001b[38;5;241m>\u001b[39m \u001b[38;5;28mstr\u001b[39m:\n\u001b[0;32m    111\u001b[0m \u001b[38;5;250m    \u001b[39m\u001b[38;5;124;03m\"\"\"Return the rendered graph as SVG string.\"\"\"\u001b[39;00m\n\u001b[1;32m--> 112\u001b[0m     \u001b[38;5;28;01mreturn\u001b[39;00m \u001b[38;5;28;43mself\u001b[39;49m\u001b[38;5;241;43m.\u001b[39;49m\u001b[43mpipe\u001b[49m\u001b[43m(\u001b[49m\u001b[38;5;28;43mformat\u001b[39;49m\u001b[38;5;241;43m=\u001b[39;49m\u001b[38;5;124;43m'\u001b[39;49m\u001b[38;5;124;43msvg\u001b[39;49m\u001b[38;5;124;43m'\u001b[39;49m\u001b[43m,\u001b[49m\u001b[43m \u001b[49m\u001b[43mencoding\u001b[49m\u001b[38;5;241;43m=\u001b[39;49m\u001b[43mSVG_ENCODING\u001b[49m\u001b[43m)\u001b[49m\n",
      "File \u001b[1;32m~\\AppData\\Local\\Packages\\PythonSoftwareFoundation.Python.3.11_qbz5n2kfra8p0\\LocalCache\\local-packages\\Python311\\site-packages\\graphviz\\piping.py:104\u001b[0m, in \u001b[0;36mPipe.pipe\u001b[1;34m(self, format, renderer, formatter, neato_no_op, quiet, engine, encoding)\u001b[0m\n\u001b[0;32m     55\u001b[0m \u001b[38;5;28;01mdef\u001b[39;00m\u001b[38;5;250m \u001b[39m\u001b[38;5;21mpipe\u001b[39m(\u001b[38;5;28mself\u001b[39m,\n\u001b[0;32m     56\u001b[0m          \u001b[38;5;28mformat\u001b[39m: typing\u001b[38;5;241m.\u001b[39mOptional[\u001b[38;5;28mstr\u001b[39m] \u001b[38;5;241m=\u001b[39m \u001b[38;5;28;01mNone\u001b[39;00m,\n\u001b[0;32m     57\u001b[0m          renderer: typing\u001b[38;5;241m.\u001b[39mOptional[\u001b[38;5;28mstr\u001b[39m] \u001b[38;5;241m=\u001b[39m \u001b[38;5;28;01mNone\u001b[39;00m,\n\u001b[1;32m   (...)\u001b[0m\n\u001b[0;32m     61\u001b[0m          engine: typing\u001b[38;5;241m.\u001b[39mOptional[\u001b[38;5;28mstr\u001b[39m] \u001b[38;5;241m=\u001b[39m \u001b[38;5;28;01mNone\u001b[39;00m,\n\u001b[0;32m     62\u001b[0m          encoding: typing\u001b[38;5;241m.\u001b[39mOptional[\u001b[38;5;28mstr\u001b[39m] \u001b[38;5;241m=\u001b[39m \u001b[38;5;28;01mNone\u001b[39;00m) \u001b[38;5;241m-\u001b[39m\u001b[38;5;241m>\u001b[39m typing\u001b[38;5;241m.\u001b[39mUnion[\u001b[38;5;28mbytes\u001b[39m, \u001b[38;5;28mstr\u001b[39m]:\n\u001b[0;32m     63\u001b[0m \u001b[38;5;250m    \u001b[39m\u001b[38;5;124;03m\"\"\"Return the source piped through the Graphviz layout command.\u001b[39;00m\n\u001b[0;32m     64\u001b[0m \n\u001b[0;32m     65\u001b[0m \u001b[38;5;124;03m    Args:\u001b[39;00m\n\u001b[1;32m   (...)\u001b[0m\n\u001b[0;32m    102\u001b[0m \u001b[38;5;124;03m        '<?xml version='\u001b[39;00m\n\u001b[0;32m    103\u001b[0m \u001b[38;5;124;03m    \"\"\"\u001b[39;00m\n\u001b[1;32m--> 104\u001b[0m     \u001b[38;5;28;01mreturn\u001b[39;00m \u001b[38;5;28;43mself\u001b[39;49m\u001b[38;5;241;43m.\u001b[39;49m\u001b[43m_pipe_legacy\u001b[49m\u001b[43m(\u001b[49m\u001b[38;5;28;43mformat\u001b[39;49m\u001b[43m,\u001b[49m\n\u001b[0;32m    105\u001b[0m \u001b[43m                             \u001b[49m\u001b[43mrenderer\u001b[49m\u001b[38;5;241;43m=\u001b[39;49m\u001b[43mrenderer\u001b[49m\u001b[43m,\u001b[49m\n\u001b[0;32m    106\u001b[0m \u001b[43m                             \u001b[49m\u001b[43mformatter\u001b[49m\u001b[38;5;241;43m=\u001b[39;49m\u001b[43mformatter\u001b[49m\u001b[43m,\u001b[49m\n\u001b[0;32m    107\u001b[0m \u001b[43m                             \u001b[49m\u001b[43mneato_no_op\u001b[49m\u001b[38;5;241;43m=\u001b[39;49m\u001b[43mneato_no_op\u001b[49m\u001b[43m,\u001b[49m\n\u001b[0;32m    108\u001b[0m \u001b[43m                             \u001b[49m\u001b[43mquiet\u001b[49m\u001b[38;5;241;43m=\u001b[39;49m\u001b[43mquiet\u001b[49m\u001b[43m,\u001b[49m\n\u001b[0;32m    109\u001b[0m \u001b[43m                             \u001b[49m\u001b[43mengine\u001b[49m\u001b[38;5;241;43m=\u001b[39;49m\u001b[43mengine\u001b[49m\u001b[43m,\u001b[49m\n\u001b[0;32m    110\u001b[0m \u001b[43m                             \u001b[49m\u001b[43mencoding\u001b[49m\u001b[38;5;241;43m=\u001b[39;49m\u001b[43mencoding\u001b[49m\u001b[43m)\u001b[49m\n",
      "File \u001b[1;32m~\\AppData\\Local\\Packages\\PythonSoftwareFoundation.Python.3.11_qbz5n2kfra8p0\\LocalCache\\local-packages\\Python311\\site-packages\\graphviz\\_tools.py:171\u001b[0m, in \u001b[0;36mdeprecate_positional_args.<locals>.decorator.<locals>.wrapper\u001b[1;34m(*args, **kwargs)\u001b[0m\n\u001b[0;32m    162\u001b[0m     wanted \u001b[38;5;241m=\u001b[39m \u001b[38;5;124m'\u001b[39m\u001b[38;5;124m, \u001b[39m\u001b[38;5;124m'\u001b[39m\u001b[38;5;241m.\u001b[39mjoin(\u001b[38;5;124mf\u001b[39m\u001b[38;5;124m'\u001b[39m\u001b[38;5;132;01m{\u001b[39;00mname\u001b[38;5;132;01m}\u001b[39;00m\u001b[38;5;124m=\u001b[39m\u001b[38;5;132;01m{\u001b[39;00mvalue\u001b[38;5;132;01m!r}\u001b[39;00m\u001b[38;5;124m'\u001b[39m\n\u001b[0;32m    163\u001b[0m                        \u001b[38;5;28;01mfor\u001b[39;00m name, value \u001b[38;5;129;01min\u001b[39;00m deprecated\u001b[38;5;241m.\u001b[39mitems())\n\u001b[0;32m    164\u001b[0m     warnings\u001b[38;5;241m.\u001b[39mwarn(\u001b[38;5;124mf\u001b[39m\u001b[38;5;124m'\u001b[39m\u001b[38;5;124mThe signature of \u001b[39m\u001b[38;5;132;01m{\u001b[39;00mfunc\u001b[38;5;241m.\u001b[39m\u001b[38;5;18m__name__\u001b[39m\u001b[38;5;132;01m}\u001b[39;00m\u001b[38;5;124m will be reduced\u001b[39m\u001b[38;5;124m'\u001b[39m\n\u001b[0;32m    165\u001b[0m                   \u001b[38;5;124mf\u001b[39m\u001b[38;5;124m'\u001b[39m\u001b[38;5;124m to \u001b[39m\u001b[38;5;132;01m{\u001b[39;00msupported_number\u001b[38;5;132;01m}\u001b[39;00m\u001b[38;5;124m positional args\u001b[39m\u001b[38;5;124m'\u001b[39m\n\u001b[0;32m    166\u001b[0m                   \u001b[38;5;124mf\u001b[39m\u001b[38;5;124m'\u001b[39m\u001b[38;5;124m \u001b[39m\u001b[38;5;132;01m{\u001b[39;00m\u001b[38;5;28mlist\u001b[39m(supported)\u001b[38;5;132;01m}\u001b[39;00m\u001b[38;5;124m: pass \u001b[39m\u001b[38;5;132;01m{\u001b[39;00mwanted\u001b[38;5;132;01m}\u001b[39;00m\u001b[38;5;124m'\u001b[39m\n\u001b[0;32m    167\u001b[0m                   \u001b[38;5;124m'\u001b[39m\u001b[38;5;124m as keyword arg(s)\u001b[39m\u001b[38;5;124m'\u001b[39m,\n\u001b[0;32m    168\u001b[0m                   stacklevel\u001b[38;5;241m=\u001b[39mstacklevel,\n\u001b[0;32m    169\u001b[0m                   category\u001b[38;5;241m=\u001b[39mcategory)\n\u001b[1;32m--> 171\u001b[0m \u001b[38;5;28;01mreturn\u001b[39;00m \u001b[43mfunc\u001b[49m\u001b[43m(\u001b[49m\u001b[38;5;241;43m*\u001b[39;49m\u001b[43margs\u001b[49m\u001b[43m,\u001b[49m\u001b[43m \u001b[49m\u001b[38;5;241;43m*\u001b[39;49m\u001b[38;5;241;43m*\u001b[39;49m\u001b[43mkwargs\u001b[49m\u001b[43m)\u001b[49m\n",
      "File \u001b[1;32m~\\AppData\\Local\\Packages\\PythonSoftwareFoundation.Python.3.11_qbz5n2kfra8p0\\LocalCache\\local-packages\\Python311\\site-packages\\graphviz\\piping.py:121\u001b[0m, in \u001b[0;36mPipe._pipe_legacy\u001b[1;34m(self, format, renderer, formatter, neato_no_op, quiet, engine, encoding)\u001b[0m\n\u001b[0;32m    112\u001b[0m \u001b[38;5;129m@_tools\u001b[39m\u001b[38;5;241m.\u001b[39mdeprecate_positional_args(supported_number\u001b[38;5;241m=\u001b[39m\u001b[38;5;241m2\u001b[39m)\n\u001b[0;32m    113\u001b[0m \u001b[38;5;28;01mdef\u001b[39;00m\u001b[38;5;250m \u001b[39m\u001b[38;5;21m_pipe_legacy\u001b[39m(\u001b[38;5;28mself\u001b[39m,\n\u001b[0;32m    114\u001b[0m                  \u001b[38;5;28mformat\u001b[39m: typing\u001b[38;5;241m.\u001b[39mOptional[\u001b[38;5;28mstr\u001b[39m] \u001b[38;5;241m=\u001b[39m \u001b[38;5;28;01mNone\u001b[39;00m,\n\u001b[1;32m   (...)\u001b[0m\n\u001b[0;32m    119\u001b[0m                  engine: typing\u001b[38;5;241m.\u001b[39mOptional[\u001b[38;5;28mstr\u001b[39m] \u001b[38;5;241m=\u001b[39m \u001b[38;5;28;01mNone\u001b[39;00m,\n\u001b[0;32m    120\u001b[0m                  encoding: typing\u001b[38;5;241m.\u001b[39mOptional[\u001b[38;5;28mstr\u001b[39m] \u001b[38;5;241m=\u001b[39m \u001b[38;5;28;01mNone\u001b[39;00m) \u001b[38;5;241m-\u001b[39m\u001b[38;5;241m>\u001b[39m typing\u001b[38;5;241m.\u001b[39mUnion[\u001b[38;5;28mbytes\u001b[39m, \u001b[38;5;28mstr\u001b[39m]:\n\u001b[1;32m--> 121\u001b[0m     \u001b[38;5;28;01mreturn\u001b[39;00m \u001b[38;5;28;43mself\u001b[39;49m\u001b[38;5;241;43m.\u001b[39;49m\u001b[43m_pipe_future\u001b[49m\u001b[43m(\u001b[49m\u001b[38;5;28;43mformat\u001b[39;49m\u001b[43m,\u001b[49m\n\u001b[0;32m    122\u001b[0m \u001b[43m                             \u001b[49m\u001b[43mrenderer\u001b[49m\u001b[38;5;241;43m=\u001b[39;49m\u001b[43mrenderer\u001b[49m\u001b[43m,\u001b[49m\n\u001b[0;32m    123\u001b[0m \u001b[43m                             \u001b[49m\u001b[43mformatter\u001b[49m\u001b[38;5;241;43m=\u001b[39;49m\u001b[43mformatter\u001b[49m\u001b[43m,\u001b[49m\n\u001b[0;32m    124\u001b[0m \u001b[43m                             \u001b[49m\u001b[43mneato_no_op\u001b[49m\u001b[38;5;241;43m=\u001b[39;49m\u001b[43mneato_no_op\u001b[49m\u001b[43m,\u001b[49m\n\u001b[0;32m    125\u001b[0m \u001b[43m                             \u001b[49m\u001b[43mquiet\u001b[49m\u001b[38;5;241;43m=\u001b[39;49m\u001b[43mquiet\u001b[49m\u001b[43m,\u001b[49m\n\u001b[0;32m    126\u001b[0m \u001b[43m                             \u001b[49m\u001b[43mengine\u001b[49m\u001b[38;5;241;43m=\u001b[39;49m\u001b[43mengine\u001b[49m\u001b[43m,\u001b[49m\n\u001b[0;32m    127\u001b[0m \u001b[43m                             \u001b[49m\u001b[43mencoding\u001b[49m\u001b[38;5;241;43m=\u001b[39;49m\u001b[43mencoding\u001b[49m\u001b[43m)\u001b[49m\n",
      "File \u001b[1;32m~\\AppData\\Local\\Packages\\PythonSoftwareFoundation.Python.3.11_qbz5n2kfra8p0\\LocalCache\\local-packages\\Python311\\site-packages\\graphviz\\piping.py:149\u001b[0m, in \u001b[0;36mPipe._pipe_future\u001b[1;34m(self, format, renderer, formatter, neato_no_op, quiet, engine, encoding)\u001b[0m\n\u001b[0;32m    146\u001b[0m \u001b[38;5;28;01mif\u001b[39;00m encoding \u001b[38;5;129;01mis\u001b[39;00m \u001b[38;5;129;01mnot\u001b[39;00m \u001b[38;5;28;01mNone\u001b[39;00m:\n\u001b[0;32m    147\u001b[0m     \u001b[38;5;28;01mif\u001b[39;00m codecs\u001b[38;5;241m.\u001b[39mlookup(encoding) \u001b[38;5;129;01mis\u001b[39;00m codecs\u001b[38;5;241m.\u001b[39mlookup(\u001b[38;5;28mself\u001b[39m\u001b[38;5;241m.\u001b[39mencoding):\n\u001b[0;32m    148\u001b[0m         \u001b[38;5;66;03m# common case: both stdin and stdout need the same encoding\u001b[39;00m\n\u001b[1;32m--> 149\u001b[0m         \u001b[38;5;28;01mreturn\u001b[39;00m \u001b[38;5;28;43mself\u001b[39;49m\u001b[38;5;241;43m.\u001b[39;49m\u001b[43m_pipe_lines_string\u001b[49m\u001b[43m(\u001b[49m\u001b[38;5;241;43m*\u001b[39;49m\u001b[43margs\u001b[49m\u001b[43m,\u001b[49m\u001b[43m \u001b[49m\u001b[43mencoding\u001b[49m\u001b[38;5;241;43m=\u001b[39;49m\u001b[43mencoding\u001b[49m\u001b[43m,\u001b[49m\u001b[43m \u001b[49m\u001b[38;5;241;43m*\u001b[39;49m\u001b[38;5;241;43m*\u001b[39;49m\u001b[43mkwargs\u001b[49m\u001b[43m)\u001b[49m\n\u001b[0;32m    150\u001b[0m     \u001b[38;5;28;01mtry\u001b[39;00m:\n\u001b[0;32m    151\u001b[0m         raw \u001b[38;5;241m=\u001b[39m \u001b[38;5;28mself\u001b[39m\u001b[38;5;241m.\u001b[39m_pipe_lines(\u001b[38;5;241m*\u001b[39margs, input_encoding\u001b[38;5;241m=\u001b[39m\u001b[38;5;28mself\u001b[39m\u001b[38;5;241m.\u001b[39mencoding, \u001b[38;5;241m*\u001b[39m\u001b[38;5;241m*\u001b[39mkwargs)\n",
      "File \u001b[1;32m~\\AppData\\Local\\Packages\\PythonSoftwareFoundation.Python.3.11_qbz5n2kfra8p0\\LocalCache\\local-packages\\Python311\\site-packages\\graphviz\\backend\\piping.py:212\u001b[0m, in \u001b[0;36mpipe_lines_string\u001b[1;34m(engine, format, input_lines, encoding, renderer, formatter, neato_no_op, quiet)\u001b[0m\n\u001b[0;32m    206\u001b[0m cmd \u001b[38;5;241m=\u001b[39m dot_command\u001b[38;5;241m.\u001b[39mcommand(engine, \u001b[38;5;28mformat\u001b[39m,\n\u001b[0;32m    207\u001b[0m                           renderer\u001b[38;5;241m=\u001b[39mrenderer,\n\u001b[0;32m    208\u001b[0m                           formatter\u001b[38;5;241m=\u001b[39mformatter,\n\u001b[0;32m    209\u001b[0m                           neato_no_op\u001b[38;5;241m=\u001b[39mneato_no_op)\n\u001b[0;32m    210\u001b[0m kwargs \u001b[38;5;241m=\u001b[39m {\u001b[38;5;124m'\u001b[39m\u001b[38;5;124minput_lines\u001b[39m\u001b[38;5;124m'\u001b[39m: input_lines, \u001b[38;5;124m'\u001b[39m\u001b[38;5;124mencoding\u001b[39m\u001b[38;5;124m'\u001b[39m: encoding}\n\u001b[1;32m--> 212\u001b[0m proc \u001b[38;5;241m=\u001b[39m \u001b[43mexecute\u001b[49m\u001b[38;5;241;43m.\u001b[39;49m\u001b[43mrun_check\u001b[49m\u001b[43m(\u001b[49m\u001b[43mcmd\u001b[49m\u001b[43m,\u001b[49m\u001b[43m \u001b[49m\u001b[43mcapture_output\u001b[49m\u001b[38;5;241;43m=\u001b[39;49m\u001b[38;5;28;43;01mTrue\u001b[39;49;00m\u001b[43m,\u001b[49m\u001b[43m \u001b[49m\u001b[43mquiet\u001b[49m\u001b[38;5;241;43m=\u001b[39;49m\u001b[43mquiet\u001b[49m\u001b[43m,\u001b[49m\u001b[43m \u001b[49m\u001b[38;5;241;43m*\u001b[39;49m\u001b[38;5;241;43m*\u001b[39;49m\u001b[43mkwargs\u001b[49m\u001b[43m)\u001b[49m\n\u001b[0;32m    213\u001b[0m \u001b[38;5;28;01mreturn\u001b[39;00m proc\u001b[38;5;241m.\u001b[39mstdout\n",
      "File \u001b[1;32m~\\AppData\\Local\\Packages\\PythonSoftwareFoundation.Python.3.11_qbz5n2kfra8p0\\LocalCache\\local-packages\\Python311\\site-packages\\graphviz\\backend\\execute.py:81\u001b[0m, in \u001b[0;36mrun_check\u001b[1;34m(cmd, input_lines, encoding, quiet, **kwargs)\u001b[0m\n\u001b[0;32m     79\u001b[0m \u001b[38;5;28;01mexcept\u001b[39;00m \u001b[38;5;167;01mOSError\u001b[39;00m \u001b[38;5;28;01mas\u001b[39;00m e:\n\u001b[0;32m     80\u001b[0m     \u001b[38;5;28;01mif\u001b[39;00m e\u001b[38;5;241m.\u001b[39merrno \u001b[38;5;241m==\u001b[39m errno\u001b[38;5;241m.\u001b[39mENOENT:\n\u001b[1;32m---> 81\u001b[0m         \u001b[38;5;28;01mraise\u001b[39;00m ExecutableNotFound(cmd) \u001b[38;5;28;01mfrom\u001b[39;00m\u001b[38;5;250m \u001b[39m\u001b[38;5;21;01me\u001b[39;00m\n\u001b[0;32m     82\u001b[0m     \u001b[38;5;28;01mraise\u001b[39;00m\n\u001b[0;32m     84\u001b[0m \u001b[38;5;28;01mif\u001b[39;00m \u001b[38;5;129;01mnot\u001b[39;00m quiet \u001b[38;5;129;01mand\u001b[39;00m proc\u001b[38;5;241m.\u001b[39mstderr:\n",
      "\u001b[1;31mExecutableNotFound\u001b[0m: failed to execute WindowsPath('dot'), make sure the Graphviz executables are on your systems' PATH"
     ]
    },
    {
     "data": {
      "text/plain": [
       "<graphviz.graphs.Digraph at 0x263fa8bf650>"
      ]
     },
     "execution_count": 41,
     "metadata": {},
     "output_type": "execute_result"
    }
   ],
   "source": [
    "make_dot(y)"
   ]
  },
  {
   "cell_type": "code",
   "execution_count": null,
   "metadata": {
    "ExecuteTime": {
     "end_time": "2021-10-02T14:35:47.650878Z",
     "start_time": "2021-10-02T14:35:47.644582Z"
    },
    "scrolled": true
   },
   "outputs": [
    {
     "data": {
      "text/plain": [
       "tensor([75.])"
      ]
     },
     "execution_count": 42,
     "metadata": {},
     "output_type": "execute_result"
    }
   ],
   "source": [
    "y.backward()\n",
    "x.grad"
   ]
  },
  {
   "cell_type": "markdown",
   "metadata": {},
   "source": [
    "#### Obliczenia z pominięciem gradientów"
   ]
  },
  {
   "cell_type": "code",
   "execution_count": null,
   "metadata": {
    "ExecuteTime": {
     "end_time": "2021-10-03T07:14:11.090002Z",
     "start_time": "2021-10-03T07:14:11.080853Z"
    }
   },
   "outputs": [
    {
     "name": "stdout",
     "output_type": "stream",
     "text": [
      "tensor([[1.3613, 1.2548, 1.3369],\n",
      "        [0.8864, 0.5483, 1.1127],\n",
      "        [0.8137, 1.1914, 0.8569]])\n",
      "tensor([[1.3613, 1.2548, 1.3369],\n",
      "        [0.8864, 0.5483, 1.1127],\n",
      "        [0.8137, 1.1914, 0.8569]], grad_fn=<MmBackward0>)\n"
     ]
    }
   ],
   "source": [
    "t1 = torch.rand(3,4, requires_grad=True)\n",
    "t2 = torch.rand(4,3, requires_grad=True)\n",
    "with torch.no_grad():\n",
    "    y = t1@t2\n",
    "print(y)\n",
    "print(t1@t2)"
   ]
  },
  {
   "cell_type": "markdown",
   "metadata": {},
   "source": [
    "#### Funkcja backward pozwala nam policzyć pochodną cząstkową w punkcie dla wszystkich źródeł (liści w grafie obliczeń)"
   ]
  },
  {
   "cell_type": "code",
   "execution_count": null,
   "metadata": {
    "ExecuteTime": {
     "end_time": "2021-10-02T14:43:04.847863Z",
     "start_time": "2021-10-02T14:43:04.843680Z"
    }
   },
   "outputs": [],
   "source": [
    "x = torch.ones(5)  # input tensor\n",
    "y = torch.zeros(3)  # expected output"
   ]
  },
  {
   "cell_type": "code",
   "execution_count": null,
   "metadata": {
    "ExecuteTime": {
     "end_time": "2021-10-02T14:43:05.075436Z",
     "start_time": "2021-10-02T14:43:05.071173Z"
    }
   },
   "outputs": [],
   "source": [
    "w = torch.randn(5, 3, requires_grad=True) #weights\n",
    "b = torch.randn(3, requires_grad=True) #bias"
   ]
  },
  {
   "cell_type": "code",
   "execution_count": null,
   "metadata": {
    "ExecuteTime": {
     "end_time": "2021-10-02T14:43:05.285364Z",
     "start_time": "2021-10-02T14:43:05.281481Z"
    }
   },
   "outputs": [],
   "source": [
    "z = torch.matmul(x, w)+b"
   ]
  },
  {
   "cell_type": "code",
   "execution_count": null,
   "metadata": {
    "ExecuteTime": {
     "end_time": "2021-10-02T14:43:05.507440Z",
     "start_time": "2021-10-02T14:43:05.501001Z"
    }
   },
   "outputs": [
    {
     "data": {
      "text/plain": [
       "tensor(2.1352, grad_fn=<MeanBackward0>)"
      ]
     },
     "execution_count": 53,
     "metadata": {},
     "output_type": "execute_result"
    }
   ],
   "source": [
    "loss = torch.abs((z-y)).mean()\n",
    "loss"
   ]
  },
  {
   "cell_type": "code",
   "execution_count": null,
   "metadata": {
    "ExecuteTime": {
     "end_time": "2021-10-02T14:43:06.355062Z",
     "start_time": "2021-10-02T14:43:06.348255Z"
    }
   },
   "outputs": [
    {
     "name": "stdout",
     "output_type": "stream",
     "text": [
      "tensor([[-0.3333, -0.3333,  0.3333],\n",
      "        [-0.3333, -0.3333,  0.3333],\n",
      "        [-0.3333, -0.3333,  0.3333],\n",
      "        [-0.3333, -0.3333,  0.3333],\n",
      "        [-0.3333, -0.3333,  0.3333]])\n",
      "tensor([-0.3333, -0.3333,  0.3333])\n"
     ]
    }
   ],
   "source": [
    "loss.backward()\n",
    "print(w.grad)\n",
    "print(b.grad)"
   ]
  },
  {
   "cell_type": "markdown",
   "metadata": {},
   "source": [
    "# Regresja raz jeszcze"
   ]
  },
  {
   "cell_type": "code",
   "execution_count": null,
   "metadata": {
    "ExecuteTime": {
     "end_time": "2021-10-02T15:02:58.234376Z",
     "start_time": "2021-10-02T15:02:58.229524Z"
    }
   },
   "outputs": [],
   "source": [
    "apples_kg_ordered = [2,4,7,3,13]\n",
    "plums_kg_ordered = [3,8,9,1,1]\n",
    "prices = [11.97 , 28.05, 38.98, 10.96, 41.1]"
   ]
  },
  {
   "cell_type": "code",
   "execution_count": null,
   "metadata": {
    "ExecuteTime": {
     "end_time": "2021-10-02T15:02:58.647418Z",
     "start_time": "2021-10-02T15:02:58.639049Z"
    }
   },
   "outputs": [
    {
     "name": "stdout",
     "output_type": "stream",
     "text": [
      "tensor([[ 2.,  3.],\n",
      "        [ 4.,  8.],\n",
      "        [ 7.,  9.],\n",
      "        [ 3.,  1.],\n",
      "        [13.,  1.]])\n",
      "tensor([11.9700, 28.0500, 38.9800, 10.9600, 41.1000])\n"
     ]
    }
   ],
   "source": [
    "X = torch.tensor([apples_kg_ordered,plums_kg_ordered])\n",
    "Y = torch.tensor(prices)\n",
    "X = X.T.float()\n",
    "Y = Y.T\n",
    "print(X)\n",
    "print(Y)"
   ]
  },
  {
   "cell_type": "code",
   "execution_count": null,
   "metadata": {
    "ExecuteTime": {
     "end_time": "2021-10-02T15:02:58.844443Z",
     "start_time": "2021-10-02T15:02:58.840718Z"
    }
   },
   "outputs": [
    {
     "data": {
      "text/plain": [
       "tensor([0.7558, 0.5567], requires_grad=True)"
      ]
     },
     "execution_count": 58,
     "metadata": {},
     "output_type": "execute_result"
    }
   ],
   "source": [
    "params = torch.rand(2,requires_grad=True)\n",
    "params # tworzymy losowe ceny"
   ]
  },
  {
   "cell_type": "code",
   "execution_count": null,
   "metadata": {
    "ExecuteTime": {
     "end_time": "2021-10-02T15:02:59.048063Z",
     "start_time": "2021-10-02T15:02:59.041604Z"
    }
   },
   "outputs": [
    {
     "data": {
      "text/plain": [
       "tensor([ 3.1818,  7.4769, 10.3011,  2.8242, 10.3823], grad_fn=<MvBackward0>)"
      ]
     },
     "execution_count": 59,
     "metadata": {},
     "output_type": "execute_result"
    }
   ],
   "source": [
    "y_pred = X@params\n",
    "y_pred"
   ]
  },
  {
   "cell_type": "code",
   "execution_count": null,
   "metadata": {
    "ExecuteTime": {
     "end_time": "2021-10-02T15:02:59.237566Z",
     "start_time": "2021-10-02T15:02:59.230912Z"
    }
   },
   "outputs": [
    {
     "data": {
      "text/plain": [
       "tensor(466.5462, grad_fn=<MeanBackward0>)"
      ]
     },
     "execution_count": 60,
     "metadata": {},
     "output_type": "execute_result"
    }
   ],
   "source": [
    "loss = (torch.square(Y-y_pred)).mean()\n",
    "loss"
   ]
  },
  {
   "cell_type": "code",
   "execution_count": null,
   "metadata": {
    "ExecuteTime": {
     "end_time": "2021-10-02T15:02:59.437480Z",
     "start_time": "2021-10-02T15:02:59.433774Z"
    }
   },
   "outputs": [],
   "source": [
    "loss.backward()"
   ]
  },
  {
   "cell_type": "code",
   "execution_count": null,
   "metadata": {
    "ExecuteTime": {
     "end_time": "2021-10-02T15:02:59.662916Z",
     "start_time": "2021-10-02T15:02:59.656827Z"
    },
    "scrolled": true
   },
   "outputs": [
    {
     "data": {
      "text/plain": [
       "tensor([-289.7433, -195.1652])"
      ]
     },
     "execution_count": 62,
     "metadata": {},
     "output_type": "execute_result"
    }
   ],
   "source": [
    "params.grad # minus values because we go with -gradient"
   ]
  },
  {
   "cell_type": "code",
   "execution_count": null,
   "metadata": {
    "ExecuteTime": {
     "end_time": "2021-10-02T15:03:00.003219Z",
     "start_time": "2021-10-02T15:03:00Z"
    }
   },
   "outputs": [],
   "source": [
    "lr = 0.001"
   ]
  },
  {
   "cell_type": "code",
   "execution_count": null,
   "metadata": {
    "ExecuteTime": {
     "end_time": "2021-10-02T15:03:00.450882Z",
     "start_time": "2021-10-02T15:03:00.442852Z"
    }
   },
   "outputs": [
    {
     "name": "stdout",
     "output_type": "stream",
     "text": [
      "tensor([0.7558, 0.5567], requires_grad=True)\n"
     ]
    },
    {
     "data": {
      "text/plain": [
       "tensor([1.0456, 0.7519], grad_fn=<SubBackward0>)"
      ]
     },
     "execution_count": 64,
     "metadata": {},
     "output_type": "execute_result"
    }
   ],
   "source": [
    "print(params)\n",
    "params - lr *params.grad"
   ]
  },
  {
   "cell_type": "code",
   "execution_count": null,
   "metadata": {
    "ExecuteTime": {
     "end_time": "2021-10-02T15:17:41.903513Z",
     "start_time": "2021-10-02T15:17:41.899456Z"
    }
   },
   "outputs": [],
   "source": [
    "params = torch.rand(2,requires_grad=True)"
   ]
  },
  {
   "cell_type": "code",
   "execution_count": null,
   "metadata": {
    "ExecuteTime": {
     "end_time": "2021-10-02T15:18:30.997564Z",
     "start_time": "2021-10-02T15:18:30.905197Z"
    },
    "scrolled": true
   },
   "outputs": [
    {
     "name": "stdout",
     "output_type": "stream",
     "text": [
      "tensor([0.4434, 1.1592], requires_grad=True)\n",
      "tensor([-334.8786, -200.3653])\n",
      "tensor([0.7358, 1.3314], requires_grad=True)\n",
      "tensor([-292.4154, -172.1902])\n",
      "tensor([0.9912, 1.4792], requires_grad=True)\n",
      "tensor([-255.4663, -147.7605])\n",
      "tensor([1.2146, 1.6058], requires_grad=True)\n",
      "tensor([-223.3111, -126.5844])\n",
      "tensor([1.4099, 1.7140], requires_grad=True)\n",
      "tensor([-195.3237, -108.2346])\n",
      "tensor([1.5808, 1.8063], requires_grad=True)\n",
      "tensor([-170.9604,  -92.3396])\n",
      "tensor([1.7306, 1.8849], requires_grad=True)\n",
      "tensor([-149.7480,  -78.5767])\n",
      "tensor([1.8619, 1.9516], requires_grad=True)\n",
      "tensor([-131.2755,  -66.6653])\n",
      "tensor([1.9770, 2.0080], requires_grad=True)\n",
      "tensor([-115.1856,  -56.3617])\n",
      "tensor([2.0782, 2.0554], requires_grad=True)\n",
      "tensor([-101.1675,  -47.4540])\n",
      "tensor([2.1672, 2.0952], requires_grad=True)\n",
      "tensor([-88.9513, -39.7582])\n",
      "tensor([2.2455, 2.1283], requires_grad=True)\n",
      "tensor([-78.3022, -33.1144])\n",
      "tensor([2.3145, 2.1557], requires_grad=True)\n",
      "tensor([-69.0162, -27.3835])\n",
      "tensor([2.3754, 2.1781], requires_grad=True)\n",
      "tensor([-60.9159, -22.4448])\n",
      "tensor([2.4292, 2.1963], requires_grad=True)\n",
      "tensor([-53.8470, -18.1934])\n",
      "tensor([2.4769, 2.2108], requires_grad=True)\n",
      "tensor([-47.6754, -14.5381])\n",
      "tensor([2.5192, 2.2222], requires_grad=True)\n",
      "tensor([-42.2847, -11.3997])\n",
      "tensor([2.5568, 2.2309], requires_grad=True)\n",
      "tensor([-37.5735,  -8.7094])\n",
      "tensor([2.5902, 2.2374], requires_grad=True)\n",
      "tensor([-33.4536,  -6.4075])\n",
      "tensor([2.6201, 2.2418], requires_grad=True)\n",
      "tensor([-29.8485,  -4.4421])\n",
      "tensor([2.6468, 2.2446], requires_grad=True)\n",
      "tensor([-26.6916,  -2.7680])\n",
      "tensor([2.6707, 2.2459], requires_grad=True)\n",
      "tensor([-23.9249,  -1.3461])\n",
      "tensor([2.6922, 2.2461], requires_grad=True)\n",
      "tensor([-21.4981,  -0.1424])\n",
      "tensor([2.7116, 2.2452], requires_grad=True)\n",
      "tensor([-19.3675,   0.8726])\n",
      "tensor([2.7291, 2.2435], requires_grad=True)\n",
      "tensor([-17.4948,   1.7245])\n",
      "tensor([2.7449, 2.2410], requires_grad=True)\n",
      "tensor([-15.8470,   2.4357])\n",
      "tensor([2.7593, 2.2380], requires_grad=True)\n",
      "tensor([-14.3953,   3.0253])\n",
      "tensor([2.7724, 2.2345], requires_grad=True)\n",
      "tensor([-13.1146,   3.5103])\n",
      "tensor([2.7844, 2.2306], requires_grad=True)\n",
      "tensor([-11.9832,   3.9050])\n",
      "tensor([2.7954, 2.2264], requires_grad=True)\n",
      "tensor([-10.9820,   4.2221])\n",
      "tensor([2.8055, 2.2219], requires_grad=True)\n",
      "tensor([-10.0946,   4.4726])\n",
      "tensor([2.8148, 2.2172], requires_grad=True)\n",
      "tensor([-9.3066,  4.6660])\n",
      "tensor([2.8234, 2.2124], requires_grad=True)\n",
      "tensor([-8.6054,  4.8104])\n",
      "tensor([2.8314, 2.2075], requires_grad=True)\n",
      "tensor([-7.9803,  4.9129])\n",
      "tensor([2.8388, 2.2025], requires_grad=True)\n",
      "tensor([-7.4218,  4.9798])\n",
      "tensor([2.8457, 2.1975], requires_grad=True)\n",
      "tensor([-6.9216,  5.0164])\n",
      "tensor([2.8522, 2.1925], requires_grad=True)\n",
      "tensor([-6.4725,  5.0273])\n",
      "tensor([2.8583, 2.1875], requires_grad=True)\n",
      "tensor([-6.0683,  5.0166])\n",
      "tensor([2.8640, 2.1825], requires_grad=True)\n",
      "tensor([-5.7035,  4.9875])\n",
      "tensor([2.8693, 2.1775], requires_grad=True)\n",
      "tensor([-5.3734,  4.9432])\n",
      "tensor([2.8744, 2.1726], requires_grad=True)\n",
      "tensor([-5.0739,  4.8862])\n",
      "tensor([2.8792, 2.1678], requires_grad=True)\n",
      "tensor([-4.8013,  4.8188])\n",
      "tensor([2.8838, 2.1631], requires_grad=True)\n",
      "tensor([-4.5524,  4.7428])\n",
      "tensor([2.8881, 2.1584], requires_grad=True)\n",
      "tensor([-4.3246,  4.6599])\n",
      "tensor([2.8922, 2.1538], requires_grad=True)\n",
      "tensor([-4.1154,  4.5715])\n",
      "tensor([2.8961, 2.1494], requires_grad=True)\n",
      "tensor([-3.9227,  4.4789])\n",
      "tensor([2.8999, 2.1450], requires_grad=True)\n",
      "tensor([-3.7448,  4.3830])\n",
      "tensor([2.9034, 2.1407], requires_grad=True)\n",
      "tensor([-3.5799,  4.2847])\n",
      "tensor([2.9069, 2.1365], requires_grad=True)\n",
      "tensor([-3.4268,  4.1849])\n",
      "tensor([2.9102, 2.1324], requires_grad=True)\n",
      "tensor([-3.2841,  4.0841])\n"
     ]
    }
   ],
   "source": [
    "for epoch in range(50):\n",
    "    y_pred = X@params\n",
    "    loss = (torch.square(Y-y_pred)).mean()\n",
    "    loss.backward()\n",
    "    with torch.no_grad():\n",
    "        params.copy_(params - lr *params.grad)\n",
    "    print(params)\n",
    "    print(params.grad)\n",
    "    params.grad.zero_()"
   ]
  },
  {
   "cell_type": "markdown",
   "metadata": {},
   "source": [
    "### Mini zadanie na plusa, mozna wyslać po zajęciach.\n",
    "Tym razem na innym targu do ceny owoców doliczany jest stały koszt reklamówki. Napisz model regresji liniowej który oszacuje cenę kg ziemniaków, pomidorów i reklamówki"
   ]
  },
  {
   "cell_type": "code",
   "execution_count": null,
   "metadata": {
    "ExecuteTime": {
     "end_time": "2021-10-03T07:05:29.893186Z",
     "start_time": "2021-10-03T07:05:29.886876Z"
    }
   },
   "outputs": [],
   "source": [
    "potatoes_kg_ordered = [1,3,7,3,10,6,8,4,3,1,2,0]\n",
    "tomatoes_kg_ordered = [5,2,3,1,2,3,6,7,3,2,3,1]\n",
    "prices = [22.37 , 14.45, 26.6, 10.44, 28.49, 24.52, 40.38, 36.51, 18.50, 10.46, 16.51, 4.58]"
   ]
  },
  {
   "cell_type": "code",
   "execution_count": null,
   "metadata": {
    "ExecuteTime": {
     "end_time": "2021-10-03T07:05:35.107666Z",
     "start_time": "2021-10-03T07:05:35.098747Z"
    }
   },
   "outputs": [
    {
     "name": "stdout",
     "output_type": "stream",
     "text": [
      "tensor([[ 1.,  5.],\n",
      "        [ 3.,  2.],\n",
      "        [ 7.,  3.],\n",
      "        [ 3.,  1.],\n",
      "        [10.,  2.],\n",
      "        [ 6.,  3.],\n",
      "        [ 8.,  6.],\n",
      "        [ 4.,  7.],\n",
      "        [ 3.,  3.],\n",
      "        [ 1.,  2.],\n",
      "        [ 2.,  3.],\n",
      "        [ 0.,  1.]])\n",
      "tensor([22.3700, 14.4500, 26.6000, 10.4400, 28.4900, 24.5200, 40.3800, 36.5100,\n",
      "        18.5000, 10.4600, 16.5100,  4.5800])\n",
      "tensor([1.1000, 0.5183, 0.0657], requires_grad=True)\n",
      "tensor([-155.9381, -128.2521,  -32.2118])\n",
      "tensor([1.2444, 0.6386, 0.0957], requires_grad=True)\n",
      "tensor([-144.3872, -120.3138,  -30.0876])\n",
      "tensor([1.3781, 0.7515, 0.1238], requires_grad=True)\n",
      "tensor([-133.6466, -112.9201,  -28.1103])\n",
      "tensor([1.5017, 0.8576, 0.1501], requires_grad=True)\n",
      "tensor([-123.6598, -106.0333,  -26.2698])\n",
      "tensor([1.6161, 0.9572, 0.1747], requires_grad=True)\n",
      "tensor([-114.3743,  -99.6181,  -24.5564])\n",
      "tensor([1.7218, 1.0508, 0.1976], requires_grad=True)\n",
      "tensor([-105.7411,  -93.6418,  -22.9614])\n",
      "tensor([1.8195, 1.1389, 0.2191], requires_grad=True)\n",
      "tensor([-97.7149, -88.0737, -21.4765])\n",
      "tensor([1.9098, 1.2218, 0.2392], requires_grad=True)\n",
      "tensor([-90.2532, -82.8856, -20.0940])\n",
      "tensor([1.9931, 1.2998, 0.2580], requires_grad=True)\n",
      "tensor([-83.3167, -78.0511, -18.8068])\n",
      "tensor([2.0700, 1.3734, 0.2756], requires_grad=True)\n",
      "tensor([-76.8688, -73.5455, -17.6084])\n",
      "tensor([2.1409, 1.4427, 0.2921], requires_grad=True)\n",
      "tensor([-70.8753, -69.3461, -16.4924])\n",
      "tensor([2.2062, 1.5082, 0.3076], requires_grad=True)\n",
      "tensor([-65.3047, -65.4315, -15.4532])\n",
      "tensor([2.2663, 1.5699, 0.3221], requires_grad=True)\n",
      "tensor([-60.1273, -61.7820, -14.4855])\n",
      "tensor([2.3216, 1.6283, 0.3356], requires_grad=True)\n",
      "tensor([-55.3158, -58.3793, -13.5842])\n",
      "tensor([2.3725, 1.6835, 0.3484], requires_grad=True)\n",
      "tensor([-50.8446, -55.2060, -12.7448])\n",
      "tensor([2.4191, 1.7358, 0.3603], requires_grad=True)\n",
      "tensor([-46.6900, -52.2465, -11.9629])\n",
      "tensor([2.4620, 1.7853, 0.3716], requires_grad=True)\n",
      "tensor([-42.8299, -49.4857, -11.2346])\n",
      "tensor([2.5012, 1.8322, 0.3821], requires_grad=True)\n",
      "tensor([-39.2437, -46.9100, -10.5560])\n",
      "tensor([2.5371, 1.8767, 0.3921], requires_grad=True)\n",
      "tensor([-35.9123, -44.5064,  -9.9239])\n",
      "tensor([2.5699, 1.9189, 0.4014], requires_grad=True)\n",
      "tensor([-32.8179, -42.2632,  -9.3349])\n",
      "tensor([2.5999, 1.9591, 0.4102], requires_grad=True)\n",
      "tensor([-29.9440, -40.1691,  -8.7860])\n",
      "tensor([2.6272, 1.9973, 0.4185], requires_grad=True)\n",
      "tensor([-27.2751, -38.2138,  -8.2745])\n",
      "tensor([2.6520, 2.0337, 0.4263], requires_grad=True)\n",
      "tensor([-24.7970, -36.3878,  -7.7977])\n",
      "tensor([2.6745, 2.0684, 0.4336], requires_grad=True)\n",
      "tensor([-22.4963, -34.6820,  -7.3533])\n",
      "tensor([2.6948, 2.1015, 0.4405], requires_grad=True)\n",
      "tensor([-20.3607, -33.0882,  -6.9389])\n",
      "tensor([2.7132, 2.1331, 0.4471], requires_grad=True)\n",
      "tensor([-18.3785, -31.5985,  -6.5526])\n",
      "tensor([2.7297, 2.1633, 0.4533], requires_grad=True)\n",
      "tensor([-16.5390, -30.2059,  -6.1923])\n",
      "tensor([2.7446, 2.1922, 0.4591], requires_grad=True)\n",
      "tensor([-14.8323, -28.9036,  -5.8563])\n",
      "tensor([2.7578, 2.2199, 0.4647], requires_grad=True)\n",
      "tensor([-13.2491, -27.6854,  -5.5429])\n",
      "tensor([2.7696, 2.2464, 0.4699], requires_grad=True)\n",
      "tensor([-11.7808, -26.5455,  -5.2505])\n",
      "tensor([2.7800, 2.2719, 0.4749], requires_grad=True)\n",
      "tensor([-10.4193, -25.4784,  -4.9776])\n",
      "tensor([2.7892, 2.2964, 0.4796], requires_grad=True)\n",
      "tensor([ -9.1570, -24.4792,  -4.7230])\n",
      "tensor([2.7972, 2.3199, 0.4841], requires_grad=True)\n",
      "tensor([ -7.9872, -23.5432,  -4.4852])\n",
      "tensor([2.8041, 2.3426, 0.4884], requires_grad=True)\n",
      "tensor([ -6.9033, -22.6660,  -4.2632])\n",
      "tensor([2.8100, 2.3644, 0.4924], requires_grad=True)\n",
      "tensor([ -5.8992, -21.8436,  -4.0559])\n",
      "tensor([2.8149, 2.3855, 0.4963], requires_grad=True)\n",
      "tensor([ -4.9694, -21.0722,  -3.8623])\n",
      "tensor([2.8190, 2.4059, 0.5000], requires_grad=True)\n",
      "tensor([ -4.1087, -20.3483,  -3.6814])\n",
      "tensor([2.8224, 2.4255, 0.5035], requires_grad=True)\n",
      "tensor([ -3.3122, -19.6687,  -3.5122])\n",
      "tensor([2.8249, 2.4446, 0.5069], requires_grad=True)\n",
      "tensor([ -2.5755, -19.0303,  -3.3542])\n",
      "tensor([2.8268, 2.4630, 0.5101], requires_grad=True)\n",
      "tensor([ -1.8942, -18.4303,  -3.2063])\n",
      "tensor([2.8281, 2.4809, 0.5131], requires_grad=True)\n",
      "tensor([ -1.2646, -17.8661,  -3.0680])\n",
      "tensor([2.8288, 2.4982, 0.5161], requires_grad=True)\n",
      "tensor([ -0.6829, -17.3353,  -2.9386])\n",
      "tensor([2.8289, 2.5150, 0.5189], requires_grad=True)\n",
      "tensor([ -0.1459, -16.8355,  -2.8175])\n",
      "tensor([2.8286, 2.5314, 0.5216], requires_grad=True)\n",
      "tensor([  0.3497, -16.3647,  -2.7041])\n",
      "tensor([2.8278, 2.5473, 0.5242], requires_grad=True)\n",
      "tensor([  0.8067, -15.9208,  -2.5978])\n",
      "tensor([2.8265, 2.5628, 0.5267], requires_grad=True)\n",
      "tensor([  1.2279, -15.5022,  -2.4982])\n",
      "tensor([2.8249, 2.5779, 0.5291], requires_grad=True)\n",
      "tensor([  1.6158, -15.1069,  -2.4049])\n",
      "tensor([2.8229, 2.5927, 0.5314], requires_grad=True)\n",
      "tensor([  1.9727, -14.7335,  -2.3173])\n",
      "tensor([2.8206, 2.6070, 0.5336], requires_grad=True)\n",
      "tensor([  2.3009, -14.3805,  -2.2352])\n",
      "tensor([2.8180, 2.6211, 0.5358], requires_grad=True)\n",
      "tensor([  2.6024, -14.0466,  -2.1580])\n",
      "tensor([2.8152, 2.6348, 0.5379], requires_grad=True)\n",
      "tensor([  2.8790, -13.7303,  -2.0856])\n",
      "tensor([2.8120, 2.6482, 0.5399], requires_grad=True)\n",
      "tensor([  3.1326, -13.4306,  -2.0175])\n",
      "tensor([2.8087, 2.6614, 0.5419], requires_grad=True)\n",
      "tensor([  3.3647, -13.1464,  -1.9534])\n",
      "tensor([2.8051, 2.6743, 0.5438], requires_grad=True)\n",
      "tensor([  3.5770, -12.8765,  -1.8932])\n",
      "tensor([2.8013, 2.6869, 0.5456], requires_grad=True)\n",
      "tensor([  3.7707, -12.6201,  -1.8365])\n",
      "tensor([2.7974, 2.6993, 0.5474], requires_grad=True)\n",
      "tensor([  3.9473, -12.3763,  -1.7830])\n",
      "tensor([2.7933, 2.7114, 0.5491], requires_grad=True)\n",
      "tensor([  4.1079, -12.1441,  -1.7326])\n",
      "tensor([2.7890, 2.7233, 0.5508], requires_grad=True)\n",
      "tensor([  4.2537, -11.9230,  -1.6851])\n",
      "tensor([2.7846, 2.7350, 0.5524], requires_grad=True)\n",
      "tensor([  4.3858, -11.7120,  -1.6403])\n",
      "tensor([2.7801, 2.7465, 0.5540], requires_grad=True)\n",
      "tensor([  4.5051, -11.5107,  -1.5979])\n",
      "tensor([2.7755, 2.7579, 0.5556], requires_grad=True)\n",
      "tensor([  4.6126, -11.3182,  -1.5579])\n",
      "tensor([2.7708, 2.7690, 0.5571], requires_grad=True)\n",
      "tensor([  4.7091, -11.1342,  -1.5200])\n",
      "tensor([2.7660, 2.7800, 0.5586], requires_grad=True)\n",
      "tensor([  4.7954, -10.9579,  -1.4841])\n",
      "tensor([2.7611, 2.7907, 0.5600], requires_grad=True)\n",
      "tensor([  4.8723, -10.7890,  -1.4501])\n",
      "tensor([2.7562, 2.8014, 0.5615], requires_grad=True)\n",
      "tensor([  4.9404, -10.6269,  -1.4178])\n",
      "tensor([2.7512, 2.8118, 0.5628], requires_grad=True)\n",
      "tensor([  5.0004, -10.4712,  -1.3872])\n",
      "tensor([2.7461, 2.8222, 0.5642], requires_grad=True)\n",
      "tensor([  5.0528, -10.3215,  -1.3581])\n",
      "tensor([2.7410, 2.8323, 0.5655], requires_grad=True)\n",
      "tensor([  5.0983, -10.1775,  -1.3305])\n",
      "tensor([2.7359, 2.8424, 0.5668], requires_grad=True)\n",
      "tensor([  5.1373, -10.0387,  -1.3041])\n",
      "tensor([2.7307, 2.8523, 0.5681], requires_grad=True)\n",
      "tensor([ 5.1703, -9.9049, -1.2790])\n",
      "tensor([2.7255, 2.8621, 0.5694], requires_grad=True)\n",
      "tensor([ 5.1978, -9.7757, -1.2551])\n",
      "tensor([2.7203, 2.8717, 0.5706], requires_grad=True)\n",
      "tensor([ 5.2202, -9.6509, -1.2323])\n",
      "tensor([2.7151, 2.8812, 0.5718], requires_grad=True)\n",
      "tensor([ 5.2378, -9.5302, -1.2104])\n",
      "tensor([2.7098, 2.8907, 0.5730], requires_grad=True)\n",
      "tensor([ 5.2510, -9.4133, -1.1896])\n",
      "tensor([2.7046, 2.9000, 0.5742], requires_grad=True)\n",
      "tensor([ 5.2601, -9.3000, -1.1696])\n",
      "tensor([2.6993, 2.9091, 0.5753], requires_grad=True)\n",
      "tensor([ 5.2655, -9.1901, -1.1504])\n",
      "tensor([2.6940, 2.9182, 0.5765], requires_grad=True)\n",
      "tensor([ 5.2675, -9.0834, -1.1320])\n",
      "tensor([2.6888, 2.9272, 0.5776], requires_grad=True)\n",
      "tensor([ 5.2662, -8.9798, -1.1144])\n",
      "tensor([2.6835, 2.9361, 0.5787], requires_grad=True)\n",
      "tensor([ 5.2620, -8.8789, -1.0974])\n",
      "tensor([2.6782, 2.9449, 0.5797], requires_grad=True)\n",
      "tensor([ 5.2551, -8.7808, -1.0811])\n",
      "tensor([2.6730, 2.9536, 0.5808], requires_grad=True)\n",
      "tensor([ 5.2457, -8.6852, -1.0653])\n",
      "tensor([2.6678, 2.9621, 0.5819], requires_grad=True)\n",
      "tensor([ 5.2339, -8.5920, -1.0502])\n",
      "tensor([2.6625, 2.9707, 0.5829], requires_grad=True)\n",
      "tensor([ 5.2201, -8.5010, -1.0355])\n",
      "tensor([2.6573, 2.9791, 0.5839], requires_grad=True)\n",
      "tensor([ 5.2043, -8.4122, -1.0214])\n",
      "tensor([2.6522, 2.9874, 0.5849], requires_grad=True)\n",
      "tensor([ 5.1867, -8.3254, -1.0077])\n",
      "tensor([2.6470, 2.9956, 0.5859], requires_grad=True)\n",
      "tensor([ 5.1675, -8.2405, -0.9944])\n",
      "tensor([2.6418, 3.0038, 0.5869], requires_grad=True)\n",
      "tensor([ 5.1468, -8.1574, -0.9816])\n",
      "tensor([2.6367, 3.0119, 0.5879], requires_grad=True)\n",
      "tensor([ 5.1247, -8.0761, -0.9692])\n",
      "tensor([2.6316, 3.0199, 0.5888], requires_grad=True)\n",
      "tensor([ 5.1014, -7.9963, -0.9571])\n",
      "tensor([2.6265, 3.0278, 0.5898], requires_grad=True)\n",
      "tensor([ 5.0769, -7.9182, -0.9453])\n",
      "tensor([2.6215, 3.0356, 0.5907], requires_grad=True)\n",
      "tensor([ 5.0514, -7.8415, -0.9339])\n",
      "tensor([2.6165, 3.0434, 0.5916], requires_grad=True)\n",
      "tensor([ 5.0249, -7.7662, -0.9228])\n",
      "tensor([2.6115, 3.0511, 0.5925], requires_grad=True)\n",
      "tensor([ 4.9976, -7.6923, -0.9119])\n",
      "tensor([2.6065, 3.0587, 0.5934], requires_grad=True)\n",
      "tensor([ 4.9695, -7.6197, -0.9014])\n",
      "tensor([2.6016, 3.0662, 0.5943], requires_grad=True)\n",
      "tensor([ 4.9407, -7.5483, -0.8911])\n",
      "tensor([2.5966, 3.0737, 0.5952], requires_grad=True)\n",
      "tensor([ 4.9113, -7.4780, -0.8810])\n",
      "tensor([2.5918, 3.0811, 0.5961], requires_grad=True)\n",
      "tensor([ 4.8813, -7.4089, -0.8712])\n",
      "tensor([2.5869, 3.0885, 0.5969], requires_grad=True)\n",
      "tensor([ 4.8508, -7.3409, -0.8616])\n",
      "tensor([2.5821, 3.0957, 0.5978], requires_grad=True)\n",
      "tensor([ 4.8199, -7.2739, -0.8522])\n",
      "tensor([2.5773, 3.1030, 0.5986], requires_grad=True)\n",
      "tensor([ 4.7885, -7.2079, -0.8429])\n",
      "tensor([2.5725, 3.1101, 0.5995], requires_grad=True)\n",
      "tensor([ 4.7569, -7.1428, -0.8339])\n",
      "tensor([2.5678, 3.1172, 0.6003], requires_grad=True)\n",
      "tensor([ 4.7249, -7.0786, -0.8251])\n",
      "tensor([2.5631, 3.1242, 0.6011], requires_grad=True)\n",
      "tensor([ 4.6927, -7.0154, -0.8164])\n",
      "tensor([2.5585, 3.1311, 0.6019], requires_grad=True)\n",
      "tensor([ 4.6602, -6.9530, -0.8079])\n",
      "tensor([2.5538, 3.1380, 0.6027], requires_grad=True)\n",
      "tensor([ 4.6276, -6.8914, -0.7995])\n",
      "tensor([2.5492, 3.1449, 0.6035], requires_grad=True)\n",
      "tensor([ 4.5948, -6.8306, -0.7913])\n",
      "tensor([2.5447, 3.1516, 0.6043], requires_grad=True)\n",
      "tensor([ 4.5619, -6.7705, -0.7832])\n",
      "tensor([2.5402, 3.1583, 0.6051], requires_grad=True)\n",
      "tensor([ 4.5289, -6.7112, -0.7752])\n",
      "tensor([2.5357, 3.1650, 0.6058], requires_grad=True)\n",
      "tensor([ 4.4959, -6.6527, -0.7674])\n",
      "tensor([2.5312, 3.1716, 0.6066], requires_grad=True)\n",
      "tensor([ 4.4628, -6.5948, -0.7597])\n",
      "tensor([2.5268, 3.1781, 0.6074], requires_grad=True)\n",
      "tensor([ 4.4296, -6.5376, -0.7521])\n",
      "tensor([2.5224, 3.1846, 0.6081], requires_grad=True)\n",
      "tensor([ 4.3965, -6.4810, -0.7447])\n",
      "tensor([2.5180, 3.1910, 0.6088], requires_grad=True)\n",
      "tensor([ 4.3634, -6.4251, -0.7373])\n",
      "tensor([2.5137, 3.1974, 0.6096], requires_grad=True)\n",
      "tensor([ 4.3304, -6.3698, -0.7300])\n",
      "tensor([2.5094, 3.2037, 0.6103], requires_grad=True)\n",
      "tensor([ 4.2974, -6.3152, -0.7229])\n",
      "tensor([2.5051, 3.2100, 0.6110], requires_grad=True)\n",
      "tensor([ 4.2644, -6.2611, -0.7158])\n",
      "tensor([2.5009, 3.2162, 0.6117], requires_grad=True)\n",
      "tensor([ 4.2316, -6.2076, -0.7088])\n",
      "tensor([2.4967, 3.2223, 0.6124], requires_grad=True)\n",
      "tensor([ 4.1988, -6.1546, -0.7020])\n",
      "tensor([2.4925, 3.2284, 0.6131], requires_grad=True)\n",
      "tensor([ 4.1662, -6.1022, -0.6952])\n",
      "tensor([2.4884, 3.2345, 0.6138], requires_grad=True)\n",
      "tensor([ 4.1337, -6.0503, -0.6885])\n",
      "tensor([2.4843, 3.2405, 0.6145], requires_grad=True)\n",
      "tensor([ 4.1012, -5.9990, -0.6818])\n",
      "tensor([2.4802, 3.2464, 0.6152], requires_grad=True)\n",
      "tensor([ 4.0690, -5.9482, -0.6753])\n",
      "tensor([2.4762, 3.2523, 0.6158], requires_grad=True)\n",
      "tensor([ 4.0369, -5.8979, -0.6688])\n",
      "tensor([2.4722, 3.2582, 0.6165], requires_grad=True)\n",
      "tensor([ 4.0049, -5.8481, -0.6624])\n",
      "tensor([2.4682, 3.2640, 0.6171], requires_grad=True)\n",
      "tensor([ 3.9731, -5.7987, -0.6561])\n",
      "tensor([2.4643, 3.2697, 0.6178], requires_grad=True)\n",
      "tensor([ 3.9414, -5.7498, -0.6498])\n",
      "tensor([2.4603, 3.2754, 0.6184], requires_grad=True)\n",
      "tensor([ 3.9099, -5.7014, -0.6437])\n",
      "tensor([2.4565, 3.2811, 0.6191], requires_grad=True)\n",
      "tensor([ 3.8786, -5.6535, -0.6375])\n",
      "tensor([2.4526, 3.2867, 0.6197], requires_grad=True)\n",
      "tensor([ 3.8475, -5.6060, -0.6315])\n",
      "tensor([2.4488, 3.2923, 0.6203], requires_grad=True)\n",
      "tensor([ 3.8166, -5.5590, -0.6255])\n",
      "tensor([2.4450, 3.2978, 0.6210], requires_grad=True)\n",
      "tensor([ 3.7858, -5.5124, -0.6196])\n",
      "tensor([2.4413, 3.3032, 0.6216], requires_grad=True)\n",
      "tensor([ 3.7552, -5.4662, -0.6137])\n",
      "tensor([2.4375, 3.3087, 0.6222], requires_grad=True)\n",
      "tensor([ 3.7249, -5.4204, -0.6079])\n",
      "tensor([2.4338, 3.3140, 0.6228], requires_grad=True)\n",
      "tensor([ 3.6947, -5.3751, -0.6022])\n",
      "tensor([2.4302, 3.3194, 0.6234], requires_grad=True)\n",
      "tensor([ 3.6647, -5.3302, -0.5965])\n",
      "tensor([2.4265, 3.3247, 0.6240], requires_grad=True)\n",
      "tensor([ 3.6349, -5.2856, -0.5908])\n",
      "tensor([2.4229, 3.3299, 0.6246], requires_grad=True)\n",
      "tensor([ 3.6054, -5.2415, -0.5853])\n",
      "tensor([2.4194, 3.3351, 0.6251], requires_grad=True)\n",
      "tensor([ 3.5760, -5.1978, -0.5797])\n",
      "tensor([2.4158, 3.3402, 0.6257], requires_grad=True)\n",
      "tensor([ 3.5468, -5.1544, -0.5743])\n",
      "tensor([2.4123, 3.3454, 0.6263], requires_grad=True)\n",
      "tensor([ 3.5179, -5.1115, -0.5689])\n",
      "tensor([2.4088, 3.3504, 0.6268], requires_grad=True)\n",
      "tensor([ 3.4891, -5.0689, -0.5635])\n",
      "tensor([2.4053, 3.3555, 0.6274], requires_grad=True)\n",
      "tensor([ 3.4606, -5.0267, -0.5582])\n",
      "tensor([2.4019, 3.3604, 0.6279], requires_grad=True)\n",
      "tensor([ 3.4322, -4.9848, -0.5529])\n",
      "tensor([2.3985, 3.3654, 0.6285], requires_grad=True)\n",
      "tensor([ 3.4041, -4.9434, -0.5477])\n",
      "tensor([2.3951, 3.3703, 0.6290], requires_grad=True)\n",
      "tensor([ 3.3762, -4.9023, -0.5425])\n",
      "tensor([2.3918, 3.3751, 0.6296], requires_grad=True)\n",
      "tensor([ 3.3485, -4.8615, -0.5374])\n",
      "tensor([2.3885, 3.3800, 0.6301], requires_grad=True)\n",
      "tensor([ 3.3210, -4.8211, -0.5323])\n",
      "tensor([2.3852, 3.3847, 0.6306], requires_grad=True)\n",
      "tensor([ 3.2937, -4.7810, -0.5273])\n",
      "tensor([2.3819, 3.3895, 0.6312], requires_grad=True)\n",
      "tensor([ 3.2666, -4.7414, -0.5223])\n",
      "tensor([2.3787, 3.3942, 0.6317], requires_grad=True)\n",
      "tensor([ 3.2397, -4.7020, -0.5174])\n",
      "tensor([2.3755, 3.3989, 0.6322], requires_grad=True)\n",
      "tensor([ 3.2130, -4.6629, -0.5125])\n",
      "tensor([2.3723, 3.4035, 0.6327], requires_grad=True)\n",
      "tensor([ 3.1865, -4.6242, -0.5076])\n",
      "tensor([2.3691, 3.4081, 0.6332], requires_grad=True)\n",
      "tensor([ 3.1603, -4.5859, -0.5028])\n",
      "tensor([2.3660, 3.4126, 0.6337], requires_grad=True)\n",
      "tensor([ 3.1342, -4.5478, -0.4980])\n",
      "tensor([2.3629, 3.4171, 0.6342], requires_grad=True)\n",
      "tensor([ 3.1084, -4.5101, -0.4933])\n",
      "tensor([2.3598, 3.4216, 0.6347], requires_grad=True)\n",
      "tensor([ 3.0827, -4.4727, -0.4886])\n",
      "tensor([2.3567, 3.4260, 0.6352], requires_grad=True)\n",
      "tensor([ 3.0573, -4.4356, -0.4840])\n",
      "tensor([2.3537, 3.4304, 0.6356], requires_grad=True)\n",
      "tensor([ 3.0320, -4.3989, -0.4794])\n",
      "tensor([2.3507, 3.4348, 0.6361], requires_grad=True)\n",
      "tensor([ 3.0070, -4.3624, -0.4748])\n",
      "tensor([2.3477, 3.4391, 0.6366], requires_grad=True)\n",
      "tensor([ 2.9821, -4.3263, -0.4703])\n",
      "tensor([2.3447, 3.4434, 0.6371], requires_grad=True)\n",
      "tensor([ 2.9574, -4.2904, -0.4658])\n",
      "tensor([2.3418, 3.4477, 0.6375], requires_grad=True)\n",
      "tensor([ 2.9330, -4.2549, -0.4614])\n",
      "tensor([2.3389, 3.4519, 0.6380], requires_grad=True)\n",
      "tensor([ 2.9087, -4.2197, -0.4570])\n",
      "tensor([2.3360, 3.4561, 0.6384], requires_grad=True)\n",
      "tensor([ 2.8847, -4.1847, -0.4526])\n",
      "tensor([2.3332, 3.4602, 0.6389], requires_grad=True)\n",
      "tensor([ 2.8608, -4.1501, -0.4483])\n",
      "tensor([2.3303, 3.4643, 0.6393], requires_grad=True)\n",
      "tensor([ 2.8371, -4.1157, -0.4440])\n",
      "tensor([2.3275, 3.4684, 0.6398], requires_grad=True)\n",
      "tensor([ 2.8136, -4.0816, -0.4397])\n",
      "tensor([2.3247, 3.4725, 0.6402], requires_grad=True)\n",
      "tensor([ 2.7903, -4.0478, -0.4355])\n",
      "tensor([2.3219, 3.4765, 0.6406], requires_grad=True)\n",
      "tensor([ 2.7672, -4.0143, -0.4313])\n",
      "tensor([2.3192, 3.4805, 0.6410], requires_grad=True)\n",
      "tensor([ 2.7443, -3.9811, -0.4272])\n",
      "tensor([2.3165, 3.4844, 0.6415], requires_grad=True)\n",
      "tensor([ 2.7215, -3.9482, -0.4230])\n",
      "tensor([2.3138, 3.4883, 0.6419], requires_grad=True)\n",
      "tensor([ 2.6990, -3.9155, -0.4190])\n",
      "tensor([2.3111, 3.4922, 0.6423], requires_grad=True)\n",
      "tensor([ 2.6766, -3.8831, -0.4149])\n",
      "tensor([2.3085, 3.4961, 0.6427], requires_grad=True)\n",
      "tensor([ 2.6544, -3.8510, -0.4109])\n",
      "tensor([2.3058, 3.4999, 0.6431], requires_grad=True)\n",
      "tensor([ 2.6324, -3.8191, -0.4069])\n",
      "tensor([2.3032, 3.5037, 0.6435], requires_grad=True)\n",
      "tensor([ 2.6106, -3.7875, -0.4030])\n",
      "tensor([2.3006, 3.5074, 0.6439], requires_grad=True)\n",
      "tensor([ 2.5890, -3.7562, -0.3991])\n",
      "tensor([2.2981, 3.5111, 0.6443], requires_grad=True)\n",
      "tensor([ 2.5675, -3.7251, -0.3952])\n",
      "tensor([2.2955, 3.5148, 0.6447], requires_grad=True)\n",
      "tensor([ 2.5462, -3.6943, -0.3914])\n",
      "tensor([2.2930, 3.5185, 0.6451], requires_grad=True)\n",
      "tensor([ 2.5251, -3.6638, -0.3875])\n",
      "tensor([2.2905, 3.5221, 0.6455], requires_grad=True)\n",
      "tensor([ 2.5041, -3.6335, -0.3838])\n",
      "tensor([2.2880, 3.5257, 0.6459], requires_grad=True)\n",
      "tensor([ 2.4833, -3.6035, -0.3800])\n",
      "tensor([2.2855, 3.5293, 0.6462], requires_grad=True)\n",
      "tensor([ 2.4627, -3.5737, -0.3763])\n",
      "tensor([2.2831, 3.5329, 0.6466], requires_grad=True)\n",
      "tensor([ 2.4423, -3.5441, -0.3726])\n",
      "tensor([2.2807, 3.5364, 0.6470], requires_grad=True)\n",
      "tensor([ 2.4220, -3.5148, -0.3690])\n",
      "tensor([2.2783, 3.5399, 0.6473], requires_grad=True)\n",
      "tensor([ 2.4019, -3.4858, -0.3654])\n",
      "tensor([2.2759, 3.5433, 0.6477], requires_grad=True)\n",
      "tensor([ 2.3820, -3.4570, -0.3618])\n",
      "tensor([2.2735, 3.5467, 0.6481], requires_grad=True)\n",
      "tensor([ 2.3622, -3.4284, -0.3582])\n",
      "tensor([2.2712, 3.5501, 0.6484], requires_grad=True)\n",
      "tensor([ 2.3426, -3.4000, -0.3547])\n",
      "tensor([2.2689, 3.5535, 0.6488], requires_grad=True)\n",
      "tensor([ 2.3232, -3.3719, -0.3512])\n",
      "tensor([2.2666, 3.5569, 0.6491], requires_grad=True)\n",
      "tensor([ 2.3039, -3.3441, -0.3477])\n",
      "tensor([2.2643, 3.5602, 0.6495], requires_grad=True)\n",
      "tensor([ 2.2848, -3.3164, -0.3442])\n",
      "tensor([2.2620, 3.5635, 0.6498], requires_grad=True)\n",
      "tensor([ 2.2658, -3.2890, -0.3408])\n",
      "tensor([2.2598, 3.5667, 0.6501], requires_grad=True)\n",
      "tensor([ 2.2470, -3.2619, -0.3374])\n",
      "tensor([2.2575, 3.5700, 0.6505], requires_grad=True)\n",
      "tensor([ 2.2283, -3.2349, -0.3341])\n",
      "tensor([2.2553, 3.5732, 0.6508], requires_grad=True)\n",
      "tensor([ 2.2098, -3.2082, -0.3308])\n",
      "tensor([2.2531, 3.5763, 0.6511], requires_grad=True)\n",
      "tensor([ 2.1915, -3.1817, -0.3275])\n",
      "tensor([2.2510, 3.5795, 0.6515], requires_grad=True)\n",
      "tensor([ 2.1733, -3.1554, -0.3242])\n",
      "tensor([2.2488, 3.5826, 0.6518], requires_grad=True)\n",
      "tensor([ 2.1552, -3.1293, -0.3209])\n",
      "tensor([2.2467, 3.5857, 0.6521], requires_grad=True)\n",
      "tensor([ 2.1373, -3.1035, -0.3177])\n",
      "tensor([2.2445, 3.5888, 0.6524], requires_grad=True)\n",
      "tensor([ 2.1196, -3.0778, -0.3145])\n",
      "tensor([2.2424, 3.5919, 0.6527], requires_grad=True)\n",
      "tensor([ 2.1020, -3.0524, -0.3114])\n",
      "tensor([2.2404, 3.5949, 0.6530], requires_grad=True)\n",
      "tensor([ 2.0845, -3.0272, -0.3082])\n",
      "tensor([2.2383, 3.5979, 0.6533], requires_grad=True)\n",
      "tensor([ 2.0672, -3.0022, -0.3051])\n",
      "tensor([2.2362, 3.6009, 0.6536], requires_grad=True)\n",
      "tensor([ 2.0500, -2.9774, -0.3020])\n",
      "tensor([2.2342, 3.6038, 0.6539], requires_grad=True)\n",
      "tensor([ 2.0330, -2.9528, -0.2990])\n",
      "tensor([2.2322, 3.6068, 0.6542], requires_grad=True)\n",
      "tensor([ 2.0161, -2.9284, -0.2959])\n",
      "tensor([2.2302, 3.6097, 0.6545], requires_grad=True)\n",
      "tensor([ 1.9994, -2.9042, -0.2929])\n",
      "tensor([2.2282, 3.6125, 0.6548], requires_grad=True)\n",
      "tensor([ 1.9828, -2.8802, -0.2899])\n",
      "tensor([2.2262, 3.6154, 0.6551], requires_grad=True)\n",
      "tensor([ 1.9663, -2.8564, -0.2870])\n",
      "tensor([2.2243, 3.6182, 0.6554], requires_grad=True)\n",
      "tensor([ 1.9500, -2.8328, -0.2840])\n",
      "tensor([2.2224, 3.6210, 0.6557], requires_grad=True)\n",
      "tensor([ 1.9338, -2.8094, -0.2811])\n",
      "tensor([2.2204, 3.6238, 0.6559], requires_grad=True)\n",
      "tensor([ 1.9177, -2.7862, -0.2782])\n",
      "tensor([2.2185, 3.6266, 0.6562], requires_grad=True)\n",
      "tensor([ 1.9018, -2.7632, -0.2754])\n",
      "tensor([2.2166, 3.6293, 0.6565], requires_grad=True)\n",
      "tensor([ 1.8860, -2.7404, -0.2725])\n",
      "tensor([2.2148, 3.6320, 0.6568], requires_grad=True)\n",
      "tensor([ 1.8703, -2.7178, -0.2697])\n",
      "tensor([2.2129, 3.6347, 0.6570], requires_grad=True)\n",
      "tensor([ 1.8548, -2.6954, -0.2669])\n",
      "tensor([2.2111, 3.6374, 0.6573], requires_grad=True)\n",
      "tensor([ 1.8394, -2.6731, -0.2642])\n",
      "tensor([2.2093, 3.6401, 0.6576], requires_grad=True)\n",
      "tensor([ 1.8241, -2.6510, -0.2614])\n",
      "tensor([2.2075, 3.6427, 0.6578], requires_grad=True)\n",
      "tensor([ 1.8089, -2.6292, -0.2587])\n",
      "tensor([2.2057, 3.6453, 0.6581], requires_grad=True)\n",
      "tensor([ 1.7939, -2.6075, -0.2560])\n",
      "tensor([2.2039, 3.6479, 0.6583], requires_grad=True)\n",
      "tensor([ 1.7790, -2.5859, -0.2533])\n",
      "tensor([2.2021, 3.6505, 0.6586], requires_grad=True)\n",
      "tensor([ 1.7642, -2.5646, -0.2507])\n",
      "tensor([2.2004, 3.6530, 0.6588], requires_grad=True)\n",
      "tensor([ 1.7495, -2.5434, -0.2481])\n",
      "tensor([2.1986, 3.6555, 0.6591], requires_grad=True)\n",
      "tensor([ 1.7350, -2.5224, -0.2454])\n",
      "tensor([2.1969, 3.6580, 0.6593], requires_grad=True)\n",
      "tensor([ 1.7206, -2.5016, -0.2429])\n",
      "tensor([2.1952, 3.6605, 0.6596], requires_grad=True)\n",
      "tensor([ 1.7063, -2.4810, -0.2403])\n",
      "tensor([2.1935, 3.6630, 0.6598], requires_grad=True)\n",
      "tensor([ 1.6921, -2.4605, -0.2378])\n",
      "tensor([2.1918, 3.6654, 0.6600], requires_grad=True)\n",
      "tensor([ 1.6780, -2.4402, -0.2352])\n",
      "tensor([2.1902, 3.6678, 0.6603], requires_grad=True)\n",
      "tensor([ 1.6641, -2.4200, -0.2327])\n",
      "tensor([2.1885, 3.6702, 0.6605], requires_grad=True)\n",
      "tensor([ 1.6502, -2.4001, -0.2303])\n",
      "tensor([2.1869, 3.6726, 0.6607], requires_grad=True)\n",
      "tensor([ 1.6365, -2.3803, -0.2278])\n",
      "tensor([2.1853, 3.6750, 0.6609], requires_grad=True)\n",
      "tensor([ 1.6229, -2.3606, -0.2254])\n",
      "tensor([2.1837, 3.6773, 0.6612], requires_grad=True)\n",
      "tensor([ 1.6094, -2.3412, -0.2229])\n",
      "tensor([2.1821, 3.6796, 0.6614], requires_grad=True)\n",
      "tensor([ 1.5960, -2.3218, -0.2205])\n",
      "tensor([2.1805, 3.6819, 0.6616], requires_grad=True)\n",
      "tensor([ 1.5828, -2.3027, -0.2182])\n",
      "tensor([2.1789, 3.6842, 0.6618], requires_grad=True)\n",
      "tensor([ 1.5696, -2.2837, -0.2158])\n",
      "tensor([2.1773, 3.6865, 0.6620], requires_grad=True)\n",
      "tensor([ 1.5566, -2.2648, -0.2135])\n",
      "tensor([2.1758, 3.6887, 0.6622], requires_grad=True)\n",
      "tensor([ 1.5436, -2.2462, -0.2111])\n",
      "tensor([2.1743, 3.6910, 0.6625], requires_grad=True)\n",
      "tensor([ 1.5308, -2.2276, -0.2088])\n",
      "tensor([2.1728, 3.6932, 0.6627], requires_grad=True)\n",
      "tensor([ 1.5181, -2.2093, -0.2066])\n",
      "tensor([2.1712, 3.6954, 0.6629], requires_grad=True)\n",
      "tensor([ 1.5054, -2.1910, -0.2043])\n",
      "tensor([2.1698, 3.6975, 0.6631], requires_grad=True)\n",
      "tensor([ 1.4929, -2.1730, -0.2021])\n",
      "tensor([2.1683, 3.6997, 0.6633], requires_grad=True)\n",
      "tensor([ 1.4805, -2.1551, -0.1998])\n",
      "tensor([2.1668, 3.7018, 0.6635], requires_grad=True)\n",
      "tensor([ 1.4682, -2.1373, -0.1976])\n",
      "tensor([2.1653, 3.7039, 0.6637], requires_grad=True)\n",
      "tensor([ 1.4560, -2.1197, -0.1955])\n",
      "tensor([2.1639, 3.7060, 0.6639], requires_grad=True)\n",
      "tensor([ 1.4439, -2.1022, -0.1933])\n",
      "tensor([2.1625, 3.7081, 0.6640], requires_grad=True)\n",
      "tensor([ 1.4319, -2.0849, -0.1911])\n",
      "tensor([2.1611, 3.7102, 0.6642], requires_grad=True)\n",
      "tensor([ 1.4200, -2.0677, -0.1890])\n",
      "tensor([2.1596, 3.7122, 0.6644], requires_grad=True)\n",
      "tensor([ 1.4081, -2.0506, -0.1869])\n",
      "tensor([2.1582, 3.7143, 0.6646], requires_grad=True)\n",
      "tensor([ 1.3964, -2.0337, -0.1848])\n",
      "tensor([2.1569, 3.7163, 0.6648], requires_grad=True)\n",
      "tensor([ 1.3848, -2.0169, -0.1827])\n",
      "tensor([2.1555, 3.7183, 0.6650], requires_grad=True)\n",
      "tensor([ 1.3733, -2.0003, -0.1807])\n",
      "tensor([2.1541, 3.7203, 0.6651], requires_grad=True)\n",
      "tensor([ 1.3619, -1.9838, -0.1786])\n",
      "tensor([2.1528, 3.7222, 0.6653], requires_grad=True)\n",
      "tensor([ 1.3506, -1.9675, -0.1766])\n",
      "tensor([2.1514, 3.7242, 0.6655], requires_grad=True)\n",
      "tensor([ 1.3393, -1.9512, -0.1746])\n",
      "tensor([2.1501, 3.7261, 0.6657], requires_grad=True)\n",
      "tensor([ 1.3282, -1.9352, -0.1726])\n",
      "tensor([2.1488, 3.7280, 0.6658], requires_grad=True)\n",
      "tensor([ 1.3171, -1.9192, -0.1706])\n",
      "tensor([2.1475, 3.7300, 0.6660], requires_grad=True)\n",
      "tensor([ 1.3062, -1.9034, -0.1687])\n",
      "tensor([2.1462, 3.7318, 0.6662], requires_grad=True)\n",
      "tensor([ 1.2953, -1.8877, -0.1667])\n",
      "tensor([2.1449, 3.7337, 0.6663], requires_grad=True)\n",
      "tensor([ 1.2846, -1.8721, -0.1648])\n",
      "tensor([2.1436, 3.7356, 0.6665], requires_grad=True)\n",
      "tensor([ 1.2739, -1.8567, -0.1629])\n",
      "tensor([2.1424, 3.7374, 0.6667], requires_grad=True)\n",
      "tensor([ 1.2633, -1.8414, -0.1610])\n",
      "tensor([2.1411, 3.7392, 0.6668], requires_grad=True)\n",
      "tensor([ 1.2528, -1.8262, -0.1591])\n",
      "tensor([2.1399, 3.7410, 0.6670], requires_grad=True)\n",
      "tensor([ 1.2423, -1.8112, -0.1572])\n",
      "tensor([2.1386, 3.7428, 0.6671], requires_grad=True)\n",
      "tensor([ 1.2320, -1.7963, -0.1554])\n",
      "tensor([2.1374, 3.7446, 0.6673], requires_grad=True)\n",
      "tensor([ 1.2218, -1.7815, -0.1536])\n",
      "tensor([2.1362, 3.7464, 0.6674], requires_grad=True)\n",
      "tensor([ 1.2116, -1.7668, -0.1517])\n",
      "tensor([2.1350, 3.7481, 0.6676], requires_grad=True)\n",
      "tensor([ 1.2015, -1.7522, -0.1499])\n",
      "tensor([2.1338, 3.7499, 0.6677], requires_grad=True)\n",
      "tensor([ 1.1915, -1.7378, -0.1482])\n",
      "tensor([2.1326, 3.7516, 0.6679], requires_grad=True)\n",
      "tensor([ 1.1816, -1.7235, -0.1464])\n",
      "tensor([2.1315, 3.7533, 0.6680], requires_grad=True)\n",
      "tensor([ 1.1718, -1.7093, -0.1446])\n",
      "tensor([2.1303, 3.7550, 0.6682], requires_grad=True)\n",
      "tensor([ 1.1620, -1.6952, -0.1429])\n",
      "tensor([2.1291, 3.7567, 0.6683], requires_grad=True)\n",
      "tensor([ 1.1523, -1.6813, -0.1412])\n",
      "tensor([2.1280, 3.7584, 0.6685], requires_grad=True)\n",
      "tensor([ 1.1428, -1.6674, -0.1395])\n",
      "tensor([2.1269, 3.7600, 0.6686], requires_grad=True)\n",
      "tensor([ 1.1332, -1.6537, -0.1378])\n",
      "tensor([2.1257, 3.7617, 0.6687], requires_grad=True)\n",
      "tensor([ 1.1238, -1.6401, -0.1361])\n",
      "tensor([2.1246, 3.7633, 0.6689], requires_grad=True)\n",
      "tensor([ 1.1145, -1.6266, -0.1344])\n",
      "tensor([2.1235, 3.7649, 0.6690], requires_grad=True)\n",
      "tensor([ 1.1052, -1.6132, -0.1328])\n",
      "tensor([2.1224, 3.7665, 0.6691], requires_grad=True)\n",
      "tensor([ 1.0960, -1.5999, -0.1311])\n",
      "tensor([2.1213, 3.7681, 0.6693], requires_grad=True)\n",
      "tensor([ 1.0869, -1.5867, -0.1295])\n",
      "tensor([2.1203, 3.7697, 0.6694], requires_grad=True)\n",
      "tensor([ 1.0778, -1.5737, -0.1279])\n",
      "tensor([2.1192, 3.7712, 0.6695], requires_grad=True)\n",
      "tensor([ 1.0688, -1.5607, -0.1263])\n",
      "tensor([2.1181, 3.7728, 0.6696], requires_grad=True)\n",
      "tensor([ 1.0599, -1.5479, -0.1247])\n",
      "tensor([2.1171, 3.7743, 0.6698], requires_grad=True)\n",
      "tensor([ 1.0511, -1.5351, -0.1231])\n",
      "tensor([2.1160, 3.7758, 0.6699], requires_grad=True)\n",
      "tensor([ 1.0424, -1.5225, -0.1216])\n",
      "tensor([2.1150, 3.7773, 0.6700], requires_grad=True)\n",
      "tensor([ 1.0337, -1.5100, -0.1200])\n",
      "tensor([2.1140, 3.7788, 0.6701], requires_grad=True)\n",
      "tensor([ 1.0251, -1.4975, -0.1185])\n",
      "tensor([2.1130, 3.7803, 0.6702], requires_grad=True)\n",
      "tensor([ 1.0165, -1.4852, -0.1170])\n",
      "tensor([2.1120, 3.7818, 0.6703], requires_grad=True)\n",
      "tensor([ 1.0081, -1.4730, -0.1155])\n",
      "tensor([2.1110, 3.7832, 0.6705], requires_grad=True)\n",
      "tensor([ 0.9997, -1.4609, -0.1140])\n",
      "tensor([2.1100, 3.7847, 0.6706], requires_grad=True)\n",
      "tensor([ 0.9914, -1.4488, -0.1125])\n",
      "tensor([2.1090, 3.7861, 0.6707], requires_grad=True)\n",
      "tensor([ 0.9831, -1.4369, -0.1110])\n",
      "tensor([2.1080, 3.7876, 0.6708], requires_grad=True)\n",
      "tensor([ 0.9749, -1.4251, -0.1095])\n",
      "tensor([2.1070, 3.7890, 0.6709], requires_grad=True)\n",
      "tensor([ 0.9668, -1.4134, -0.1081])\n",
      "tensor([2.1061, 3.7904, 0.6710], requires_grad=True)\n",
      "tensor([ 0.9588, -1.4018, -0.1067])\n",
      "tensor([2.1051, 3.7918, 0.6711], requires_grad=True)\n",
      "tensor([ 0.9508, -1.3902, -0.1052])\n",
      "tensor([2.1042, 3.7931, 0.6712], requires_grad=True)\n",
      "tensor([ 0.9429, -1.3788, -0.1038])\n",
      "tensor([2.1033, 3.7945, 0.6713], requires_grad=True)\n",
      "tensor([ 0.9350, -1.3675, -0.1024])\n",
      "tensor([2.1023, 3.7959, 0.6714], requires_grad=True)\n",
      "tensor([ 0.9272, -1.3562, -0.1011])\n",
      "tensor([2.1014, 3.7972, 0.6715], requires_grad=True)\n",
      "tensor([ 0.9195, -1.3451, -0.0997])\n",
      "tensor([2.1005, 3.7985, 0.6716], requires_grad=True)\n",
      "tensor([ 0.9118, -1.3340, -0.0983])\n",
      "tensor([2.0996, 3.7999, 0.6717], requires_grad=True)\n",
      "tensor([ 0.9042, -1.3230, -0.0970])\n",
      "tensor([2.0987, 3.8012, 0.6718], requires_grad=True)\n",
      "tensor([ 0.8967, -1.3122, -0.0956])\n",
      "tensor([2.0978, 3.8025, 0.6719], requires_grad=True)\n",
      "tensor([ 0.8892, -1.3014, -0.0943])\n",
      "tensor([2.0969, 3.8038, 0.6720], requires_grad=True)\n",
      "tensor([ 0.8818, -1.2907, -0.0930])\n",
      "tensor([2.0961, 3.8051, 0.6721], requires_grad=True)\n",
      "tensor([ 0.8745, -1.2801, -0.0917])\n",
      "tensor([2.0952, 3.8063, 0.6722], requires_grad=True)\n",
      "tensor([ 0.8672, -1.2695, -0.0904])\n",
      "tensor([2.0943, 3.8076, 0.6723], requires_grad=True)\n",
      "tensor([ 0.8600, -1.2591, -0.0891])\n",
      "tensor([2.0935, 3.8088, 0.6724], requires_grad=True)\n",
      "tensor([ 0.8528, -1.2488, -0.0878])\n",
      "tensor([2.0926, 3.8101, 0.6724], requires_grad=True)\n",
      "tensor([ 0.8457, -1.2385, -0.0866])\n",
      "tensor([2.0918, 3.8113, 0.6725], requires_grad=True)\n",
      "tensor([ 0.8387, -1.2283, -0.0853])\n",
      "tensor([2.0910, 3.8125, 0.6726], requires_grad=True)\n",
      "tensor([ 0.8317, -1.2182, -0.0841])\n",
      "tensor([2.0901, 3.8137, 0.6727], requires_grad=True)\n",
      "tensor([ 0.8247, -1.2082, -0.0828])\n",
      "tensor([2.0893, 3.8149, 0.6728], requires_grad=True)\n",
      "tensor([ 0.8179, -1.1983, -0.0816])\n",
      "tensor([2.0885, 3.8161, 0.6729], requires_grad=True)\n",
      "tensor([ 0.8111, -1.1884, -0.0804])\n",
      "tensor([2.0877, 3.8173, 0.6729], requires_grad=True)\n",
      "tensor([ 0.8043, -1.1787, -0.0792])\n",
      "tensor([2.0869, 3.8185, 0.6730], requires_grad=True)\n",
      "tensor([ 0.7976, -1.1690, -0.0780])\n",
      "tensor([2.0861, 3.8196, 0.6731], requires_grad=True)\n",
      "tensor([ 0.7910, -1.1594, -0.0768])\n",
      "tensor([2.0853, 3.8208, 0.6732], requires_grad=True)\n",
      "tensor([ 0.7844, -1.1499, -0.0757])\n",
      "tensor([2.0845, 3.8219, 0.6732], requires_grad=True)\n",
      "tensor([ 0.7778, -1.1404, -0.0745])\n",
      "tensor([2.0838, 3.8230, 0.6733], requires_grad=True)\n",
      "tensor([ 0.7713, -1.1311, -0.0734])\n",
      "tensor([2.0830, 3.8242, 0.6734], requires_grad=True)\n",
      "tensor([ 0.7649, -1.1218, -0.0722])\n",
      "tensor([2.0823, 3.8253, 0.6735], requires_grad=True)\n",
      "tensor([ 0.7585, -1.1126, -0.0711])\n",
      "tensor([2.0815, 3.8264, 0.6735], requires_grad=True)\n",
      "tensor([ 0.7522, -1.1035, -0.0700])\n",
      "tensor([2.0808, 3.8275, 0.6736], requires_grad=True)\n",
      "tensor([ 0.7459, -1.0944, -0.0689])\n",
      "tensor([2.0800, 3.8286, 0.6737], requires_grad=True)\n",
      "tensor([ 0.7397, -1.0854, -0.0678])\n",
      "tensor([2.0793, 3.8296, 0.6737], requires_grad=True)\n",
      "tensor([ 0.7335, -1.0765, -0.0667])\n",
      "tensor([2.0786, 3.8307, 0.6738], requires_grad=True)\n",
      "tensor([ 0.7274, -1.0677, -0.0656])\n",
      "tensor([2.0778, 3.8318, 0.6739], requires_grad=True)\n",
      "tensor([ 0.7214, -1.0589, -0.0645])\n",
      "tensor([2.0771, 3.8328, 0.6739], requires_grad=True)\n",
      "tensor([ 0.7153, -1.0502, -0.0635])\n",
      "tensor([2.0764, 3.8338, 0.6740], requires_grad=True)\n",
      "tensor([ 0.7094, -1.0416, -0.0624])\n",
      "tensor([2.0757, 3.8349, 0.6741], requires_grad=True)\n",
      "tensor([ 0.7035, -1.0331, -0.0614])\n",
      "tensor([2.0750, 3.8359, 0.6741], requires_grad=True)\n",
      "tensor([ 0.6976, -1.0246, -0.0603])\n",
      "tensor([2.0743, 3.8369, 0.6742], requires_grad=True)\n",
      "tensor([ 0.6918, -1.0162, -0.0593])\n",
      "tensor([2.0736, 3.8379, 0.6742], requires_grad=True)\n",
      "tensor([ 0.6860, -1.0079, -0.0583])\n",
      "tensor([2.0730, 3.8389, 0.6743], requires_grad=True)\n",
      "tensor([ 0.6803, -0.9996, -0.0573])\n",
      "tensor([2.0723, 3.8399, 0.6743], requires_grad=True)\n",
      "tensor([ 0.6746, -0.9914, -0.0563])\n",
      "tensor([2.0716, 3.8409, 0.6744], requires_grad=True)\n",
      "tensor([ 0.6690, -0.9833, -0.0553])\n",
      "tensor([2.0709, 3.8419, 0.6745], requires_grad=True)\n",
      "tensor([ 0.6634, -0.9752, -0.0543])\n",
      "tensor([2.0703, 3.8428, 0.6745], requires_grad=True)\n",
      "tensor([ 0.6579, -0.9672, -0.0533])\n",
      "tensor([2.0696, 3.8438, 0.6746], requires_grad=True)\n",
      "tensor([ 0.6524, -0.9593, -0.0523])\n",
      "tensor([2.0690, 3.8448, 0.6746], requires_grad=True)\n",
      "tensor([ 0.6469, -0.9514, -0.0514])\n",
      "tensor([2.0683, 3.8457, 0.6747], requires_grad=True)\n",
      "tensor([ 0.6415, -0.9436, -0.0504])\n",
      "tensor([2.0677, 3.8466, 0.6747], requires_grad=True)\n",
      "tensor([ 0.6362, -0.9359, -0.0495])\n",
      "tensor([2.0671, 3.8476, 0.6748], requires_grad=True)\n",
      "tensor([ 0.6309, -0.9282, -0.0485])\n",
      "tensor([2.0665, 3.8485, 0.6748], requires_grad=True)\n",
      "tensor([ 0.6256, -0.9206, -0.0476])\n",
      "tensor([2.0658, 3.8494, 0.6749], requires_grad=True)\n",
      "tensor([ 0.6204, -0.9131, -0.0467])\n",
      "tensor([2.0652, 3.8503, 0.6749], requires_grad=True)\n",
      "tensor([ 0.6152, -0.9056, -0.0458])\n",
      "tensor([2.0646, 3.8512, 0.6749], requires_grad=True)\n",
      "tensor([ 0.6101, -0.8982, -0.0449])\n",
      "tensor([2.0640, 3.8521, 0.6750], requires_grad=True)\n",
      "tensor([ 0.6050, -0.8908, -0.0440])\n",
      "tensor([2.0634, 3.8530, 0.6750], requires_grad=True)\n",
      "tensor([ 0.5999, -0.8835, -0.0431])\n",
      "tensor([2.0628, 3.8539, 0.6751], requires_grad=True)\n",
      "tensor([ 0.5949, -0.8763, -0.0422])\n",
      "tensor([2.0622, 3.8547, 0.6751], requires_grad=True)\n",
      "tensor([ 0.5900, -0.8691, -0.0413])\n",
      "tensor([2.0616, 3.8556, 0.6752], requires_grad=True)\n",
      "tensor([ 0.5850, -0.8620, -0.0405])\n",
      "tensor([2.0611, 3.8564, 0.6752], requires_grad=True)\n",
      "tensor([ 0.5801, -0.8549, -0.0396])\n",
      "tensor([2.0605, 3.8573, 0.6752], requires_grad=True)\n",
      "tensor([ 0.5753, -0.8479, -0.0387])\n",
      "tensor([2.0599, 3.8581, 0.6753], requires_grad=True)\n",
      "tensor([ 0.5705, -0.8410, -0.0379])\n",
      "tensor([2.0593, 3.8590, 0.6753], requires_grad=True)\n",
      "tensor([ 0.5657, -0.8341, -0.0371])\n",
      "tensor([2.0588, 3.8598, 0.6753], requires_grad=True)\n",
      "tensor([ 0.5610, -0.8273, -0.0362])\n",
      "tensor([2.0582, 3.8606, 0.6754], requires_grad=True)\n",
      "tensor([ 0.5563, -0.8205, -0.0354])\n",
      "tensor([2.0577, 3.8614, 0.6754], requires_grad=True)\n",
      "tensor([ 0.5517, -0.8138, -0.0346])\n",
      "tensor([2.0571, 3.8622, 0.6754], requires_grad=True)\n",
      "tensor([ 0.5471, -0.8072, -0.0338])\n",
      "tensor([2.0566, 3.8630, 0.6755], requires_grad=True)\n",
      "tensor([ 0.5425, -0.8006, -0.0330])\n",
      "tensor([2.0560, 3.8638, 0.6755], requires_grad=True)\n",
      "tensor([ 0.5380, -0.7940, -0.0322])\n",
      "tensor([2.0555, 3.8646, 0.6755], requires_grad=True)\n",
      "tensor([ 0.5335, -0.7875, -0.0314])\n",
      "tensor([2.0550, 3.8654, 0.6756], requires_grad=True)\n",
      "tensor([ 0.5290, -0.7811, -0.0306])\n",
      "tensor([2.0545, 3.8662, 0.6756], requires_grad=True)\n",
      "tensor([ 0.5246, -0.7747, -0.0298])\n",
      "tensor([2.0539, 3.8669, 0.6756], requires_grad=True)\n",
      "tensor([ 0.5202, -0.7684, -0.0291])\n",
      "tensor([2.0534, 3.8677, 0.6757], requires_grad=True)\n",
      "tensor([ 0.5159, -0.7621, -0.0283])\n",
      "tensor([2.0529, 3.8685, 0.6757], requires_grad=True)\n",
      "tensor([ 0.5115, -0.7558, -0.0275])\n",
      "tensor([2.0524, 3.8692, 0.6757], requires_grad=True)\n",
      "tensor([ 0.5073, -0.7497, -0.0268])\n",
      "tensor([2.0519, 3.8699, 0.6757], requires_grad=True)\n",
      "tensor([ 0.5030, -0.7436, -0.0261])\n",
      "tensor([2.0514, 3.8707, 0.6758], requires_grad=True)\n",
      "tensor([ 0.4988, -0.7375, -0.0253])\n",
      "tensor([2.0509, 3.8714, 0.6758], requires_grad=True)\n",
      "tensor([ 0.4947, -0.7314, -0.0246])\n",
      "tensor([2.0504, 3.8721, 0.6758], requires_grad=True)\n",
      "tensor([ 0.4905, -0.7255, -0.0239])\n",
      "tensor([2.0499, 3.8729, 0.6758], requires_grad=True)\n",
      "tensor([ 0.4864, -0.7195, -0.0231])\n",
      "tensor([2.0494, 3.8736, 0.6759], requires_grad=True)\n",
      "tensor([ 0.4824, -0.7137, -0.0224])\n",
      "tensor([2.0490, 3.8743, 0.6759], requires_grad=True)\n",
      "tensor([ 0.4783, -0.7078, -0.0217])\n",
      "tensor([2.0485, 3.8750, 0.6759], requires_grad=True)\n",
      "tensor([ 0.4743, -0.7021, -0.0210])\n",
      "tensor([2.0480, 3.8757, 0.6759], requires_grad=True)\n",
      "tensor([ 0.4704, -0.6963, -0.0203])\n",
      "tensor([2.0476, 3.8764, 0.6759], requires_grad=True)\n",
      "tensor([ 0.4664, -0.6906, -0.0196])\n",
      "tensor([2.0471, 3.8771, 0.6760], requires_grad=True)\n",
      "tensor([ 0.4625, -0.6850, -0.0190])\n",
      "tensor([2.0466, 3.8777, 0.6760], requires_grad=True)\n",
      "tensor([ 0.4587, -0.6794, -0.0183])\n",
      "tensor([2.0462, 3.8784, 0.6760], requires_grad=True)\n",
      "tensor([ 0.4548, -0.6739, -0.0176])\n",
      "tensor([2.0457, 3.8791, 0.6760], requires_grad=True)\n",
      "tensor([ 0.4510, -0.6684, -0.0169])\n",
      "tensor([2.0453, 3.8797, 0.6760], requires_grad=True)\n",
      "tensor([ 0.4472, -0.6629, -0.0163])\n",
      "tensor([2.0448, 3.8804, 0.6760], requires_grad=True)\n",
      "tensor([ 0.4435, -0.6575, -0.0156])\n",
      "tensor([2.0444, 3.8811, 0.6761], requires_grad=True)\n",
      "tensor([ 0.4398, -0.6522, -0.0150])\n",
      "tensor([2.0440, 3.8817, 0.6761], requires_grad=True)\n",
      "tensor([ 0.4361, -0.6468, -0.0144])\n",
      "tensor([2.0435, 3.8823, 0.6761], requires_grad=True)\n",
      "tensor([ 0.4325, -0.6416, -0.0137])\n",
      "tensor([2.0431, 3.8830, 0.6761], requires_grad=True)\n",
      "tensor([ 0.4288, -0.6363, -0.0131])\n",
      "tensor([2.0427, 3.8836, 0.6761], requires_grad=True)\n",
      "tensor([ 0.4252, -0.6312, -0.0125])\n",
      "tensor([2.0423, 3.8842, 0.6761], requires_grad=True)\n",
      "tensor([ 0.4217, -0.6260, -0.0118])\n",
      "tensor([2.0418, 3.8849, 0.6761], requires_grad=True)\n",
      "tensor([ 0.4181, -0.6209, -0.0112])\n",
      "tensor([2.0414, 3.8855, 0.6762], requires_grad=True)\n",
      "tensor([ 0.4146, -0.6158, -0.0106])\n",
      "tensor([2.0410, 3.8861, 0.6762], requires_grad=True)\n",
      "tensor([ 0.4112, -0.6108, -0.0100])\n",
      "tensor([2.0406, 3.8867, 0.6762], requires_grad=True)\n",
      "tensor([ 0.4077, -0.6058, -0.0094])\n",
      "tensor([2.0402, 3.8873, 0.6762], requires_grad=True)\n",
      "tensor([ 0.4043, -0.6009, -0.0088])\n",
      "tensor([2.0398, 3.8879, 0.6762], requires_grad=True)\n",
      "tensor([ 0.4009, -0.5960, -0.0082])\n",
      "tensor([2.0394, 3.8885, 0.6762], requires_grad=True)\n",
      "tensor([ 0.3976, -0.5912, -0.0076])\n",
      "tensor([2.0390, 3.8891, 0.6762], requires_grad=True)\n",
      "tensor([ 0.3942, -0.5864, -0.0071])\n",
      "tensor([2.0386, 3.8896, 0.6762], requires_grad=True)\n",
      "tensor([ 0.3909, -0.5816, -0.0065])\n",
      "tensor([2.0382, 3.8902, 0.6762], requires_grad=True)\n",
      "tensor([ 0.3876, -0.5769, -0.0059])\n",
      "tensor([2.0378, 3.8908, 0.6762], requires_grad=True)\n",
      "tensor([ 0.3844, -0.5722, -0.0054])\n",
      "tensor([2.0375, 3.8914, 0.6762], requires_grad=True)\n",
      "tensor([ 0.3812, -0.5675, -0.0048])\n",
      "tensor([2.0371, 3.8919, 0.6762], requires_grad=True)\n",
      "tensor([ 0.3780, -0.5629, -0.0042])\n",
      "tensor([2.0367, 3.8925, 0.6762], requires_grad=True)\n",
      "tensor([ 0.3748, -0.5583, -0.0037])\n",
      "tensor([2.0363, 3.8930, 0.6762], requires_grad=True)\n",
      "tensor([ 0.3717, -0.5538, -0.0032])\n",
      "tensor([2.0360, 3.8936, 0.6762], requires_grad=True)\n",
      "tensor([ 0.3686, -0.5493, -0.0026])\n",
      "tensor([2.0356, 3.8941, 0.6762], requires_grad=True)\n",
      "tensor([ 0.3655, -0.5448, -0.0021])\n",
      "tensor([2.0352, 3.8947, 0.6762], requires_grad=True)\n",
      "tensor([ 0.3624, -0.5404, -0.0015])\n",
      "tensor([2.0349, 3.8952, 0.6762], requires_grad=True)\n",
      "tensor([ 0.3594, -0.5360, -0.0010])\n",
      "tensor([2.0345, 3.8957, 0.6762], requires_grad=True)\n",
      "tensor([ 3.5637e-01, -5.3162e-01, -4.9956e-04])\n",
      "tensor([2.0342, 3.8963, 0.6762], requires_grad=True)\n",
      "tensor([ 3.5338e-01, -5.2730e-01,  1.6689e-05])\n",
      "tensor([2.0338, 3.8968, 0.6762], requires_grad=True)\n",
      "tensor([ 0.3504, -0.5230,  0.0005])\n",
      "tensor([2.0335, 3.8973, 0.6762], requires_grad=True)\n",
      "tensor([ 0.3475, -0.5188,  0.0010])\n",
      "tensor([2.0331, 3.8978, 0.6762], requires_grad=True)\n",
      "tensor([ 0.3446, -0.5145,  0.0015])\n",
      "tensor([2.0328, 3.8983, 0.6762], requires_grad=True)\n",
      "tensor([ 0.3417, -0.5104,  0.0020])\n",
      "tensor([2.0324, 3.8988, 0.6762], requires_grad=True)\n",
      "tensor([ 0.3388, -0.5062,  0.0025])\n",
      "tensor([2.0321, 3.8993, 0.6762], requires_grad=True)\n",
      "tensor([ 0.3360, -0.5021,  0.0030])\n",
      "tensor([2.0318, 3.8998, 0.6762], requires_grad=True)\n",
      "tensor([ 0.3332, -0.4980,  0.0035])\n",
      "tensor([2.0314, 3.9003, 0.6762], requires_grad=True)\n",
      "tensor([ 0.3304, -0.4940,  0.0040])\n",
      "tensor([2.0311, 3.9008, 0.6762], requires_grad=True)\n",
      "tensor([ 0.3276, -0.4900,  0.0045])\n",
      "tensor([2.0308, 3.9013, 0.6762], requires_grad=True)\n",
      "tensor([ 0.3249, -0.4860,  0.0049])\n",
      "tensor([2.0305, 3.9018, 0.6762], requires_grad=True)\n",
      "tensor([ 0.3221, -0.4821,  0.0054])\n",
      "tensor([2.0302, 3.9023, 0.6762], requires_grad=True)\n",
      "tensor([ 0.3194, -0.4782,  0.0059])\n",
      "tensor([2.0298, 3.9027, 0.6762], requires_grad=True)\n",
      "tensor([ 0.3167, -0.4743,  0.0063])\n",
      "tensor([2.0295, 3.9032, 0.6762], requires_grad=True)\n",
      "tensor([ 0.3141, -0.4704,  0.0068])\n",
      "tensor([2.0292, 3.9037, 0.6762], requires_grad=True)\n",
      "tensor([ 0.3114, -0.4666,  0.0073])\n",
      "tensor([2.0289, 3.9041, 0.6762], requires_grad=True)\n",
      "tensor([ 0.3088, -0.4628,  0.0077])\n",
      "tensor([2.0286, 3.9046, 0.6762], requires_grad=True)\n",
      "tensor([ 0.3062, -0.4591,  0.0082])\n",
      "tensor([2.0283, 3.9051, 0.6762], requires_grad=True)\n",
      "tensor([ 0.3037, -0.4554,  0.0086])\n",
      "tensor([2.0280, 3.9055, 0.6762], requires_grad=True)\n",
      "tensor([ 0.3011, -0.4517,  0.0090])\n",
      "tensor([2.0277, 3.9060, 0.6761], requires_grad=True)\n",
      "tensor([ 0.2986, -0.4480,  0.0095])\n",
      "tensor([2.0274, 3.9064, 0.6761], requires_grad=True)\n",
      "tensor([ 0.2961, -0.4444,  0.0099])\n",
      "tensor([2.0271, 3.9068, 0.6761], requires_grad=True)\n",
      "tensor([ 0.2936, -0.4408,  0.0103])\n",
      "tensor([2.0268, 3.9073, 0.6761], requires_grad=True)\n",
      "tensor([ 0.2911, -0.4372,  0.0107])\n",
      "tensor([2.0265, 3.9077, 0.6761], requires_grad=True)\n",
      "tensor([ 0.2887, -0.4337,  0.0112])\n",
      "tensor([2.0262, 3.9081, 0.6761], requires_grad=True)\n",
      "tensor([ 0.2862, -0.4302,  0.0116])\n",
      "tensor([2.0260, 3.9086, 0.6761], requires_grad=True)\n",
      "tensor([ 0.2838, -0.4267,  0.0120])\n",
      "tensor([2.0257, 3.9090, 0.6761], requires_grad=True)\n",
      "tensor([ 0.2814, -0.4233,  0.0124])\n",
      "tensor([2.0254, 3.9094, 0.6761], requires_grad=True)\n",
      "tensor([ 0.2791, -0.4198,  0.0128])\n",
      "tensor([2.0251, 3.9098, 0.6760], requires_grad=True)\n",
      "tensor([ 0.2767, -0.4164,  0.0132])\n",
      "tensor([2.0248, 3.9102, 0.6760], requires_grad=True)\n",
      "tensor([ 0.2744, -0.4131,  0.0136])\n",
      "tensor([2.0246, 3.9107, 0.6760], requires_grad=True)\n",
      "tensor([ 0.2721, -0.4097,  0.0140])\n",
      "tensor([2.0243, 3.9111, 0.6760], requires_grad=True)\n",
      "tensor([ 0.2698, -0.4064,  0.0144])\n",
      "tensor([2.0240, 3.9115, 0.6760], requires_grad=True)\n",
      "tensor([ 0.2675, -0.4032,  0.0148])\n",
      "tensor([2.0238, 3.9119, 0.6760], requires_grad=True)\n",
      "tensor([ 0.2653, -0.3999,  0.0152])\n",
      "tensor([2.0235, 3.9123, 0.6760], requires_grad=True)\n",
      "tensor([ 0.2630, -0.3967,  0.0155])\n",
      "tensor([2.0232, 3.9127, 0.6759], requires_grad=True)\n",
      "tensor([ 0.2608, -0.3935,  0.0159])\n",
      "tensor([2.0230, 3.9130, 0.6759], requires_grad=True)\n",
      "tensor([ 0.2586, -0.3903,  0.0163])\n",
      "tensor([2.0227, 3.9134, 0.6759], requires_grad=True)\n",
      "tensor([ 0.2564, -0.3871,  0.0167])\n",
      "tensor([2.0225, 3.9138, 0.6759], requires_grad=True)\n",
      "tensor([ 0.2543, -0.3840,  0.0170])\n",
      "tensor([2.0222, 3.9142, 0.6759], requires_grad=True)\n",
      "tensor([ 0.2521, -0.3809,  0.0174])\n",
      "tensor([2.0220, 3.9146, 0.6758], requires_grad=True)\n",
      "tensor([ 0.2500, -0.3779,  0.0177])\n",
      "tensor([2.0217, 3.9149, 0.6758], requires_grad=True)\n",
      "tensor([ 0.2479, -0.3748,  0.0181])\n",
      "tensor([2.0215, 3.9153, 0.6758], requires_grad=True)\n",
      "tensor([ 0.2458, -0.3718,  0.0185])\n",
      "tensor([2.0212, 3.9157, 0.6758], requires_grad=True)\n",
      "tensor([ 0.2437, -0.3688,  0.0188])\n",
      "tensor([2.0210, 3.9161, 0.6758], requires_grad=True)\n",
      "tensor([ 0.2417, -0.3658,  0.0192])\n",
      "tensor([2.0208, 3.9164, 0.6758], requires_grad=True)\n",
      "tensor([ 0.2397, -0.3629,  0.0195])\n",
      "tensor([2.0205, 3.9168, 0.6757], requires_grad=True)\n",
      "tensor([ 0.2376, -0.3600,  0.0198])\n",
      "tensor([2.0203, 3.9171, 0.6757], requires_grad=True)\n",
      "tensor([ 0.2356, -0.3571,  0.0202])\n",
      "tensor([2.0200, 3.9175, 0.6757], requires_grad=True)\n",
      "tensor([ 0.2337, -0.3542,  0.0205])\n",
      "tensor([2.0198, 3.9178, 0.6757], requires_grad=True)\n",
      "tensor([ 0.2317, -0.3513,  0.0208])\n",
      "tensor([2.0196, 3.9182, 0.6757], requires_grad=True)\n",
      "tensor([ 0.2297, -0.3485,  0.0212])\n",
      "tensor([2.0194, 3.9185, 0.6756], requires_grad=True)\n",
      "tensor([ 0.2278, -0.3457,  0.0215])\n",
      "tensor([2.0191, 3.9189, 0.6756], requires_grad=True)\n",
      "tensor([ 0.2259, -0.3429,  0.0218])\n",
      "tensor([2.0189, 3.9192, 0.6756], requires_grad=True)\n",
      "tensor([ 0.2240, -0.3401,  0.0222])\n",
      "tensor([2.0187, 3.9196, 0.6756], requires_grad=True)\n",
      "tensor([ 0.2221, -0.3374,  0.0225])\n",
      "tensor([2.0185, 3.9199, 0.6755], requires_grad=True)\n",
      "tensor([ 0.2202, -0.3347,  0.0228])\n",
      "tensor([2.0182, 3.9202, 0.6755], requires_grad=True)\n",
      "tensor([ 0.2183, -0.3320,  0.0231])\n",
      "tensor([2.0180, 3.9205, 0.6755], requires_grad=True)\n",
      "tensor([ 0.2165, -0.3294,  0.0234])\n",
      "tensor([2.0178, 3.9209, 0.6755], requires_grad=True)\n",
      "tensor([ 0.2147, -0.3267,  0.0237])\n",
      "tensor([2.0176, 3.9212, 0.6754], requires_grad=True)\n",
      "tensor([ 0.2129, -0.3241,  0.0240])\n",
      "tensor([2.0174, 3.9215, 0.6754], requires_grad=True)\n",
      "tensor([ 0.2111, -0.3215,  0.0243])\n",
      "tensor([2.0172, 3.9218, 0.6754], requires_grad=True)\n",
      "tensor([ 0.2093, -0.3189,  0.0246])\n",
      "tensor([2.0170, 3.9222, 0.6754], requires_grad=True)\n",
      "tensor([ 0.2075, -0.3163,  0.0249])\n",
      "tensor([2.0168, 3.9225, 0.6753], requires_grad=True)\n",
      "tensor([ 0.2058, -0.3138,  0.0252])\n",
      "tensor([2.0166, 3.9228, 0.6753], requires_grad=True)\n",
      "tensor([ 0.2040, -0.3113,  0.0255])\n",
      "tensor([2.0164, 3.9231, 0.6753], requires_grad=True)\n",
      "tensor([ 0.2023, -0.3088,  0.0258])\n",
      "tensor([2.0162, 3.9234, 0.6753], requires_grad=True)\n",
      "tensor([ 0.2006, -0.3063,  0.0261])\n",
      "tensor([2.0160, 3.9237, 0.6752], requires_grad=True)\n",
      "tensor([ 0.1989, -0.3039,  0.0264])\n",
      "tensor([2.0158, 3.9240, 0.6752], requires_grad=True)\n",
      "tensor([ 0.1972, -0.3014,  0.0266])\n",
      "tensor([2.0156, 3.9243, 0.6752], requires_grad=True)\n",
      "tensor([ 0.1955, -0.2990,  0.0269])\n",
      "tensor([2.0154, 3.9246, 0.6752], requires_grad=True)\n",
      "tensor([ 0.1939, -0.2966,  0.0272])\n",
      "tensor([2.0152, 3.9249, 0.6751], requires_grad=True)\n",
      "tensor([ 0.1923, -0.2943,  0.0275])\n",
      "tensor([2.0150, 3.9252, 0.6751], requires_grad=True)\n",
      "tensor([ 0.1906, -0.2919,  0.0277])\n",
      "tensor([2.0148, 3.9255, 0.6751], requires_grad=True)\n",
      "tensor([ 0.1890, -0.2896,  0.0280])\n",
      "tensor([2.0146, 3.9258, 0.6751], requires_grad=True)\n",
      "tensor([ 0.1874, -0.2873,  0.0283])\n",
      "tensor([2.0144, 3.9260, 0.6750], requires_grad=True)\n",
      "tensor([ 0.1858, -0.2850,  0.0285])\n",
      "tensor([2.0142, 3.9263, 0.6750], requires_grad=True)\n",
      "tensor([ 0.1843, -0.2827,  0.0288])\n",
      "tensor([2.0141, 3.9266, 0.6750], requires_grad=True)\n",
      "tensor([ 0.1827, -0.2804,  0.0291])\n",
      "tensor([2.0139, 3.9269, 0.6749], requires_grad=True)\n",
      "tensor([ 0.1811, -0.2782,  0.0293])\n",
      "tensor([2.0137, 3.9272, 0.6749], requires_grad=True)\n",
      "tensor([ 0.1796, -0.2760,  0.0296])\n",
      "tensor([2.0135, 3.9274, 0.6749], requires_grad=True)\n",
      "tensor([ 0.1781, -0.2738,  0.0298])\n",
      "tensor([2.0133, 3.9277, 0.6748], requires_grad=True)\n",
      "tensor([ 0.1766, -0.2716,  0.0301])\n",
      "tensor([2.0132, 3.9280, 0.6748], requires_grad=True)\n",
      "tensor([ 0.1751, -0.2694,  0.0303])\n",
      "tensor([2.0130, 3.9282, 0.6748], requires_grad=True)\n",
      "tensor([ 0.1736, -0.2673,  0.0306])\n",
      "tensor([2.0128, 3.9285, 0.6748], requires_grad=True)\n",
      "tensor([ 0.1721, -0.2651,  0.0308])\n",
      "tensor([22.3301, 14.5703, 26.5501, 10.6418, 28.6601, 24.5373, 40.3484, 36.2256,\n",
      "        18.4988, 10.5446, 16.4859,  4.6033], grad_fn=<AddBackward0>)\n"
     ]
    }
   ],
   "source": [
    "X = torch.tensor([potatoes_kg_ordered,tomatoes_kg_ordered])\n",
    "Y = torch.tensor(prices)\n",
    "X = X.T.float()\n",
    "Y = Y.T\n",
    "print(X)\n",
    "print(Y)\n",
    "\n",
    "params = torch.rand(3,requires_grad=True)\n",
    "for epoch in range(500):\n",
    "    y_pred = X @ params[:2] + params[2]\n",
    "    loss = (torch.square(Y - y_pred)).mean()\n",
    "    loss.backward()\n",
    "    with torch.no_grad():\n",
    "        params.copy_(params - lr * params.grad)\n",
    "    print(params)\n",
    "    print(params.grad)\n",
    "    params.grad.zero_()\n",
    "\n",
    "print(X @ params[:2] + params[2])"
   ]
  },
  {
   "cell_type": "markdown",
   "metadata": {
    "jp-MarkdownHeadingCollapsed": true
   },
   "source": [
    "#### Końcowy wynik:"
   ]
  },
  {
   "cell_type": "code",
   "execution_count": null,
   "metadata": {
    "ExecuteTime": {
     "end_time": "2021-10-03T06:59:55.773674Z",
     "start_time": "2021-10-03T06:59:55.766821Z"
    }
   },
   "outputs": [
    {
     "data": {
      "text/plain": [
       "array([22.5, 14.5, 26.5, 10.5, 28.5, 24.5, 40.5, 36.5, 18.5, 10.5, 16.5,\n",
       "        4.5])"
      ]
     },
     "execution_count": 156,
     "metadata": {},
     "output_type": "execute_result"
    }
   ],
   "source": [
    "#GT Rozwiazanie - jak je znaleźć?\n",
    "np.array(potatoes_kg_ordered)*2 + np.array(tomatoes_kg_ordered)*4 + 0.5"
   ]
  },
  {
   "cell_type": "markdown",
   "metadata": {},
   "source": [
    "# LAB 2 - Tworzenie architektury i przygotowanie danych"
   ]
  },
  {
   "cell_type": "code",
   "execution_count": 38,
   "metadata": {
    "ExecuteTime": {
     "end_time": "2021-10-15T06:25:18.845741Z",
     "start_time": "2021-10-15T06:25:18.434742Z"
    }
   },
   "outputs": [],
   "source": [
    "import torch\n",
    "import numpy as np\n",
    "import time\n",
    "import math\n",
    "import matplotlib.pyplot as plt"
   ]
  },
  {
   "cell_type": "markdown",
   "metadata": {},
   "source": [
    "## GPU"
   ]
  },
  {
   "cell_type": "markdown",
   "metadata": {},
   "source": [
    "Jednym z kluczowych udogodnień pytorcha jest możliwość szybkiego i prostego przenoszenia obliczeń między CPU a GPU"
   ]
  },
  {
   "cell_type": "code",
   "execution_count": 39,
   "metadata": {
    "ExecuteTime": {
     "end_time": "2021-10-15T06:26:18.605771Z",
     "start_time": "2021-10-15T06:26:17.326230Z"
    }
   },
   "outputs": [
    {
     "data": {
      "text/plain": [
       "True"
      ]
     },
     "execution_count": 39,
     "metadata": {},
     "output_type": "execute_result"
    }
   ],
   "source": [
    "torch.cuda.is_available()"
   ]
  },
  {
   "cell_type": "code",
   "execution_count": 40,
   "metadata": {
    "ExecuteTime": {
     "end_time": "2021-10-15T06:28:51.680702Z",
     "start_time": "2021-10-15T06:28:51.675017Z"
    }
   },
   "outputs": [
    {
     "data": {
      "text/plain": [
       "device(type='cuda')"
      ]
     },
     "execution_count": 40,
     "metadata": {},
     "output_type": "execute_result"
    }
   ],
   "source": [
    "device = torch.device(\"cuda\") \n",
    "device"
   ]
  },
  {
   "cell_type": "code",
   "execution_count": 41,
   "metadata": {
    "ExecuteTime": {
     "end_time": "2021-10-15T06:28:54.839617Z",
     "start_time": "2021-10-15T06:28:53.163109Z"
    }
   },
   "outputs": [
    {
     "name": "stdout",
     "output_type": "stream",
     "text": [
      "X tensor([[0., 0., 0.],\n",
      "        [0., 0., 0.]])\n",
      "X tensor([[0., 0., 0.],\n",
      "        [0., 0., 0.]], device='cuda:0')\n"
     ]
    }
   ],
   "source": [
    "x = torch.zeros(2, 3)\n",
    "print(\"X\", x)\n",
    "x = x.to(device)\n",
    "print(\"X\", x)"
   ]
  },
  {
   "cell_type": "markdown",
   "metadata": {},
   "source": [
    "#### Co nam to daje?"
   ]
  },
  {
   "cell_type": "code",
   "execution_count": 42,
   "metadata": {
    "ExecuteTime": {
     "end_time": "2021-10-15T06:30:02.766546Z",
     "start_time": "2021-10-15T06:30:02.344191Z"
    }
   },
   "outputs": [
    {
     "name": "stdout",
     "output_type": "stream",
     "text": [
      "CPU time: 1.10596s\n",
      "GPU time: 0.00000s\n"
     ]
    }
   ],
   "source": [
    "x = torch.randn(5000, 5000)\n",
    "\n",
    "## CPU version\n",
    "start_time = time.time()\n",
    "_ = torch.matmul(x, x)\n",
    "end_time = time.time()\n",
    "print(f\"CPU time: {(end_time - start_time):6.5f}s\")\n",
    "\n",
    "## GPU version\n",
    "x = x.to(device)\n",
    "# The first operation on a CUDA device can be slow as it has to establish a CPU-GPU communication first. \n",
    "# Hence, we run an arbitrary command first without timing it for a fair comparison.\n",
    "_ = torch.matmul(x*0.0, x)\n",
    "start_time = time.time()\n",
    "_ = torch.matmul(x, x)\n",
    "end_time = time.time()\n",
    "print(f\"GPU time: {(end_time - start_time):6.5f}s\")"
   ]
  },
  {
   "cell_type": "markdown",
   "metadata": {},
   "source": [
    "#### Ciąg komend do zapisania\n",
    "Losowość jest bardzo ważnym elementem trenowania sieci neuronowych (o czym się wkrótce przekonamy). Eksperymentując, chcielibyśmy jednak żeby przy każdym uruchomieniu programu, wynik był taki sam. Tylko w takim przypadku jesteśmy w stanie coś wnioskować. Do zapewnienia możliwości reprodukcji wyników na GPU za pomocą pytorcha służa poniższe komendy:"
   ]
  },
  {
   "cell_type": "code",
   "execution_count": null,
   "metadata": {
    "ExecuteTime": {
     "end_time": "2021-10-11T14:25:02.868485Z",
     "start_time": "2021-10-11T14:25:02.862527Z"
    }
   },
   "outputs": [],
   "source": [
    "# GPU operations have a separate seed we also want to set\n",
    "if torch.cuda.is_available(): \n",
    "    torch.cuda.manual_seed(42)\n",
    "    torch.cuda.manual_seed_all(42)\n",
    "    \n",
    "# Additionally, some operations on a GPU are implemented stochastic for efficiency\n",
    "# We want to ensure that all operations are deterministic on GPU (if used) for reproducibility\n",
    "torch.backends.cudnn.determinstic = True\n",
    "torch.backends.cudnn.benchmark = False"
   ]
  },
  {
   "cell_type": "markdown",
   "metadata": {},
   "source": [
    "## Tworzenie modeli\n",
    "Tworzymy tensory z parametrami, wagi i biasy, obliczamy gradienty, aktualizujemy parametry itd.\n",
    "lub\n",
    "wykorzystujemy torch.nn"
   ]
  },
  {
   "cell_type": "markdown",
   "metadata": {},
   "source": [
    "W torch.nn możemy znaleźć wiele przydatnych predefiniowanych klas jak wagi sieci, funkcje aktywacji, funkcje straty, optymalizacja itp. Jeszcze raz, dokumentacja jest fajna: https://pytorch.org/docs/stable/nn.html"
   ]
  },
  {
   "cell_type": "code",
   "execution_count": 43,
   "metadata": {
    "ExecuteTime": {
     "end_time": "2021-10-15T06:34:21.423948Z",
     "start_time": "2021-10-15T06:34:21.419785Z"
    }
   },
   "outputs": [],
   "source": [
    "import torch.nn as nn"
   ]
  },
  {
   "cell_type": "markdown",
   "metadata": {},
   "source": [
    "Dodatkowo, funkcje wykorzystywane w budowaniu sieci znajdują się w module torch.nn.functionl"
   ]
  },
  {
   "cell_type": "code",
   "execution_count": 44,
   "metadata": {
    "ExecuteTime": {
     "end_time": "2021-10-15T06:34:29.552399Z",
     "start_time": "2021-10-15T06:34:29.548679Z"
    }
   },
   "outputs": [],
   "source": [
    "import torch.nn.functional as F"
   ]
  },
  {
   "cell_type": "markdown",
   "metadata": {},
   "source": [
    "### nn.Module\n",
    "W PyTorchu, sieci neuronowe są zbudowane z modułów - obiektów klas dziedziczących po klasie nn.Module. Moduły mogą składać się z innych modułów, a sieć neuronowa w całości też zazwyczaj jest modułem.\n",
    "\n",
    "Podstawowy template dla modułu wygląda następująco"
   ]
  },
  {
   "cell_type": "code",
   "execution_count": null,
   "metadata": {
    "ExecuteTime": {
     "end_time": "2021-10-09T07:40:40.406203Z",
     "start_time": "2021-10-09T07:40:40.401191Z"
    }
   },
   "outputs": [],
   "source": [
    "class MyModule(nn.Module):\n",
    "    \n",
    "    def __init__(self):\n",
    "        super().__init__()\n",
    "        # Some init for my module\n",
    "        \n",
    "    def forward(self, x):\n",
    "        # Function for performing the calculation of the module.\n",
    "        pass"
   ]
  },
  {
   "cell_type": "markdown",
   "metadata": {},
   "source": [
    "W konstruktorze modułu zazwyczaj inicjowane są wszystkie parametry, lub wewnętrzne moduły (np. warstwy sieci)\n",
    "\n",
    "W funkcji forward zapisane są wszystkie obliczenia które są wykonywane kiedy wywołujemy dany moduł. Przykładowo: (nn = MyModule(); nn(x)). \n",
    "\n",
    "Kalkulacja wstecz (backwards) jest tworzona automatycznie, ale w razie potrzeby można ją też nadpisywać "
   ]
  },
  {
   "cell_type": "markdown",
   "metadata": {},
   "source": [
    "# Stwórzmy pierwsza sieć neuronową "
   ]
  },
  {
   "cell_type": "code",
   "execution_count": null,
   "metadata": {
    "ExecuteTime": {
     "end_time": "2021-10-15T06:43:32.605680Z",
     "start_time": "2021-10-15T06:43:32.597437Z"
    }
   },
   "outputs": [],
   "source": [
    "class SimpleClassifier(nn.Module):\n",
    "\n",
    "    def __init__(self, num_inputs, num_hidden, num_outputs):\n",
    "        super().__init__()\n",
    "        # Initialize the modules we need to build the network\n",
    "        self.linear1 = nn.Linear(num_inputs, num_hidden)\n",
    "        self.act_fn = nn.Tanh()\n",
    "        self.linear2 = nn.Linear(num_hidden, num_outputs)\n",
    "#         self.linear3 = nn.Linear(num_hidden, num_outputs)\n",
    "\n",
    "    def forward(self, x):\n",
    "        # Perform the calculation of the model to determine the prediction\n",
    "        x = self.linear1(x)\n",
    "        x = self.act_fn(x)\n",
    "        x = self.linear2(x)\n",
    "#         x = self.act_fn(x)\n",
    "#         x = self.linear3(x)\n",
    "        return x"
   ]
  },
  {
   "cell_type": "markdown",
   "metadata": {},
   "source": [
    "Wypisywanie zawartości modelu"
   ]
  },
  {
   "cell_type": "code",
   "execution_count": null,
   "metadata": {
    "ExecuteTime": {
     "end_time": "2021-10-15T06:43:36.560612Z",
     "start_time": "2021-10-15T06:43:36.554872Z"
    }
   },
   "outputs": [
    {
     "name": "stdout",
     "output_type": "stream",
     "text": [
      "SimpleClassifier(\n",
      "  (linear1): Linear(in_features=2, out_features=4, bias=True)\n",
      "  (act_fn): Tanh()\n",
      "  (linear2): Linear(in_features=4, out_features=1, bias=True)\n",
      ")\n"
     ]
    }
   ],
   "source": [
    "model = SimpleClassifier(num_inputs=2, num_hidden=4, num_outputs=1)\n",
    "model.cuda()\n",
    "# Printing a module shows all its submodules\n",
    "print(model)"
   ]
  },
  {
   "cell_type": "code",
   "execution_count": null,
   "metadata": {},
   "outputs": [],
   "source": [
    "x = torch.Tensor(2).cuda()"
   ]
  },
  {
   "cell_type": "code",
   "execution_count": null,
   "metadata": {},
   "outputs": [
    {
     "data": {
      "text/plain": [
       "tensor([0.6421], device='cuda:0', grad_fn=<ViewBackward0>)"
      ]
     },
     "execution_count": 83,
     "metadata": {},
     "output_type": "execute_result"
    }
   ],
   "source": [
    "model.forward(x)\n",
    "model(x)"
   ]
  },
  {
   "cell_type": "markdown",
   "metadata": {},
   "source": [
    "Co tak właściwie mamy w środku?"
   ]
  },
  {
   "cell_type": "code",
   "execution_count": null,
   "metadata": {
    "ExecuteTime": {
     "end_time": "2021-10-15T06:43:59.318323Z",
     "start_time": "2021-10-15T06:43:59.312691Z"
    }
   },
   "outputs": [
    {
     "name": "stdout",
     "output_type": "stream",
     "text": [
      "Parameter linear1.weight, shape torch.Size([4, 2])\n",
      "Parameter linear1.bias, shape torch.Size([4])\n",
      "Parameter linear2.weight, shape torch.Size([1, 4])\n",
      "Parameter linear2.bias, shape torch.Size([1])\n"
     ]
    }
   ],
   "source": [
    "for name, param in model.named_parameters():\n",
    "    print(f\"Parameter {name}, shape {param.shape}\")"
   ]
  },
  {
   "cell_type": "markdown",
   "metadata": {},
   "source": [
    "## Activation functions"
   ]
  },
  {
   "cell_type": "code",
   "execution_count": null,
   "metadata": {
    "ExecuteTime": {
     "end_time": "2021-10-15T06:46:24.004399Z",
     "start_time": "2021-10-15T06:46:23.999714Z"
    }
   },
   "outputs": [],
   "source": [
    "act_fn_by_name = {\n",
    "    \"sigmoid\": torch.sigmoid,\n",
    "    \"tanh\": torch.tanh,\n",
    "    \"relu\": F.relu,\n",
    "    \"leakyrelu\": F.leaky_relu\n",
    "}"
   ]
  },
  {
   "cell_type": "code",
   "execution_count": null,
   "metadata": {
    "ExecuteTime": {
     "end_time": "2021-10-15T06:46:32.611689Z",
     "start_time": "2021-10-15T06:46:32.606580Z"
    }
   },
   "outputs": [],
   "source": [
    "def get_grads(act_fn, x):\n",
    "    x = x.clone().requires_grad_() # Mark the input as tensor for which we want to store gradients\n",
    "    out = act_fn(x)\n",
    "    out.sum().backward() # Summing results in an equal gradient flow to each element in x\n",
    "    return x.grad # Accessing the gradients of x by \"x.grad\""
   ]
  },
  {
   "cell_type": "code",
   "execution_count": null,
   "metadata": {
    "ExecuteTime": {
     "end_time": "2021-10-15T06:46:34.798998Z",
     "start_time": "2021-10-15T06:46:34.324320Z"
    }
   },
   "outputs": [
    {
     "data": {
      "image/png": "[encoded data removed]",
      "text/plain": [
       "<Figure size 800x800 with 4 Axes>"
      ]
     },
     "metadata": {},
     "output_type": "display_data"
    }
   ],
   "source": [
    "%matplotlib inline\n",
    "def vis_act_fn(act_fn, name, ax, x):\n",
    "    # Run activation function\n",
    "    y = act_fn(x)\n",
    "    y_grads = get_grads(act_fn, x)\n",
    "    # Push x, y and gradients back to cpu for plotting\n",
    "    x, y, y_grads = x.cpu().numpy(), y.cpu().numpy(), y_grads.cpu().numpy()\n",
    "    ## Plotting\n",
    "    ax.plot(x, y, linewidth=2, label=\"ActFn\")\n",
    "    ax.plot(x, y_grads, linewidth=2, label=\"Gradient\")\n",
    "    ax.set_title(name)\n",
    "    ax.legend()\n",
    "    ax.set_ylim(-1.5, x.max())\n",
    "\n",
    "x = torch.linspace(-5, 5, 1000) # Range on which we want to visualize the activation functions\n",
    "## Plotting\n",
    "rows = math.ceil(len(act_fn_by_name)/2.0)\n",
    "fig, ax = plt.subplots(rows, 2, figsize=(8, rows*4))\n",
    "for i, name in enumerate(act_fn_by_name.keys()):\n",
    "    vis_act_fn(act_fn_by_name[name], name, ax[divmod(i,2)], x)\n",
    "fig.subplots_adjust(hspace=0.3)\n",
    "plt.show()\n",
    "plt.close()"
   ]
  },
  {
   "cell_type": "markdown",
   "metadata": {},
   "source": [
    "# Dane\n",
    "PyTorch posiada zaimplementowanych kilka funkcjonalności które pozwalają wczytywać i manipulować danymi. Znajdują się one w pakiecie torch.utils.data"
   ]
  },
  {
   "cell_type": "code",
   "execution_count": null,
   "metadata": {
    "ExecuteTime": {
     "end_time": "2021-10-15T06:56:27.893031Z",
     "start_time": "2021-10-15T06:56:27.888726Z"
    }
   },
   "outputs": [],
   "source": [
    "import torch.utils.data as data"
   ]
  },
  {
   "cell_type": "markdown",
   "metadata": {},
   "source": [
    "Główną strukturą w ramach której przechowywane (lub niekoniecznie) są dane jest klasa Dataset. Stwórzmy sobie przykładowy zbiór danych - tzw. ciągły XOR. Przykład zaczerpnięty z https://uvadlc-notebooks.readthedocs.io/en/latest/tutorial_notebooks/tutorial2/Introduction_to_PyTorch.html#Learning-by-example:-Continuous-XOR"
   ]
  },
  {
   "cell_type": "code",
   "execution_count": null,
   "metadata": {
    "ExecuteTime": {
     "end_time": "2021-10-15T06:58:31.045759Z",
     "start_time": "2021-10-15T06:58:31.033124Z"
    }
   },
   "outputs": [],
   "source": [
    "class XORDataset(data.Dataset):\n",
    "\n",
    "    def __init__(self, size, std=0.1):\n",
    "        \"\"\"\n",
    "        Inputs:\n",
    "            size - Number of data points we want to generate\n",
    "            std - Standard deviation of the noise (see generate_continuous_xor function)\n",
    "        \"\"\"\n",
    "        super().__init__()\n",
    "        self.size = size\n",
    "        self.std = std\n",
    "        self.generate_continuous_xor()\n",
    "\n",
    "    def generate_continuous_xor(self):\n",
    "        # Each data point in the XOR dataset has two variables, x and y, that can be either 0 or 1\n",
    "        # The label is their XOR combination, i.e. 1 if only x or only y is 1 while the other is 0.\n",
    "        # If x=y, the label is 0.\n",
    "        data = torch.randint(low=0, high=2, size=(self.size, 2), dtype=torch.float32)\n",
    "        label = (data.sum(dim=1) == 1).to(torch.long)\n",
    "        # To make it slightly more challenging, we add a bit of gaussian noise to the data points.\n",
    "        data += self.std * torch.randn(data.shape)\n",
    "\n",
    "        self.data = data\n",
    "        self.label = label\n",
    "\n",
    "    def __len__(self):\n",
    "        # Number of data point we have. Alternatively self.data.shape[0], or self.label.shape[0]\n",
    "        return self.size\n",
    "\n",
    "    def __getitem__(self, idx):\n",
    "        # Return the idx-th data point of the dataset\n",
    "        # If we have multiple things to return (data point and label), we can return them as tuple\n",
    "        data_point = self.data[idx]\n",
    "        data_label = self.label[idx]\n",
    "        return data_point, data_label"
   ]
  },
  {
   "cell_type": "code",
   "execution_count": null,
   "metadata": {
    "ExecuteTime": {
     "end_time": "2021-10-15T06:58:37.098767Z",
     "start_time": "2021-10-15T06:58:37.091627Z"
    },
    "scrolled": true
   },
   "outputs": [
    {
     "name": "stdout",
     "output_type": "stream",
     "text": [
      "Size of dataset: 200\n",
      "Data point 0: (tensor([-0.0698, -0.0812]), tensor(0))\n"
     ]
    }
   ],
   "source": [
    "dataset = XORDataset(size=200)\n",
    "print(\"Size of dataset:\", len(dataset))\n",
    "print(\"Data point 0:\", dataset[0])"
   ]
  },
  {
   "cell_type": "code",
   "execution_count": null,
   "metadata": {
    "ExecuteTime": {
     "end_time": "2021-10-15T06:58:41.854203Z",
     "start_time": "2021-10-15T06:58:41.734789Z"
    }
   },
   "outputs": [
    {
     "data": {
      "image/png": "[encoded data removed]",
      "text/plain": [
       "<Figure size 400x400 with 1 Axes>"
      ]
     },
     "metadata": {},
     "output_type": "display_data"
    }
   ],
   "source": [
    "examples = dataset.data\n",
    "labels = dataset.label\n",
    "data_0 = examples[labels == 0]\n",
    "data_1 = examples[labels == 1]\n",
    "\n",
    "plt.figure(figsize=(4,4))\n",
    "plt.scatter(data_0[:,0], data_0[:,1], edgecolor=\"#333\", label=\"Class 0\")\n",
    "plt.scatter(data_1[:,0], data_1[:,1], edgecolor=\"#333\", label=\"Class 1\")\n",
    "plt.title(\"Dataset samples\")\n",
    "plt.legend()\n",
    "plt.show()"
   ]
  },
  {
   "cell_type": "markdown",
   "metadata": {},
   "source": [
    "## Data loaders (Ładowacze danych?!)"
   ]
  },
  {
   "cell_type": "code",
   "execution_count": null,
   "metadata": {
    "ExecuteTime": {
     "end_time": "2021-10-15T07:02:17.519527Z",
     "start_time": "2021-10-15T07:02:17.514783Z"
    }
   },
   "outputs": [],
   "source": [
    "data_loader = data.DataLoader(dataset, batch_size=8, shuffle=True) # shuffle to not train on sorted data"
   ]
  },
  {
   "cell_type": "code",
   "execution_count": null,
   "metadata": {
    "ExecuteTime": {
     "end_time": "2021-10-15T07:02:33.724184Z",
     "start_time": "2021-10-15T07:02:33.715355Z"
    }
   },
   "outputs": [
    {
     "data": {
      "text/plain": [
       "[tensor([[ 1.0159,  0.0686],\n",
       "         [-0.0486, -0.2412],\n",
       "         [-0.1494, -0.0349],\n",
       "         [ 0.0511,  1.0311],\n",
       "         [ 1.0683, -0.0265],\n",
       "         [ 0.1555,  1.1302],\n",
       "         [-0.1389, -0.1133],\n",
       "         [ 0.9885,  0.8731]]),\n",
       " tensor([1, 0, 0, 1, 1, 1, 0, 0])]"
      ]
     },
     "execution_count": 114,
     "metadata": {},
     "output_type": "execute_result"
    }
   ],
   "source": [
    "next(iter(data_loader))"
   ]
  },
  {
   "cell_type": "code",
   "execution_count": null,
   "metadata": {
    "ExecuteTime": {
     "end_time": "2021-10-15T07:03:36.174474Z",
     "start_time": "2021-10-15T07:03:36.169066Z"
    }
   },
   "outputs": [
    {
     "data": {
      "text/plain": [
       "25"
      ]
     },
     "execution_count": 104,
     "metadata": {},
     "output_type": "execute_result"
    }
   ],
   "source": [
    "len(data_loader)"
   ]
  },
  {
   "cell_type": "code",
   "execution_count": null,
   "metadata": {
    "ExecuteTime": {
     "end_time": "2021-10-15T07:04:04.285129Z",
     "start_time": "2021-10-15T07:04:04.277946Z"
    }
   },
   "outputs": [
    {
     "data": {
      "text/plain": [
       "200"
      ]
     },
     "execution_count": 105,
     "metadata": {},
     "output_type": "execute_result"
    }
   ],
   "source": [
    "next(iter(data_loader))[0].shape[0]*len(data_loader)"
   ]
  },
  {
   "cell_type": "code",
   "execution_count": null,
   "metadata": {
    "ExecuteTime": {
     "end_time": "2021-10-15T07:04:34.190206Z",
     "start_time": "2021-10-15T07:04:34.182718Z"
    }
   },
   "outputs": [
    {
     "data": {
      "text/plain": [
       "203"
      ]
     },
     "execution_count": 116,
     "metadata": {},
     "output_type": "execute_result"
    }
   ],
   "source": [
    "data_loader_2 = data.DataLoader(dataset, batch_size=7, shuffle=True) # change the last batch size because 200 is not divisible by 7\n",
    "next(iter(data_loader_2))[0].shape[0]*len(data_loader_2)"
   ]
  },
  {
   "cell_type": "code",
   "execution_count": null,
   "metadata": {
    "ExecuteTime": {
     "end_time": "2021-10-15T07:04:55.373439Z",
     "start_time": "2021-10-15T07:04:55.362483Z"
    }
   },
   "outputs": [
    {
     "data": {
      "text/plain": [
       "[tensor([[-0.0658,  0.9236],\n",
       "         [ 0.0612, -0.4176],\n",
       "         [ 0.8763,  0.9639],\n",
       "         [ 0.9885,  0.8731]]),\n",
       " tensor([1, 0, 0, 0])]"
      ]
     },
     "execution_count": 117,
     "metadata": {},
     "output_type": "execute_result"
    }
   ],
   "source": [
    "list(iter(data_loader_2))[-1]"
   ]
  },
  {
   "cell_type": "markdown",
   "metadata": {},
   "source": [
    "#### Drop last\n",
    "Parametr powodujący pominięcie ostatniego wsadu (batch)"
   ]
  },
  {
   "cell_type": "code",
   "execution_count": null,
   "metadata": {
    "ExecuteTime": {
     "end_time": "2021-10-15T07:05:25.707981Z",
     "start_time": "2021-10-15T07:05:25.700236Z"
    },
    "scrolled": true
   },
   "outputs": [
    {
     "data": {
      "text/plain": [
       "196"
      ]
     },
     "execution_count": 119,
     "metadata": {},
     "output_type": "execute_result"
    }
   ],
   "source": [
    "data_loader_2 = data.DataLoader(dataset,batch_size=7, shuffle=True, drop_last=True) # drop the last batch if it is not full\n",
    "next(iter(data_loader_2))[0].shape[0]*len(data_loader_2)"
   ]
  },
  {
   "cell_type": "markdown",
   "metadata": {},
   "source": [
    "## Funkcje straty\n",
    "Na poprzednich zajęciach obliczaliśmy funkcję straty ręcznie wykonując operacje na tensorach. Jest to w pełni poprawne rozwiązanie, ale możemy też nie wymyślać koła na nowo, ale wykorzystać wbudowane moduły. Pełna lista dostępna tutaj: https://pytorch.org/docs/stable/nn.html#loss-functions"
   ]
  },
  {
   "cell_type": "code",
   "execution_count": null,
   "metadata": {
    "ExecuteTime": {
     "end_time": "2021-10-15T07:23:49.066606Z",
     "start_time": "2021-10-15T07:23:49.057207Z"
    }
   },
   "outputs": [],
   "source": [
    "from mpl_toolkits.mplot3d import Axes3D\n",
    "import matplotlib.pyplot as plt\n",
    "%matplotlib inline"
   ]
  },
  {
   "cell_type": "code",
   "execution_count": null,
   "metadata": {
    "ExecuteTime": {
     "end_time": "2021-10-15T07:24:03.454133Z",
     "start_time": "2021-10-15T07:24:03.447263Z"
    }
   },
   "outputs": [
    {
     "name": "stdout",
     "output_type": "stream",
     "text": [
      "tensor([0, 1, 2, 3, 4]) tensor([1., 1., 1., 1., 1.])\n"
     ]
    }
   ],
   "source": [
    "tensor_1 = torch.arange(5)\n",
    "tensor_2 = torch.ones(5)\n",
    "print(tensor_1, tensor_2)"
   ]
  },
  {
   "cell_type": "markdown",
   "metadata": {},
   "source": [
    "### Błąd średniokwadratowy (Mean Squared Error) lub L2Loss"
   ]
  },
  {
   "cell_type": "code",
   "execution_count": null,
   "metadata": {
    "ExecuteTime": {
     "end_time": "2021-10-15T07:24:22.469112Z",
     "start_time": "2021-10-15T07:24:22.462160Z"
    }
   },
   "outputs": [
    {
     "data": {
      "text/plain": [
       "tensor(3.)"
      ]
     },
     "execution_count": 122,
     "metadata": {},
     "output_type": "execute_result"
    }
   ],
   "source": [
    "loss = nn.MSELoss()\n",
    "loss(tensor_1,tensor_2)"
   ]
  },
  {
   "cell_type": "markdown",
   "metadata": {},
   "source": [
    "$ \\quad l_{n}=\\left(x_{n}-y_{n}\\right)^{2}$"
   ]
  },
  {
   "cell_type": "code",
   "execution_count": null,
   "metadata": {
    "ExecuteTime": {
     "end_time": "2021-10-15T07:27:22.476676Z",
     "start_time": "2021-10-15T07:27:22.467395Z"
    }
   },
   "outputs": [
    {
     "name": "stdout",
     "output_type": "stream",
     "text": [
      "No reduction: tensor([1., 0., 1., 4., 9.])\n",
      "Mean: 3.0\n",
      "Sum: 15.0\n"
     ]
    }
   ],
   "source": [
    "loss = nn.MSELoss(reduction=\"none\")\n",
    "print(f\"No reduction: {loss(tensor_1,tensor_2)}\")\n",
    "loss = nn.MSELoss(reduction=\"mean\")\n",
    "print(f\"Mean: {loss(tensor_1,tensor_2)}\")\n",
    "loss = nn.MSELoss(reduction=\"sum\")\n",
    "print(f\"Sum: {loss(tensor_1,tensor_2)}\")"
   ]
  },
  {
   "cell_type": "code",
   "execution_count": null,
   "metadata": {
    "ExecuteTime": {
     "end_time": "2021-10-15T07:28:00.314781Z",
     "start_time": "2021-10-15T07:28:00.307796Z"
    },
    "scrolled": true
   },
   "outputs": [
    {
     "data": {
      "text/plain": [
       "tensor(3.)"
      ]
     },
     "execution_count": 124,
     "metadata": {},
     "output_type": "execute_result"
    }
   ],
   "source": [
    "F.mse_loss(tensor_1, tensor_2)"
   ]
  },
  {
   "cell_type": "code",
   "execution_count": null,
   "metadata": {
    "ExecuteTime": {
     "end_time": "2021-10-15T07:28:06.205007Z",
     "start_time": "2021-10-15T07:28:06.052756Z"
    }
   },
   "outputs": [
    {
     "data": {
      "image/png": "[encoded data removed]",
      "text/plain": [
       "<Figure size 640x480 with 1 Axes>"
      ]
     },
     "metadata": {},
     "output_type": "display_data"
    }
   ],
   "source": [
    "loss = nn.MSELoss(reduction=\"none\")\n",
    "x, y = torch.meshgrid(torch.linspace(0,10,100),torch.linspace(0,10,100), indexing='ij')\n",
    "z = loss(x,y)\n",
    "\n",
    "fig = plt.figure()\n",
    "ax = fig.add_subplot(projection = '3d')\n",
    "\n",
    "ax.plot_trisurf(x.numpy().flatten(), y.numpy().flatten(), z.numpy().flatten(), linewidth=0.2, antialiased=True)\n",
    "\n",
    "plt.show()"
   ]
  },
  {
   "cell_type": "markdown",
   "metadata": {},
   "source": [
    "### Błąd bezwzględny (Mean absolute Error) lub L1Loss"
   ]
  },
  {
   "cell_type": "markdown",
   "metadata": {
    "ExecuteTime": {
     "end_time": "2021-10-08T20:04:21.482653Z",
     "start_time": "2021-10-08T20:04:21.475776Z"
    }
   },
   "source": [
    "$ \\quad l_{n}=\\left|x_{n}-y_{n}\\right|$"
   ]
  },
  {
   "cell_type": "code",
   "execution_count": null,
   "metadata": {
    "ExecuteTime": {
     "end_time": "2021-10-15T07:30:20.809441Z",
     "start_time": "2021-10-15T07:30:20.798876Z"
    }
   },
   "outputs": [
    {
     "name": "stdout",
     "output_type": "stream",
     "text": [
      "tensor([0, 1, 2, 3, 4]) tensor([1., 1., 1., 1., 1.])\n"
     ]
    },
    {
     "data": {
      "text/plain": [
       "tensor(1.4000)"
      ]
     },
     "execution_count": 126,
     "metadata": {},
     "output_type": "execute_result"
    }
   ],
   "source": [
    "print(tensor_1, tensor_2)\n",
    "loss = nn.L1Loss()\n",
    "loss(tensor_1,tensor_2)"
   ]
  },
  {
   "cell_type": "code",
   "execution_count": null,
   "metadata": {
    "ExecuteTime": {
     "end_time": "2021-10-15T07:30:24.982771Z",
     "start_time": "2021-10-15T07:30:24.974301Z"
    }
   },
   "outputs": [
    {
     "name": "stdout",
     "output_type": "stream",
     "text": [
      "No reduction: tensor([1., 0., 1., 2., 3.])\n",
      "Mean: 1.399999976158142\n",
      "Sum: 7.0\n"
     ]
    }
   ],
   "source": [
    "loss = nn.L1Loss(reduction=\"none\")\n",
    "print(f\"No reduction: {loss(tensor_1,tensor_2)}\")\n",
    "loss = nn.L1Loss(reduction=\"mean\")\n",
    "print(f\"Mean: {loss(tensor_1,tensor_2)}\")\n",
    "loss = nn.L1Loss(reduction=\"sum\")\n",
    "print(f\"Sum: {loss(tensor_1,tensor_2)}\")"
   ]
  },
  {
   "cell_type": "code",
   "execution_count": null,
   "metadata": {
    "ExecuteTime": {
     "end_time": "2021-10-15T07:30:26.863924Z",
     "start_time": "2021-10-15T07:30:26.707699Z"
    }
   },
   "outputs": [
    {
     "data": {
      "image/png": "[encoded data removed]",
      "text/plain": [
       "<Figure size 640x480 with 1 Axes>"
      ]
     },
     "metadata": {},
     "output_type": "display_data"
    }
   ],
   "source": [
    "loss = nn.L1Loss(reduction=\"none\")\n",
    "x, y = torch.meshgrid(torch.linspace(0,10,100),torch.linspace(0,10,100), indexing='ij')\n",
    "z = loss(x,y)\n",
    "\n",
    "fig = plt.figure()\n",
    "ax = fig.add_subplot(projection = '3d')\n",
    "\n",
    "ax.plot_trisurf(x.numpy().flatten(), y.numpy().flatten(), z.numpy().flatten(), linewidth=0.2, antialiased=True)\n",
    "    \n",
    "plt.show()"
   ]
  },
  {
   "cell_type": "markdown",
   "metadata": {},
   "source": [
    "### Entropia krzyżowa:\n",
    "$l_{n}=\\left[y_{n} \\cdot \\log x_{n}+\\left(1-y_{n}\\right) \\cdot \\log \\left(1-x_{n}\\right)\\right]$"
   ]
  },
  {
   "cell_type": "code",
   "execution_count": null,
   "metadata": {
    "ExecuteTime": {
     "end_time": "2021-10-15T07:34:59.743694Z",
     "start_time": "2021-10-15T07:34:59.730893Z"
    }
   },
   "outputs": [
    {
     "name": "stdout",
     "output_type": "stream",
     "text": [
      "tensor([0.1386, 0.0899, 0.2103, 0.7693, 0.7907]) tensor([1., 1., 1., 1., 1.])\n"
     ]
    },
    {
     "data": {
      "text/plain": [
       "tensor([1.9760, 2.4089, 1.5594, 0.2623, 0.2349])"
      ]
     },
     "execution_count": 135,
     "metadata": {},
     "output_type": "execute_result"
    }
   ],
   "source": [
    "tensor_1 = torch.rand(5)\n",
    "tensor_2 = torch.ones(5)\n",
    "print(tensor_1, tensor_2)\n",
    "loss = nn.BCELoss(reduction=\"none\") # Does not implement the sigmoid function for us\n",
    "loss(tensor_1,tensor_2)"
   ]
  },
  {
   "cell_type": "code",
   "execution_count": null,
   "metadata": {
    "ExecuteTime": {
     "end_time": "2021-10-15T07:35:03.280234Z",
     "start_time": "2021-10-15T07:35:03.210393Z"
    }
   },
   "outputs": [
    {
     "ename": "RuntimeError",
     "evalue": "all elements of input should be between 0 and 1",
     "output_type": "error",
     "traceback": [
      "\u001b[1;31m---------------------------------------------------------------------------\u001b[0m",
      "\u001b[1;31mRuntimeError\u001b[0m                              Traceback (most recent call last)",
      "Cell \u001b[1;32mIn[132], line 1\u001b[0m\n\u001b[1;32m----> 1\u001b[0m \u001b[43mloss\u001b[49m\u001b[43m(\u001b[49m\u001b[43mtensor_1\u001b[49m\u001b[38;5;241;43m*\u001b[39;49m\u001b[38;5;241;43m10\u001b[39;49m\u001b[43m,\u001b[49m\u001b[43mtensor_2\u001b[49m\u001b[43m)\u001b[49m\n",
      "File \u001b[1;32m~\\AppData\\Local\\Packages\\PythonSoftwareFoundation.Python.3.11_qbz5n2kfra8p0\\LocalCache\\local-packages\\Python311\\site-packages\\torch\\nn\\modules\\module.py:1739\u001b[0m, in \u001b[0;36mModule._wrapped_call_impl\u001b[1;34m(self, *args, **kwargs)\u001b[0m\n\u001b[0;32m   1737\u001b[0m     \u001b[38;5;28;01mreturn\u001b[39;00m \u001b[38;5;28mself\u001b[39m\u001b[38;5;241m.\u001b[39m_compiled_call_impl(\u001b[38;5;241m*\u001b[39margs, \u001b[38;5;241m*\u001b[39m\u001b[38;5;241m*\u001b[39mkwargs)  \u001b[38;5;66;03m# type: ignore[misc]\u001b[39;00m\n\u001b[0;32m   1738\u001b[0m \u001b[38;5;28;01melse\u001b[39;00m:\n\u001b[1;32m-> 1739\u001b[0m     \u001b[38;5;28;01mreturn\u001b[39;00m \u001b[38;5;28;43mself\u001b[39;49m\u001b[38;5;241;43m.\u001b[39;49m\u001b[43m_call_impl\u001b[49m\u001b[43m(\u001b[49m\u001b[38;5;241;43m*\u001b[39;49m\u001b[43margs\u001b[49m\u001b[43m,\u001b[49m\u001b[43m \u001b[49m\u001b[38;5;241;43m*\u001b[39;49m\u001b[38;5;241;43m*\u001b[39;49m\u001b[43mkwargs\u001b[49m\u001b[43m)\u001b[49m\n",
      "File \u001b[1;32m~\\AppData\\Local\\Packages\\PythonSoftwareFoundation.Python.3.11_qbz5n2kfra8p0\\LocalCache\\local-packages\\Python311\\site-packages\\torch\\nn\\modules\\module.py:1750\u001b[0m, in \u001b[0;36mModule._call_impl\u001b[1;34m(self, *args, **kwargs)\u001b[0m\n\u001b[0;32m   1745\u001b[0m \u001b[38;5;66;03m# If we don't have any hooks, we want to skip the rest of the logic in\u001b[39;00m\n\u001b[0;32m   1746\u001b[0m \u001b[38;5;66;03m# this function, and just call forward.\u001b[39;00m\n\u001b[0;32m   1747\u001b[0m \u001b[38;5;28;01mif\u001b[39;00m \u001b[38;5;129;01mnot\u001b[39;00m (\u001b[38;5;28mself\u001b[39m\u001b[38;5;241m.\u001b[39m_backward_hooks \u001b[38;5;129;01mor\u001b[39;00m \u001b[38;5;28mself\u001b[39m\u001b[38;5;241m.\u001b[39m_backward_pre_hooks \u001b[38;5;129;01mor\u001b[39;00m \u001b[38;5;28mself\u001b[39m\u001b[38;5;241m.\u001b[39m_forward_hooks \u001b[38;5;129;01mor\u001b[39;00m \u001b[38;5;28mself\u001b[39m\u001b[38;5;241m.\u001b[39m_forward_pre_hooks\n\u001b[0;32m   1748\u001b[0m         \u001b[38;5;129;01mor\u001b[39;00m _global_backward_pre_hooks \u001b[38;5;129;01mor\u001b[39;00m _global_backward_hooks\n\u001b[0;32m   1749\u001b[0m         \u001b[38;5;129;01mor\u001b[39;00m _global_forward_hooks \u001b[38;5;129;01mor\u001b[39;00m _global_forward_pre_hooks):\n\u001b[1;32m-> 1750\u001b[0m     \u001b[38;5;28;01mreturn\u001b[39;00m \u001b[43mforward_call\u001b[49m\u001b[43m(\u001b[49m\u001b[38;5;241;43m*\u001b[39;49m\u001b[43margs\u001b[49m\u001b[43m,\u001b[49m\u001b[43m \u001b[49m\u001b[38;5;241;43m*\u001b[39;49m\u001b[38;5;241;43m*\u001b[39;49m\u001b[43mkwargs\u001b[49m\u001b[43m)\u001b[49m\n\u001b[0;32m   1752\u001b[0m result \u001b[38;5;241m=\u001b[39m \u001b[38;5;28;01mNone\u001b[39;00m\n\u001b[0;32m   1753\u001b[0m called_always_called_hooks \u001b[38;5;241m=\u001b[39m \u001b[38;5;28mset\u001b[39m()\n",
      "File \u001b[1;32m~\\AppData\\Local\\Packages\\PythonSoftwareFoundation.Python.3.11_qbz5n2kfra8p0\\LocalCache\\local-packages\\Python311\\site-packages\\torch\\nn\\modules\\loss.py:699\u001b[0m, in \u001b[0;36mBCELoss.forward\u001b[1;34m(self, input, target)\u001b[0m\n\u001b[0;32m    698\u001b[0m \u001b[38;5;28;01mdef\u001b[39;00m\u001b[38;5;250m \u001b[39m\u001b[38;5;21mforward\u001b[39m(\u001b[38;5;28mself\u001b[39m, \u001b[38;5;28minput\u001b[39m: Tensor, target: Tensor) \u001b[38;5;241m-\u001b[39m\u001b[38;5;241m>\u001b[39m Tensor:\n\u001b[1;32m--> 699\u001b[0m     \u001b[38;5;28;01mreturn\u001b[39;00m \u001b[43mF\u001b[49m\u001b[38;5;241;43m.\u001b[39;49m\u001b[43mbinary_cross_entropy\u001b[49m\u001b[43m(\u001b[49m\n\u001b[0;32m    700\u001b[0m \u001b[43m        \u001b[49m\u001b[38;5;28;43minput\u001b[39;49m\u001b[43m,\u001b[49m\u001b[43m \u001b[49m\u001b[43mtarget\u001b[49m\u001b[43m,\u001b[49m\u001b[43m \u001b[49m\u001b[43mweight\u001b[49m\u001b[38;5;241;43m=\u001b[39;49m\u001b[38;5;28;43mself\u001b[39;49m\u001b[38;5;241;43m.\u001b[39;49m\u001b[43mweight\u001b[49m\u001b[43m,\u001b[49m\u001b[43m \u001b[49m\u001b[43mreduction\u001b[49m\u001b[38;5;241;43m=\u001b[39;49m\u001b[38;5;28;43mself\u001b[39;49m\u001b[38;5;241;43m.\u001b[39;49m\u001b[43mreduction\u001b[49m\n\u001b[0;32m    701\u001b[0m \u001b[43m    \u001b[49m\u001b[43m)\u001b[49m\n",
      "File \u001b[1;32m~\\AppData\\Local\\Packages\\PythonSoftwareFoundation.Python.3.11_qbz5n2kfra8p0\\LocalCache\\local-packages\\Python311\\site-packages\\torch\\nn\\functional.py:3569\u001b[0m, in \u001b[0;36mbinary_cross_entropy\u001b[1;34m(input, target, weight, size_average, reduce, reduction)\u001b[0m\n\u001b[0;32m   3566\u001b[0m     new_size \u001b[38;5;241m=\u001b[39m _infer_size(target\u001b[38;5;241m.\u001b[39msize(), weight\u001b[38;5;241m.\u001b[39msize())\n\u001b[0;32m   3567\u001b[0m     weight \u001b[38;5;241m=\u001b[39m weight\u001b[38;5;241m.\u001b[39mexpand(new_size)\n\u001b[1;32m-> 3569\u001b[0m \u001b[38;5;28;01mreturn\u001b[39;00m \u001b[43mtorch\u001b[49m\u001b[38;5;241;43m.\u001b[39;49m\u001b[43m_C\u001b[49m\u001b[38;5;241;43m.\u001b[39;49m\u001b[43m_nn\u001b[49m\u001b[38;5;241;43m.\u001b[39;49m\u001b[43mbinary_cross_entropy\u001b[49m\u001b[43m(\u001b[49m\u001b[38;5;28;43minput\u001b[39;49m\u001b[43m,\u001b[49m\u001b[43m \u001b[49m\u001b[43mtarget\u001b[49m\u001b[43m,\u001b[49m\u001b[43m \u001b[49m\u001b[43mweight\u001b[49m\u001b[43m,\u001b[49m\u001b[43m \u001b[49m\u001b[43mreduction_enum\u001b[49m\u001b[43m)\u001b[49m\n",
      "\u001b[1;31mRuntimeError\u001b[0m: all elements of input should be between 0 and 1"
     ]
    }
   ],
   "source": [
    "loss(tensor_1*10,tensor_2)"
   ]
  },
  {
   "cell_type": "code",
   "execution_count": null,
   "metadata": {
    "ExecuteTime": {
     "end_time": "2021-10-15T07:40:54.408039Z",
     "start_time": "2021-10-15T07:40:54.401288Z"
    }
   },
   "outputs": [
    {
     "data": {
      "text/plain": [
       "tensor([1.8084e-38, 3.1563e-21, 3.4752e-43, 7.6311e-18, 9.7951e-05])"
      ]
     },
     "execution_count": 133,
     "metadata": {},
     "output_type": "execute_result"
    }
   ],
   "source": [
    "loss = nn.BCEWithLogitsLoss(reduction=\"none\") # Implements the sigmoid function for us\n",
    "loss(tensor_1*100,tensor_2)"
   ]
  },
  {
   "cell_type": "code",
   "execution_count": null,
   "metadata": {
    "ExecuteTime": {
     "end_time": "2021-10-15T07:41:06.608957Z",
     "start_time": "2021-10-15T07:41:06.400148Z"
    }
   },
   "outputs": [
    {
     "name": "stderr",
     "output_type": "stream",
     "text": [
      "C:\\Users\\Piotr\\AppData\\Local\\Packages\\PythonSoftwareFoundation.Python.3.11_qbz5n2kfra8p0\\LocalCache\\local-packages\\Python311\\site-packages\\torch\\functional.py:539: UserWarning: torch.meshgrid: in an upcoming release, it will be required to pass the indexing argument. (Triggered internally at C:\\actions-runner\\_work\\pytorch\\pytorch\\pytorch\\aten\\src\\ATen\\native\\TensorShape.cpp:3638.)\n",
      "  return _VF.meshgrid(tensors, **kwargs)  # type: ignore[attr-defined]\n"
     ]
    },
    {
     "data": {
      "image/png": "[encoded data removed]",
      "text/plain": [
       "<Figure size 640x480 with 1 Axes>"
      ]
     },
     "metadata": {},
     "output_type": "display_data"
    }
   ],
   "source": [
    "loss = nn.BCEWithLogitsLoss(reduction=\"none\")\n",
    "x, y = torch.meshgrid(torch.linspace(-10,10,100),torch.linspace(-10,10,100))\n",
    "z = loss(x,y)\n",
    "\n",
    "fig = plt.figure()\n",
    "ax = fig.add_subplot(projection = '3d')\n",
    "#ax = fig.gca(projection='3d') - for older matplotlib\n",
    "\n",
    "ax.plot_trisurf(x.numpy().flatten(), y.numpy().flatten(), z.numpy().flatten(), linewidth=0.2, antialiased=True)\n",
    "\n",
    "plt.show()"
   ]
  },
  {
   "cell_type": "markdown",
   "metadata": {},
   "source": [
    "# Optymalizacja parametrów\n",
    "W przykładowym problemie optymalizacji parametrów regresji, ręcznie aktualizowaliśmy gradienty. W torch są do tego narzędzia zwane optymalizatorami, znajdują się one w pakiecie torch.optim\n",
    "\n",
    "Najprostszym optymalizaotrem jest algorytm stochastycznego spadku gradientu (Stochastic Gradient Descent) - SGD"
   ]
  },
  {
   "cell_type": "code",
   "execution_count": null,
   "metadata": {
    "ExecuteTime": {
     "end_time": "2021-10-15T07:43:48.800381Z",
     "start_time": "2021-10-15T07:43:48.794037Z"
    }
   },
   "outputs": [
    {
     "name": "stdout",
     "output_type": "stream",
     "text": [
      "SimpleClassifier(\n",
      "  (linear1): Linear(in_features=2, out_features=4, bias=True)\n",
      "  (act_fn): Tanh()\n",
      "  (linear2): Linear(in_features=4, out_features=1, bias=True)\n",
      ")\n"
     ]
    }
   ],
   "source": [
    "model = SimpleClassifier(num_inputs=2, num_hidden=4, num_outputs=1)\n",
    "print(model)"
   ]
  },
  {
   "cell_type": "code",
   "execution_count": null,
   "metadata": {
    "ExecuteTime": {
     "end_time": "2021-10-15T07:43:49.078656Z",
     "start_time": "2021-10-15T07:43:49.076336Z"
    }
   },
   "outputs": [],
   "source": [
    "optimizer = torch.optim.SGD(model.parameters(), lr = 0.1)"
   ]
  },
  {
   "cell_type": "markdown",
   "metadata": {},
   "source": [
    "## Połączmy to wszystko razem"
   ]
  },
  {
   "cell_type": "code",
   "execution_count": null,
   "metadata": {
    "ExecuteTime": {
     "end_time": "2021-10-15T07:44:18.983845Z",
     "start_time": "2021-10-15T07:44:18.978346Z"
    }
   },
   "outputs": [
    {
     "name": "stdout",
     "output_type": "stream",
     "text": [
      "(tensor([0.1295, 0.9795]), tensor(1))\n"
     ]
    }
   ],
   "source": [
    "train_dataset = XORDataset(size=1000)\n",
    "train_data_loader = data.DataLoader(train_dataset, batch_size=128, shuffle=True)"
   ]
  },
  {
   "cell_type": "code",
   "execution_count": null,
   "metadata": {
    "ExecuteTime": {
     "end_time": "2021-10-15T07:44:36.326493Z",
     "start_time": "2021-10-15T07:44:36.306043Z"
    }
   },
   "outputs": [
    {
     "data": {
      "text/plain": [
       "SimpleClassifier(\n",
       "  (linear1): Linear(in_features=2, out_features=4, bias=True)\n",
       "  (act_fn): Tanh()\n",
       "  (linear2): Linear(in_features=4, out_features=1, bias=True)\n",
       ")"
      ]
     },
     "execution_count": 140,
     "metadata": {},
     "output_type": "execute_result"
    }
   ],
   "source": [
    "model = SimpleClassifier(num_inputs=2, num_hidden=4, num_outputs=1)\n",
    "model.to(device)"
   ]
  },
  {
   "cell_type": "code",
   "execution_count": null,
   "metadata": {
    "ExecuteTime": {
     "end_time": "2021-10-15T07:45:02.741675Z",
     "start_time": "2021-10-15T07:45:02.737243Z"
    }
   },
   "outputs": [],
   "source": [
    "optimizer = torch.optim.SGD(model.parameters(), lr = 0.1)"
   ]
  },
  {
   "cell_type": "code",
   "execution_count": null,
   "metadata": {
    "ExecuteTime": {
     "end_time": "2021-10-15T07:46:29.841453Z",
     "start_time": "2021-10-15T07:46:29.837141Z"
    }
   },
   "outputs": [],
   "source": [
    "loss_module = nn.BCEWithLogitsLoss()"
   ]
  },
  {
   "cell_type": "code",
   "execution_count": null,
   "metadata": {
    "ExecuteTime": {
     "end_time": "2021-10-15T07:50:48.258366Z",
     "start_time": "2021-10-15T07:50:46.369532Z"
    },
    "scrolled": true
   },
   "outputs": [
    {
     "name": "stdout",
     "output_type": "stream",
     "text": [
      "Epoch: 0, loss: 0.679\n",
      "Epoch: 1, loss: 0.7\n",
      "Epoch: 2, loss: 0.711\n",
      "Epoch: 3, loss: 0.688\n",
      "Epoch: 4, loss: 0.7\n",
      "Epoch: 5, loss: 0.695\n",
      "Epoch: 6, loss: 0.697\n",
      "Epoch: 7, loss: 0.693\n",
      "Epoch: 8, loss: 0.702\n",
      "Epoch: 9, loss: 0.69\n",
      "Epoch: 10, loss: 0.693\n",
      "Epoch: 11, loss: 0.695\n",
      "Epoch: 12, loss: 0.695\n",
      "Epoch: 13, loss: 0.692\n",
      "Epoch: 14, loss: 0.692\n",
      "Epoch: 15, loss: 0.693\n",
      "Epoch: 16, loss: 0.692\n",
      "Epoch: 17, loss: 0.692\n",
      "Epoch: 18, loss: 0.697\n",
      "Epoch: 19, loss: 0.695\n",
      "Epoch: 20, loss: 0.693\n",
      "Epoch: 21, loss: 0.692\n",
      "Epoch: 22, loss: 0.692\n",
      "Epoch: 23, loss: 0.694\n",
      "Epoch: 24, loss: 0.69\n",
      "Epoch: 25, loss: 0.689\n",
      "Epoch: 26, loss: 0.696\n",
      "Epoch: 27, loss: 0.691\n",
      "Epoch: 28, loss: 0.69\n",
      "Epoch: 29, loss: 0.693\n",
      "Epoch: 30, loss: 0.691\n",
      "Epoch: 31, loss: 0.694\n",
      "Epoch: 32, loss: 0.693\n",
      "Epoch: 33, loss: 0.69\n",
      "Epoch: 34, loss: 0.691\n",
      "Epoch: 35, loss: 0.69\n",
      "Epoch: 36, loss: 0.689\n",
      "Epoch: 37, loss: 0.693\n",
      "Epoch: 38, loss: 0.687\n",
      "Epoch: 39, loss: 0.689\n",
      "Epoch: 40, loss: 0.694\n",
      "Epoch: 41, loss: 0.687\n",
      "Epoch: 42, loss: 0.686\n",
      "Epoch: 43, loss: 0.683\n",
      "Epoch: 44, loss: 0.682\n",
      "Epoch: 45, loss: 0.685\n",
      "Epoch: 46, loss: 0.689\n",
      "Epoch: 47, loss: 0.682\n",
      "Epoch: 48, loss: 0.683\n",
      "Epoch: 49, loss: 0.674\n",
      "Epoch: 50, loss: 0.681\n",
      "Epoch: 51, loss: 0.68\n",
      "Epoch: 52, loss: 0.676\n",
      "Epoch: 53, loss: 0.677\n",
      "Epoch: 54, loss: 0.685\n",
      "Epoch: 55, loss: 0.678\n",
      "Epoch: 56, loss: 0.67\n",
      "Epoch: 57, loss: 0.671\n",
      "Epoch: 58, loss: 0.681\n",
      "Epoch: 59, loss: 0.674\n",
      "Epoch: 60, loss: 0.667\n",
      "Epoch: 61, loss: 0.675\n",
      "Epoch: 62, loss: 0.655\n",
      "Epoch: 63, loss: 0.656\n",
      "Epoch: 64, loss: 0.659\n",
      "Epoch: 65, loss: 0.656\n",
      "Epoch: 66, loss: 0.651\n",
      "Epoch: 67, loss: 0.654\n",
      "Epoch: 68, loss: 0.645\n",
      "Epoch: 69, loss: 0.629\n",
      "Epoch: 70, loss: 0.645\n",
      "Epoch: 71, loss: 0.621\n",
      "Epoch: 72, loss: 0.65\n",
      "Epoch: 73, loss: 0.612\n",
      "Epoch: 74, loss: 0.627\n",
      "Epoch: 75, loss: 0.611\n",
      "Epoch: 76, loss: 0.596\n",
      "Epoch: 77, loss: 0.609\n",
      "Epoch: 78, loss: 0.602\n",
      "Epoch: 79, loss: 0.592\n",
      "Epoch: 80, loss: 0.594\n",
      "Epoch: 81, loss: 0.554\n",
      "Epoch: 82, loss: 0.573\n",
      "Epoch: 83, loss: 0.56\n",
      "Epoch: 84, loss: 0.551\n",
      "Epoch: 85, loss: 0.546\n",
      "Epoch: 86, loss: 0.529\n",
      "Epoch: 87, loss: 0.508\n",
      "Epoch: 88, loss: 0.513\n",
      "Epoch: 89, loss: 0.491\n",
      "Epoch: 90, loss: 0.503\n",
      "Epoch: 91, loss: 0.48\n",
      "Epoch: 92, loss: 0.458\n",
      "Epoch: 93, loss: 0.433\n",
      "Epoch: 94, loss: 0.459\n",
      "Epoch: 95, loss: 0.445\n",
      "Epoch: 96, loss: 0.418\n",
      "Epoch: 97, loss: 0.412\n",
      "Epoch: 98, loss: 0.4\n",
      "Epoch: 99, loss: 0.413\n"
     ]
    }
   ],
   "source": [
    "model.train() \n",
    "\n",
    "# Training loop\n",
    "for epoch in range(100):\n",
    "    for data_inputs, data_labels in train_data_loader:\n",
    "\n",
    "        ## Step 1: Move input data to device (only strictly necessary if we use GPU)\n",
    "        data_inputs = data_inputs.to(device)\n",
    "        data_labels = data_labels.to(device)\n",
    "\n",
    "        ## Step 2: Run the model on the input data\n",
    "        preds = model(data_inputs)\n",
    "        preds = preds.squeeze(dim=1) # Output is [Batch size, 1], but we want [Batch size]\n",
    "\n",
    "        ## Step 3: Calculate the loss\n",
    "        loss = loss_module(preds, data_labels.float())\n",
    "\n",
    "        ## Step 4: Perform backpropagation\n",
    "        # Before calculating the gradients, we need to ensure that they are all zero. \n",
    "        # The gradients would not be overwritten, but actually added to the existing ones.\n",
    "        optimizer.zero_grad() \n",
    "        # Perform backpropagation\n",
    "        loss.backward()\n",
    "\n",
    "        ## Step 5: Update the parameters\n",
    "        optimizer.step()\n",
    "    print(f\"Epoch: {epoch}, loss: {loss.item():.3}\")"
   ]
  },
  {
   "cell_type": "markdown",
   "metadata": {},
   "source": [
    "### Ewaluacja"
   ]
  },
  {
   "cell_type": "code",
   "execution_count": null,
   "metadata": {
    "ExecuteTime": {
     "end_time": "2021-10-15T07:51:38.845537Z",
     "start_time": "2021-10-15T07:51:38.840121Z"
    }
   },
   "outputs": [
    {
     "name": "stdout",
     "output_type": "stream",
     "text": [
      "<__main__.XORDataset object at 0x0000021DCDDDF390>\n"
     ]
    }
   ],
   "source": [
    "test_dataset = XORDataset(size=500)\n",
    "# drop_last -> Don't drop the last batch although it is smaller than 128\n",
    "test_data_loader = data.DataLoader(test_dataset, batch_size=128, shuffle=False, drop_last=False)"
   ]
  },
  {
   "cell_type": "code",
   "execution_count": null,
   "metadata": {
    "ExecuteTime": {
     "end_time": "2021-10-15T07:53:40.557355Z",
     "start_time": "2021-10-15T07:53:40.525176Z"
    }
   },
   "outputs": [
    {
     "name": "stdout",
     "output_type": "stream",
     "text": [
      "Accuracy of the model: 98.40%\n"
     ]
    }
   ],
   "source": [
    "model.eval() # Set model to eval mode\n",
    "true_preds, num_preds = 0., 0.\n",
    "\n",
    "with torch.no_grad(): # Deactivate gradients for the following code\n",
    "    for data_inputs, data_labels in test_data_loader:\n",
    "\n",
    "        # Determine prediction of model on dev set\n",
    "        data_inputs, data_labels = data_inputs.to(device), data_labels.to(device)\n",
    "        preds = model(data_inputs)\n",
    "        preds = preds.squeeze(dim=1)\n",
    "        preds = torch.sigmoid(preds) # Sigmoid to map predictions between 0 and 1\n",
    "        pred_labels = (preds >= 0.5).long() # Binarize predictions to 0 and 1\n",
    "\n",
    "        # Keep records of predictions for the accuracy metric (true_preds=TP+TN, num_preds=TP+TN+FP+FN)\n",
    "        true_preds += (pred_labels == data_labels).sum()\n",
    "        num_preds += data_labels.shape[0]\n",
    "\n",
    "acc = true_preds / num_preds\n",
    "print(f\"Accuracy of the model: {100.0*acc:4.2f}%\")"
   ]
  },
  {
   "cell_type": "code",
   "execution_count": null,
   "metadata": {
    "ExecuteTime": {
     "end_time": "2021-10-15T07:54:21.054767Z",
     "start_time": "2021-10-15T07:54:21.050577Z"
    }
   },
   "outputs": [],
   "source": [
    "from matplotlib.colors import to_rgba"
   ]
  },
  {
   "cell_type": "code",
   "execution_count": null,
   "metadata": {
    "ExecuteTime": {
     "end_time": "2021-10-15T07:54:23.136789Z",
     "start_time": "2021-10-15T07:54:23.089427Z"
    }
   },
   "outputs": [
    {
     "data": {
      "image/png": "[encoded data removed]",
      "text/plain": [
       "<Figure size 400x400 with 1 Axes>"
      ]
     },
     "metadata": {},
     "output_type": "display_data"
    }
   ],
   "source": [
    "%matplotlib inline\n",
    "with torch.no_grad():\n",
    "    data = test_dataset.data.cpu().numpy()\n",
    "    label = test_dataset.label.cpu().numpy()\n",
    "    data_0 = data[label == 0]\n",
    "    data_1 = data[label == 1]\n",
    "\n",
    "    plt.figure(figsize=(4,4))\n",
    "    plt.scatter(data_0[:,0], data_0[:,1], edgecolor=\"#333\", label=\"Class 0\")\n",
    "    plt.scatter(data_1[:,0], data_1[:,1], edgecolor=\"#333\", label=\"Class 1\")\n",
    "    plt.title(\"Dataset samples\")\n",
    "    plt.ylabel(r\"$x_2$\")\n",
    "    plt.xlabel(r\"$x_1$\")\n",
    "    plt.legend()\n",
    "\n",
    "    # Let's make use of a lot of operations we have learned above\n",
    "    model.to(device)\n",
    "    c0 = torch.Tensor(to_rgba(\"C0\")).to(device)\n",
    "    c1 = torch.Tensor(to_rgba(\"C1\")).to(device)\n",
    "    x1 = torch.arange(-0.5, 1.5, step=0.01, device=device)\n",
    "    x2 = torch.arange(-0.5, 1.5, step=0.01, device=device)\n",
    "    xx1, xx2 = torch.meshgrid(x1, x2) # Meshgrid function as in numpy\n",
    "    model_inputs = torch.stack([xx1, xx2], dim=-1)\n",
    "    preds = model(model_inputs)\n",
    "    preds = torch.sigmoid(preds)\n",
    "    output_image = preds * c0[None,None] + (1 - preds) * c1[None,None] # Specifying \"None\" in a dimension creates a new one\n",
    "    output_image = output_image.cpu().numpy() # Convert to numpy array. This only works for tensors on CPU, hence first push to CPU\n",
    "    plt.imshow(output_image, origin='upper', extent=(-0.5, 1.5, -0.5, 1.5))\n",
    "    plt.grid(False)"
   ]
  },
  {
   "cell_type": "markdown",
   "metadata": {},
   "source": [
    "## Zapisywanie i wczytywanie modelu"
   ]
  },
  {
   "cell_type": "code",
   "execution_count": null,
   "metadata": {
    "ExecuteTime": {
     "end_time": "2021-10-15T07:58:49.846379Z",
     "start_time": "2021-10-15T07:58:49.834095Z"
    }
   },
   "outputs": [
    {
     "name": "stdout",
     "output_type": "stream",
     "text": [
      "OrderedDict([('linear1.weight', tensor([[ 1.0805, -1.0958],\n",
      "        [ 0.4020, -0.0026],\n",
      "        [-0.8495,  0.6785],\n",
      "        [-1.9741,  1.7927]], device='cuda:0')), ('linear1.bias', tensor([-0.5556, -0.3273,  0.3918, -0.9681], device='cuda:0')), ('linear2.weight', tensor([[ 1.1126, -0.0387, -0.8825,  1.9437]], device='cuda:0')), ('linear2.bias', tensor([1.3216], device='cuda:0'))])\n"
     ]
    }
   ],
   "source": [
    "state_dict = model.state_dict()\n",
    "print(state_dict)"
   ]
  },
  {
   "cell_type": "code",
   "execution_count": null,
   "metadata": {
    "ExecuteTime": {
     "end_time": "2021-10-15T07:58:50.958873Z",
     "start_time": "2021-10-15T07:58:50.953220Z"
    }
   },
   "outputs": [],
   "source": [
    "torch.save(state_dict, \"simple_model.tar\")"
   ]
  },
  {
   "cell_type": "code",
   "execution_count": null,
   "metadata": {
    "ExecuteTime": {
     "end_time": "2021-10-15T07:59:05.568057Z",
     "start_time": "2021-10-15T07:59:05.547564Z"
    }
   },
   "outputs": [
    {
     "name": "stdout",
     "output_type": "stream",
     "text": [
      "Original model\n",
      " OrderedDict([('linear1.weight', tensor([[ 1.0805, -1.0958],\n",
      "        [ 0.4020, -0.0026],\n",
      "        [-0.8495,  0.6785],\n",
      "        [-1.9741,  1.7927]], device='cuda:0')), ('linear1.bias', tensor([-0.5556, -0.3273,  0.3918, -0.9681], device='cuda:0')), ('linear2.weight', tensor([[ 1.1126, -0.0387, -0.8825,  1.9437]], device='cuda:0')), ('linear2.bias', tensor([1.3216], device='cuda:0'))])\n",
      "\n",
      "Loaded model\n",
      " OrderedDict([('linear1.weight', tensor([[ 1.0805, -1.0958],\n",
      "        [ 0.4020, -0.0026],\n",
      "        [-0.8495,  0.6785],\n",
      "        [-1.9741,  1.7927]], device='cuda:0')), ('linear1.bias', tensor([-0.5556, -0.3273,  0.3918, -0.9681], device='cuda:0')), ('linear2.weight', tensor([[ 1.1126, -0.0387, -0.8825,  1.9437]], device='cuda:0')), ('linear2.bias', tensor([1.3216], device='cuda:0'))])\n"
     ]
    }
   ],
   "source": [
    "# Load state dict from the disk (make sure it is the same name as above)\n",
    "state_dict = torch.load(\"simple_model.tar\")\n",
    "\n",
    "# Create a new model and load the state\n",
    "new_model = SimpleClassifier(num_inputs=2, num_hidden=4, num_outputs=1).to(device)\n",
    "new_model.load_state_dict(state_dict)\n",
    "# Verify that the parameters are the same\n",
    "print(\"Original model\\n\", model.state_dict())\n",
    "print(\"\\nLoaded model\\n\", new_model.state_dict())"
   ]
  },
  {
   "cell_type": "markdown",
   "metadata": {},
   "source": [
    "## Zrób to sam. Polecane przećwiczyć przed kolejnymi ćwiczeniami.\n",
    "\n",
    "Spróbujmy przewidzieć ocenę wina na podstawie jego parametrów"
   ]
  },
  {
   "cell_type": "code",
   "execution_count": 29,
   "metadata": {
    "ExecuteTime": {
     "end_time": "2021-10-11T15:54:03.496453Z",
     "start_time": "2021-10-11T15:53:59.598809Z"
    }
   },
   "outputs": [],
   "source": [
    "import pandas as pd\n",
    "df = pd.read_csv('https://archive.ics.uci.edu/ml/machine-learning-databases/wine-quality/winequality-white.csv', delimiter=\";\")"
   ]
  },
  {
   "cell_type": "markdown",
   "metadata": {},
   "source": [
    "#### ... Jakieś wstępne przetwarzanie danych?"
   ]
  },
  {
   "cell_type": "code",
   "execution_count": 30,
   "metadata": {
    "ExecuteTime": {
     "end_time": "2021-10-09T07:01:02.263945Z",
     "start_time": "2021-10-09T07:01:02.252840Z"
    }
   },
   "outputs": [],
   "source": [
    "df = df.astype('float32')\n",
    "train=df.sample(frac=0.8,random_state=200) #random state is a seed value\n",
    "test=df.drop(train.index)"
   ]
  },
  {
   "cell_type": "code",
   "execution_count": 31,
   "metadata": {
    "ExecuteTime": {
     "end_time": "2021-10-09T07:02:23.882290Z",
     "start_time": "2021-10-09T07:02:23.878126Z"
    }
   },
   "outputs": [],
   "source": [
    "import torch.utils.data as data"
   ]
  },
  {
   "cell_type": "code",
   "execution_count": 32,
   "metadata": {
    "ExecuteTime": {
     "end_time": "2021-10-09T07:06:07.644344Z",
     "start_time": "2021-10-09T07:06:07.634358Z"
    }
   },
   "outputs": [],
   "source": [
    "train_dataset = data.TensorDataset(torch.from_numpy(train.values[:,:-1]),torch.from_numpy(train.values[:,-1]))\n",
    "test_dataset = data.TensorDataset(torch.from_numpy(test.values[:,:-1]),torch.from_numpy(test.values[:,-1]))\n",
    "# train_dataset = data.TensorDataset(torch.from_numpy(train.values[:,:-1]),torch.from_numpy(train.values[:,-1]).long())\n",
    "# test_dataset = data.TensorDataset(torch.from_numpy(test.values[:,:-1]),torch.from_numpy(test.values[:,-1]).long())\n",
    "train_data_loader = data.DataLoader(train_dataset, batch_size=128, shuffle=False)\n",
    "test_data_loader = data.DataLoader(test_dataset, batch_size=128, shuffle=False, drop_last=False)"
   ]
  },
  {
   "cell_type": "code",
   "execution_count": 75,
   "metadata": {},
   "outputs": [],
   "source": [
    "class WineEvaluator(nn.Module):\n",
    "\n",
    "    def __init__(self, num_inputs, num_hidden, num_outputs):\n",
    "        super().__init__()\n",
    "        # Initialize the modules we need to build the network\n",
    "        self.linear1 = nn.Linear(num_inputs, num_hidden)\n",
    "        self.batch_norm = nn.BatchNorm1d(num_hidden)\n",
    "        self.act_fn = nn.LeakyReLU()\n",
    "        self.linear2 = nn.Linear(num_hidden, num_hidden)\n",
    "        self.batch_norm2 = nn.BatchNorm1d(num_hidden)\n",
    "        self.linear3 = nn.Linear(num_hidden, num_outputs)\n",
    "\n",
    "    def forward(self, x):\n",
    "        # Perform the calculation of the model to determine the prediction\n",
    "        x = self.linear1(x)\n",
    "        x = self.batch_norm(x)\n",
    "        x = self.act_fn(x)\n",
    "        x = self.linear2(x)\n",
    "        x = self.batch_norm2(x)\n",
    "        x = self.act_fn(x)\n",
    "        x = self.linear3(x)\n",
    "        return x"
   ]
  },
  {
   "cell_type": "code",
   "execution_count": 84,
   "metadata": {},
   "outputs": [
    {
     "name": "stdout",
     "output_type": "stream",
     "text": [
      "Epoch: 0, loss: 24.0\n",
      "Epoch: 1, loss: 15.9\n",
      "Epoch: 2, loss: 9.45\n",
      "Epoch: 3, loss: 4.79\n",
      "Epoch: 4, loss: 2.12\n",
      "Epoch: 5, loss: 0.983\n",
      "Epoch: 6, loss: 0.652\n",
      "Epoch: 7, loss: 0.585\n",
      "Epoch: 8, loss: 0.567\n",
      "Epoch: 9, loss: 0.559\n",
      "Epoch: 10, loss: 0.551\n",
      "Epoch: 11, loss: 0.548\n",
      "Epoch: 12, loss: 0.548\n",
      "Epoch: 13, loss: 0.537\n",
      "Epoch: 14, loss: 0.526\n",
      "Epoch: 15, loss: 0.502\n",
      "Epoch: 16, loss: 0.501\n",
      "Epoch: 17, loss: 0.5\n",
      "Epoch: 18, loss: 0.503\n",
      "Epoch: 19, loss: 0.497\n",
      "Epoch: 20, loss: 0.486\n",
      "Epoch: 21, loss: 0.483\n",
      "Epoch: 22, loss: 0.476\n",
      "Epoch: 23, loss: 0.474\n",
      "Epoch: 24, loss: 0.473\n",
      "Epoch: 25, loss: 0.463\n",
      "Epoch: 26, loss: 0.467\n",
      "Epoch: 27, loss: 0.456\n",
      "Epoch: 28, loss: 0.454\n",
      "Epoch: 29, loss: 0.45\n",
      "Epoch: 30, loss: 0.448\n",
      "Epoch: 31, loss: 0.443\n",
      "Epoch: 32, loss: 0.438\n",
      "Epoch: 33, loss: 0.434\n",
      "Epoch: 34, loss: 0.432\n",
      "Epoch: 35, loss: 0.429\n",
      "Epoch: 36, loss: 0.428\n",
      "Epoch: 37, loss: 0.424\n",
      "Epoch: 38, loss: 0.422\n",
      "Epoch: 39, loss: 0.417\n",
      "Epoch: 40, loss: 0.422\n",
      "Epoch: 41, loss: 0.414\n",
      "Epoch: 42, loss: 0.414\n",
      "Epoch: 43, loss: 0.411\n",
      "Epoch: 44, loss: 0.406\n",
      "Epoch: 45, loss: 0.407\n",
      "Epoch: 46, loss: 0.401\n",
      "Epoch: 47, loss: 0.404\n",
      "Epoch: 48, loss: 0.399\n",
      "Epoch: 49, loss: 0.395\n",
      "Epoch: 50, loss: 0.394\n",
      "Epoch: 51, loss: 0.391\n",
      "Epoch: 52, loss: 0.389\n",
      "Epoch: 53, loss: 0.386\n",
      "Epoch: 54, loss: 0.387\n",
      "Epoch: 55, loss: 0.381\n",
      "Epoch: 56, loss: 0.38\n",
      "Epoch: 57, loss: 0.378\n",
      "Epoch: 58, loss: 0.375\n",
      "Epoch: 59, loss: 0.375\n",
      "Epoch: 60, loss: 0.374\n",
      "Epoch: 61, loss: 0.37\n",
      "Epoch: 62, loss: 0.366\n",
      "Epoch: 63, loss: 0.368\n",
      "Epoch: 64, loss: 0.369\n",
      "Epoch: 65, loss: 0.363\n",
      "Epoch: 66, loss: 0.364\n",
      "Epoch: 67, loss: 0.36\n",
      "Epoch: 68, loss: 0.364\n",
      "Epoch: 69, loss: 0.358\n",
      "Epoch: 70, loss: 0.361\n",
      "Epoch: 71, loss: 0.357\n",
      "Epoch: 72, loss: 0.359\n",
      "Epoch: 73, loss: 0.356\n",
      "Epoch: 74, loss: 0.357\n",
      "Epoch: 75, loss: 0.352\n",
      "Epoch: 76, loss: 0.353\n",
      "Epoch: 77, loss: 0.347\n",
      "Epoch: 78, loss: 0.351\n",
      "Epoch: 79, loss: 0.347\n",
      "Epoch: 80, loss: 0.347\n",
      "Epoch: 81, loss: 0.343\n",
      "Epoch: 82, loss: 0.345\n",
      "Epoch: 83, loss: 0.344\n",
      "Epoch: 84, loss: 0.342\n",
      "Epoch: 85, loss: 0.345\n",
      "Epoch: 86, loss: 0.343\n",
      "Epoch: 87, loss: 0.341\n",
      "Epoch: 88, loss: 0.341\n",
      "Epoch: 89, loss: 0.34\n",
      "Epoch: 90, loss: 0.34\n",
      "Epoch: 91, loss: 0.337\n",
      "Epoch: 92, loss: 0.339\n",
      "Epoch: 93, loss: 0.335\n",
      "Epoch: 94, loss: 0.338\n",
      "Epoch: 95, loss: 0.334\n",
      "Epoch: 96, loss: 0.338\n",
      "Epoch: 97, loss: 0.336\n",
      "Epoch: 98, loss: 0.337\n",
      "Epoch: 99, loss: 0.332\n"
     ]
    }
   ],
   "source": [
    "model = WineEvaluator(num_inputs=11, num_hidden=64, num_outputs=1)\n",
    "# model = WineEvaluator(num_inputs=11, num_hidden=64, num_outputs=11)\n",
    "model.to(device)\n",
    "\n",
    "optimizer = torch.optim.Adam(model.parameters(), lr = 0.001)\n",
    "\n",
    "loss_module = nn.MSELoss()\n",
    "# loss_module = nn.CrossEntropyLoss()\n",
    "\n",
    "model.train() \n",
    "\n",
    "# Training loop\n",
    "for epoch in range(100):\n",
    "    for data_inputs, data_labels in train_data_loader:\n",
    "\n",
    "        ## Step 1: Move input data to device (only strictly necessary if we use GPU)\n",
    "        data_inputs = data_inputs.to(device)\n",
    "        data_labels = data_labels.to(device)\n",
    "\n",
    "        ## Step 2: Run the model on the input data\n",
    "        preds = model(data_inputs)\n",
    "        preds = preds.squeeze(dim=1) # Output is [Batch size, 1], but we want [Batch size]\n",
    "\n",
    "        ## Step 3: Calculate the loss\n",
    "        loss = loss_module(preds, data_labels)\n",
    "\n",
    "        ## Step 4: Perform backpropagation\n",
    "        # Before calculating the gradients, we need to ensure that they are all zero. \n",
    "        # The gradients would not be overwritten, but actually added to the existing ones.\n",
    "        optimizer.zero_grad() \n",
    "        # Perform backpropagation\n",
    "        loss.backward()\n",
    "\n",
    "        ## Step 5: Update the parameters\n",
    "        optimizer.step()\n",
    "    print(f\"Epoch: {epoch}, loss: {loss.item():.3}\")\n",
    "\n"
   ]
  },
  {
   "cell_type": "code",
   "execution_count": 83,
   "metadata": {},
   "outputs": [
    {
     "name": "stdout",
     "output_type": "stream",
     "text": [
      "Accuracy of the model: 51.43%\n"
     ]
    }
   ],
   "source": [
    "model.eval() # Set model to eval mode\n",
    "true_preds, num_preds = 0., 0.\n",
    "\n",
    "with torch.no_grad(): # Deactivate gradients for the following code\n",
    "    for data_inputs, data_labels in test_data_loader:\n",
    "\n",
    "        # Determine prediction of model on dev set\n",
    "        data_inputs, data_labels = data_inputs.to(device), data_labels.to(device)\n",
    "        preds = model(data_inputs)\n",
    "        preds = preds.squeeze(dim=1)\n",
    "        pred_labels = torch.round(preds)\n",
    "        # pred_labels = torch.argmax(preds, dim=1)\n",
    "\n",
    "        # Keep records of predictions for the accuracy metric (true_preds=TP+TN, num_preds=TP+TN+FP+FN)\n",
    "        true_preds += (pred_labels == data_labels).sum()\n",
    "        num_preds += data_labels.shape[0]\n",
    "\n",
    "acc = true_preds / num_preds\n",
    "print(f\"Accuracy of the model: {100.0*acc:4.2f}%\")"
   ]
  }
 ],
 "metadata": {
  "kernelspec": {
   "display_name": "Python 3",
   "language": "python",
   "name": "python3"
  },
  "language_info": {
   "codemirror_mode": {
    "name": "ipython",
    "version": 3
   },
   "file_extension": ".py",
   "mimetype": "text/x-python",
   "name": "python",
   "nbconvert_exporter": "python",
   "pygments_lexer": "ipython3",
   "version": "3.11.9"
  },
  "varInspector": {
   "cols": {
    "lenName": 16,
    "lenType": 16,
    "lenVar": 40
   },
   "kernels_config": {
    "python": {
     "delete_cmd_postfix": "",
     "delete_cmd_prefix": "del ",
     "library": "var_list.py",
     "varRefreshCmd": "print(var_dic_list())"
    },
    "r": {
     "delete_cmd_postfix": ") ",
     "delete_cmd_prefix": "rm(",
     "library": "var_list.r",
     "varRefreshCmd": "cat(var_dic_list()) "
    }
   },
   "types_to_exclude": [
    "module",
    "function",
    "builtin_function_or_method",
    "instance",
    "_Feature"
   ],
   "window_display": false
  }
 },
 "nbformat": 4,
 "nbformat_minor": 4
}
